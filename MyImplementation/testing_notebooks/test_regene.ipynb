{
 "cells": [
  {
   "cell_type": "markdown",
   "metadata": {
    "id": "16Syh6UarIMP"
   },
   "source": [
    "# Testing penultimate layer reconstruction\n",
    "This notebook tests the reconstruction quality of data decoded from the penultimate layer of a classification model.\n",
    "The various setups are as follows:\n",
    "- Standard classifier, with decoder trained on penultimate layer (classifier weights frozen, only trained on cross-entropy loss)\n",
    "- Joint Training, with a joint loss for the classifier of reconstruction and cross-entropy loss (and of course only reconstruction loss for decoder)\n",
    "- Separate training of encoder and classification layer, where the encoder is trained only to minimise reconstruciton loss (i.e. a classifier layer is trained on the latent space of an autoencoder)\n",
    "- Supervised VAE, with a joint loss function and variational inference/latent regularisation\n",
    "\n"
   ]
  },
  {
   "cell_type": "markdown",
   "metadata": {
    "id": "91FDiiRSrJN3"
   },
   "source": [
    "Set this to True if in Drive"
   ]
  },
  {
   "cell_type": "code",
   "execution_count": 1,
   "metadata": {
    "executionInfo": {
     "elapsed": 933,
     "status": "ok",
     "timestamp": 1738416226160,
     "user": {
      "displayName": "Conor Finlay",
      "userId": "06245016195405942659"
     },
     "user_tz": 0
    },
    "id": "6f6zudBdrLUK"
   },
   "outputs": [],
   "source": [
    "inDrive = False"
   ]
  },
  {
   "cell_type": "code",
   "execution_count": 2,
   "metadata": {
    "colab": {
     "base_uri": "https://localhost:8080/"
    },
    "executionInfo": {
     "elapsed": 24407,
     "status": "ok",
     "timestamp": 1738416252662,
     "user": {
      "displayName": "Conor Finlay",
      "userId": "06245016195405942659"
     },
     "user_tz": 0
    },
    "id": "_1naejwjrPrw",
    "outputId": "458c2389-4fbf-41ff-8aff-f35d8dd64b99"
   },
   "outputs": [],
   "source": [
    "if inDrive:\n",
    "    from google.colab import drive\n",
    "    drive.mount('/content/drive')\n",
    "    import os\n",
    "    os.chdir('/content/drive/My Drive/Hybrid-CLUE/ReGene')"
   ]
  },
  {
   "cell_type": "code",
   "execution_count": 3,
   "metadata": {},
   "outputs": [],
   "source": [
    "training = False"
   ]
  },
  {
   "cell_type": "markdown",
   "metadata": {
    "id": "5ql7lo3crIMS"
   },
   "source": [
    "## Setup\n"
   ]
  },
  {
   "cell_type": "markdown",
   "metadata": {
    "id": "EY0jfwx-rIMT"
   },
   "source": [
    "Import libraries"
   ]
  },
  {
   "cell_type": "code",
   "execution_count": 4,
   "metadata": {
    "executionInfo": {
     "elapsed": 429,
     "status": "ok",
     "timestamp": 1738416279373,
     "user": {
      "displayName": "Conor Finlay",
      "userId": "06245016195405942659"
     },
     "user_tz": 0
    },
    "id": "P7cLQC-CrIMT"
   },
   "outputs": [],
   "source": [
    "import importlib\n",
    "import models.regene_models as regene_models\n",
    "importlib.reload(regene_models)\n",
    "import torch\n",
    "import torch.nn as nn\n",
    "import torch.optim as optim\n",
    "import torchvision\n",
    "import torchvision.transforms as transforms\n",
    "import matplotlib.pyplot as plt\n",
    "import numpy as np\n",
    "import os"
   ]
  },
  {
   "cell_type": "markdown",
   "metadata": {
    "id": "LAtZyKrkrIMV"
   },
   "source": [
    "Set the device"
   ]
  },
  {
   "cell_type": "code",
   "execution_count": 5,
   "metadata": {
    "colab": {
     "base_uri": "https://localhost:8080/"
    },
    "executionInfo": {
     "elapsed": 2,
     "status": "ok",
     "timestamp": 1738416280355,
     "user": {
      "displayName": "Conor Finlay",
      "userId": "06245016195405942659"
     },
     "user_tz": 0
    },
    "id": "Ii_Eu03XrIMV",
    "outputId": "2feec7d0-165e-4d21-94fd-3dab13be1003"
   },
   "outputs": [
    {
     "name": "stdout",
     "output_type": "stream",
     "text": [
      "Using device: mps\n"
     ]
    }
   ],
   "source": [
    "if torch.cuda.is_available():\n",
    "    device = torch.device(\"cuda\")\n",
    "elif torch.backends.mps.is_available():\n",
    "    device = torch.device(\"mps\")\n",
    "else:\n",
    "    device = torch.device(\"cpu\")\n",
    "\n",
    "print(f\"Using device: {device}\")"
   ]
  },
  {
   "cell_type": "markdown",
   "metadata": {
    "id": "gftD5BDWrIMV"
   },
   "source": [
    "Load the Datasets"
   ]
  },
  {
   "cell_type": "code",
   "execution_count": 6,
   "metadata": {
    "executionInfo": {
     "elapsed": 4006,
     "status": "ok",
     "timestamp": 1738416284360,
     "user": {
      "displayName": "Conor Finlay",
      "userId": "06245016195405942659"
     },
     "user_tz": 0
    },
    "id": "7yv60c-qrIMW"
   },
   "outputs": [],
   "source": [
    "# Load the MNIST dataset\n",
    "transform = transforms.Compose([transforms.ToTensor()])\n",
    "trainset = torchvision.datasets.MNIST(root='../data', train=True, download=True, transform=transform)\n",
    "trainloader = torch.utils.data.DataLoader(trainset, batch_size=64, shuffle=True, num_workers=2)"
   ]
  },
  {
   "cell_type": "markdown",
   "metadata": {
    "id": "yUjPl5N9rIMW"
   },
   "source": [
    "Set the latent dimension"
   ]
  },
  {
   "cell_type": "code",
   "execution_count": 7,
   "metadata": {
    "executionInfo": {
     "elapsed": 2,
     "status": "ok",
     "timestamp": 1738416284360,
     "user": {
      "displayName": "Conor Finlay",
      "userId": "06245016195405942659"
     },
     "user_tz": 0
    },
    "id": "6Xjz-tRvrIMX"
   },
   "outputs": [],
   "source": [
    "latent_dim = 256"
   ]
  },
  {
   "cell_type": "markdown",
   "metadata": {
    "id": "D-wR1-bhrIMX"
   },
   "source": [
    "Create a models directory if it doesn't exist"
   ]
  },
  {
   "cell_type": "code",
   "execution_count": 8,
   "metadata": {
    "executionInfo": {
     "elapsed": 2,
     "status": "ok",
     "timestamp": 1738416284360,
     "user": {
      "displayName": "Conor Finlay",
      "userId": "06245016195405942659"
     },
     "user_tz": 0
    },
    "id": "zr2HYDL4rIMX"
   },
   "outputs": [],
   "source": [
    "# Create models directory in parent directory if it doesn't exist\n",
    "os.makedirs(os.path.join('..', 'model_saves'), exist_ok=True)\n",
    "model_saves_path = os.path.join('..', 'model_saves')"
   ]
  },
  {
   "cell_type": "markdown",
   "metadata": {
    "id": "zMfg74mCrIMX"
   },
   "source": [
    "## Classifier"
   ]
  },
  {
   "cell_type": "markdown",
   "metadata": {
    "id": "ko_47G1yrIMX"
   },
   "source": [
    "### Training"
   ]
  },
  {
   "cell_type": "markdown",
   "metadata": {
    "id": "1RZdbTR0rIMX"
   },
   "source": [
    "First we define the classifier"
   ]
  },
  {
   "cell_type": "code",
   "execution_count": 9,
   "metadata": {
    "executionInfo": {
     "elapsed": 603,
     "status": "ok",
     "timestamp": 1738416289543,
     "user": {
      "displayName": "Conor Finlay",
      "userId": "06245016195405942659"
     },
     "user_tz": 0
    },
    "id": "Vhd6FUyQrIMX"
   },
   "outputs": [],
   "source": [
    "classifier = regene_models.Classifier(latent_dim=latent_dim, num_classes=10, device=device)"
   ]
  },
  {
   "cell_type": "markdown",
   "metadata": {
    "id": "K1NvC6m5rIMY"
   },
   "source": [
    "Then we train"
   ]
  },
  {
   "cell_type": "code",
   "execution_count": 10,
   "metadata": {
    "colab": {
     "base_uri": "https://localhost:8080/"
    },
    "executionInfo": {
     "elapsed": 39454,
     "status": "ok",
     "timestamp": 1738416328996,
     "user": {
      "displayName": "Conor Finlay",
      "userId": "06245016195405942659"
     },
     "user_tz": 0
    },
    "id": "W3TPpBKCrIMY",
    "outputId": "14061e25-11c8-4d53-99c6-6518d443054b"
   },
   "outputs": [],
   "source": [
    "# Train classifier and save\n",
    "if training:\n",
    "    classifier.train_classifier(trainloader, num_epochs=10, lr=0.001)\n",
    "    torch.save(classifier.state_dict(), os.path.join(model_saves_path, 'classifier.pth'))"
   ]
  },
  {
   "cell_type": "markdown",
   "metadata": {},
   "source": [
    "### Loading\n",
    "Load the classifier"
   ]
  },
  {
   "cell_type": "code",
   "execution_count": 11,
   "metadata": {},
   "outputs": [
    {
     "name": "stderr",
     "output_type": "stream",
     "text": [
      "/var/folders/tb/ccwl9r592hn9v_xpq9s1bzlr0000gn/T/ipykernel_10803/1365348556.py:1: FutureWarning: You are using `torch.load` with `weights_only=False` (the current default value), which uses the default pickle module implicitly. It is possible to construct malicious pickle data which will execute arbitrary code during unpickling (See https://github.com/pytorch/pytorch/blob/main/SECURITY.md#untrusted-models for more details). In a future release, the default value for `weights_only` will be flipped to `True`. This limits the functions that could be executed during unpickling. Arbitrary objects will no longer be allowed to be loaded via this mode unless they are explicitly allowlisted by the user via `torch.serialization.add_safe_globals`. We recommend you start setting `weights_only=True` for any use case where you don't have full control of the loaded file. Please open an issue on GitHub for any issues related to this experimental feature.\n",
      "  classifier.load_state_dict(torch.load(os.path.join(model_saves_path, 'classifier.pth'), map_location=device))\n"
     ]
    },
    {
     "data": {
      "text/plain": [
       "<All keys matched successfully>"
      ]
     },
     "execution_count": 11,
     "metadata": {},
     "output_type": "execute_result"
    }
   ],
   "source": [
    "classifier.load_state_dict(torch.load(os.path.join(model_saves_path, 'classifier.pth'), map_location=device))"
   ]
  },
  {
   "cell_type": "markdown",
   "metadata": {
    "id": "v2MVuhCDrIMY"
   },
   "source": [
    "### Testing\n"
   ]
  },
  {
   "cell_type": "markdown",
   "metadata": {
    "id": "veop4S6FrIMY"
   },
   "source": [
    "First let's test the classifier on a few images"
   ]
  },
  {
   "cell_type": "code",
   "execution_count": 12,
   "metadata": {
    "colab": {
     "base_uri": "https://localhost:8080/",
     "height": 322
    },
    "executionInfo": {
     "elapsed": 1011,
     "status": "ok",
     "timestamp": 1738416330004,
     "user": {
      "displayName": "Conor Finlay",
      "userId": "06245016195405942659"
     },
     "user_tz": 0
    },
    "id": "FUUfJPA_rIMY",
    "outputId": "29c6b11e-5ad4-4435-b01f-ccc6bb2cfdb8"
   },
   "outputs": [
    {
     "data": {
      "image/png": "[encoded data removed]",
      "text/plain": [
       "<Figure size 1500x300 with 5 Axes>"
      ]
     },
     "metadata": {},
     "output_type": "display_data"
    }
   ],
   "source": [
    "# Get random indices for test images\n",
    "random_indices = torch.randint(0, len(trainset), (5,))\n",
    "images = torch.stack([trainset[i][0] for i in random_indices])\n",
    "labels = torch.tensor([trainset[i][1] for i in random_indices])\n",
    "\n",
    "# Get predictions\n",
    "classifier.eval()  # Set to evaluation mode\n",
    "with torch.no_grad():\n",
    "    images = images.to(device)\n",
    "    _, predictions = classifier(images)\n",
    "    predicted_classes = torch.argmax(predictions, dim=1)\n",
    "\n",
    "# Plot images with true and predicted labels\n",
    "plt.figure(figsize=(15, 3))\n",
    "for i in range(5):\n",
    "    plt.subplot(1, 5, i + 1)\n",
    "    plt.imshow(images[i].cpu().squeeze().numpy(), cmap='gray')\n",
    "    plt.title(f'True: {labels[i].item()}\\nPred: {predicted_classes[i].cpu().item()}')\n",
    "    plt.axis('off')\n",
    "\n",
    "plt.tight_layout()\n",
    "plt.show()\n"
   ]
  },
  {
   "cell_type": "markdown",
   "metadata": {
    "id": "ginSsV0NrIMY"
   },
   "source": [
    "We'll also visualise the latent space. This is done by taking the latent representations of 50 training images and plotting them in 2D using t-SNE."
   ]
  },
  {
   "cell_type": "code",
   "execution_count": 13,
   "metadata": {
    "colab": {
     "base_uri": "https://localhost:8080/",
     "height": 718
    },
    "executionInfo": {
     "elapsed": 4546,
     "status": "ok",
     "timestamp": 1738416334546,
     "user": {
      "displayName": "Conor Finlay",
      "userId": "06245016195405942659"
     },
     "user_tz": 0
    },
    "id": "WaX1iE6arIMY",
    "outputId": "ead8ad8a-855f-4620-9989-dd5fc0cf7bc1"
   },
   "outputs": [
    {
     "data": {
      "image/png": "[encoded data removed]",
      "text/plain": [
       "<Figure size 1000x800 with 2 Axes>"
      ]
     },
     "metadata": {},
     "output_type": "display_data"
    }
   ],
   "source": [
    "# Get latent representations for 50 random training images\n",
    "random_indices = torch.randint(0, len(trainset), (1000,))\n",
    "images = torch.stack([trainset[i][0] for i in random_indices])\n",
    "labels = torch.tensor([trainset[i][1] for i in random_indices])\n",
    "\n",
    "# Get latent representations\n",
    "classifier.eval()\n",
    "with torch.no_grad():\n",
    "    images = images.to(device)\n",
    "    latent_reps, _ = classifier(images)\n",
    "    latent_reps = latent_reps.cpu().numpy()\n",
    "\n",
    "# Perform t-SNE dimensionality reduction\n",
    "from sklearn.manifold import TSNE\n",
    "tsne = TSNE(n_components=2, random_state=42)\n",
    "latent_2d = tsne.fit_transform(latent_reps)\n",
    "\n",
    "# Plot the 2D latent space\n",
    "plt.figure(figsize=(10, 8))\n",
    "scatter = plt.scatter(latent_2d[:, 0], latent_2d[:, 1], c=labels, cmap='tab10')\n",
    "plt.colorbar(scatter, label='Digit Class')\n",
    "plt.title('t-SNE Visualization of Latent Space')\n",
    "plt.xlabel('t-SNE Dimension 1')\n",
    "plt.ylabel('t-SNE Dimension 2')\n",
    "plt.legend(*scatter.legend_elements(), title=\"Classes\")\n",
    "plt.show()\n"
   ]
  },
  {
   "cell_type": "markdown",
   "metadata": {
    "id": "8hcL3aCurIMY"
   },
   "source": [
    "## Decoder"
   ]
  },
  {
   "cell_type": "markdown",
   "metadata": {
    "id": "c1RotAwcrIMY"
   },
   "source": [
    "### Training"
   ]
  },
  {
   "cell_type": "markdown",
   "metadata": {
    "id": "sPdsc2HyrIMY"
   },
   "source": [
    "We define the decoder, and then train it using the classifier's latent space."
   ]
  },
  {
   "cell_type": "code",
   "execution_count": 14,
   "metadata": {
    "executionInfo": {
     "elapsed": 5,
     "status": "ok",
     "timestamp": 1738416334546,
     "user": {
      "displayName": "Conor Finlay",
      "userId": "06245016195405942659"
     },
     "user_tz": 0
    },
    "id": "kkXS5_q5rIMY"
   },
   "outputs": [],
   "source": [
    "decoder = regene_models.Decoder(latent_dim=latent_dim, device=device)"
   ]
  },
  {
   "cell_type": "code",
   "execution_count": 15,
   "metadata": {
    "colab": {
     "base_uri": "https://localhost:8080/"
    },
    "executionInfo": {
     "elapsed": 65586,
     "status": "ok",
     "timestamp": 1738416400127,
     "user": {
      "displayName": "Conor Finlay",
      "userId": "06245016195405942659"
     },
     "user_tz": 0
    },
    "id": "jNgcg7t2rIMZ",
    "outputId": "ef0f5974-d38c-43cf-8281-0a080e93bdc6"
   },
   "outputs": [],
   "source": [
    "if training:\n",
    "    decoder.train_decoder(trainloader, classifier, num_epochs=12, lr=0.001)\n",
    "    torch.save(decoder.state_dict(), os.path.join(model_saves_path, 'decoder.pth'))"
   ]
  },
  {
   "cell_type": "markdown",
   "metadata": {},
   "source": [
    "### Loading\n",
    "Load the decoder"
   ]
  },
  {
   "cell_type": "code",
   "execution_count": 16,
   "metadata": {},
   "outputs": [
    {
     "name": "stderr",
     "output_type": "stream",
     "text": [
      "/var/folders/tb/ccwl9r592hn9v_xpq9s1bzlr0000gn/T/ipykernel_10803/1833794902.py:1: FutureWarning: You are using `torch.load` with `weights_only=False` (the current default value), which uses the default pickle module implicitly. It is possible to construct malicious pickle data which will execute arbitrary code during unpickling (See https://github.com/pytorch/pytorch/blob/main/SECURITY.md#untrusted-models for more details). In a future release, the default value for `weights_only` will be flipped to `True`. This limits the functions that could be executed during unpickling. Arbitrary objects will no longer be allowed to be loaded via this mode unless they are explicitly allowlisted by the user via `torch.serialization.add_safe_globals`. We recommend you start setting `weights_only=True` for any use case where you don't have full control of the loaded file. Please open an issue on GitHub for any issues related to this experimental feature.\n",
      "  decoder.load_state_dict(torch.load(os.path.join(model_saves_path, 'decoder.pth'), map_location=device))\n"
     ]
    },
    {
     "data": {
      "text/plain": [
       "<All keys matched successfully>"
      ]
     },
     "execution_count": 16,
     "metadata": {},
     "output_type": "execute_result"
    }
   ],
   "source": [
    "decoder.load_state_dict(torch.load(os.path.join(model_saves_path, 'decoder.pth'), map_location=device))"
   ]
  },
  {
   "cell_type": "markdown",
   "metadata": {
    "id": "sPQ0jBNhrIMZ"
   },
   "source": [
    "### Testing\n"
   ]
  },
  {
   "cell_type": "markdown",
   "metadata": {
    "id": "G38aYbMMrIMZ"
   },
   "source": [
    "First less visualise some reconstructions"
   ]
  },
  {
   "cell_type": "code",
   "execution_count": 17,
   "metadata": {
    "colab": {
     "base_uri": "https://localhost:8080/",
     "height": 0
    },
    "executionInfo": {
     "elapsed": 919,
     "status": "ok",
     "timestamp": 1738416401044,
     "user": {
      "displayName": "Conor Finlay",
      "userId": "06245016195405942659"
     },
     "user_tz": 0
    },
    "id": "pQMUFgMdrIMZ",
    "outputId": "8a02a7fd-4e5d-4884-c938-f8a501c4c8da"
   },
   "outputs": [
    {
     "data": {
      "image/png": "[encoded data removed]",
      "text/plain": [
       "<Figure size 1500x300 with 20 Axes>"
      ]
     },
     "metadata": {},
     "output_type": "display_data"
    }
   ],
   "source": [
    "# Get 10 random images from training set\n",
    "dataiter = iter(trainloader)\n",
    "images, _ = next(dataiter)\n",
    "images = images[:10].to(device)\n",
    "\n",
    "# Get reconstructions\n",
    "classifier.eval()\n",
    "decoder.eval()\n",
    "with torch.no_grad():\n",
    "    z, _ = classifier(images)\n",
    "    reconstructed = decoder(z)\n",
    "\n",
    "# Plot original vs reconstructed images\n",
    "fig, axes = plt.subplots(2, 10, figsize=(15, 3))\n",
    "for i in range(10):\n",
    "    # Original images\n",
    "    axes[0,i].imshow(images[i].cpu().squeeze(), cmap='gray')\n",
    "    axes[0,i].axis('off')\n",
    "    if i == 0:\n",
    "        axes[0,i].set_title('Original', pad=10)\n",
    "\n",
    "    # Reconstructed images\n",
    "    axes[1,i].imshow(reconstructed[i].cpu().squeeze(), cmap='gray')\n",
    "    axes[1,i].axis('off')\n",
    "    if i == 0:\n",
    "        axes[1,i].set_title('Reconstructed', pad=10)\n",
    "\n",
    "plt.tight_layout()\n",
    "plt.show()\n"
   ]
  },
  {
   "cell_type": "markdown",
   "metadata": {
    "id": "rrYzNaHurIMZ"
   },
   "source": [
    "## Joint training\n"
   ]
  },
  {
   "cell_type": "markdown",
   "metadata": {},
   "source": [
    "### Training\n",
    "Train the models"
   ]
  },
  {
   "cell_type": "markdown",
   "metadata": {
    "id": "0vk5ejqLrIMZ"
   },
   "source": [
    "Let's try training the models with a joint objective"
   ]
  },
  {
   "cell_type": "code",
   "execution_count": 19,
   "metadata": {
    "executionInfo": {
     "elapsed": 521,
     "status": "ok",
     "timestamp": 1738416486891,
     "user": {
      "displayName": "Conor Finlay",
      "userId": "06245016195405942659"
     },
     "user_tz": 0
    },
    "id": "TXIUOahDrIMZ"
   },
   "outputs": [],
   "source": [
    "from importlib import reload\n",
    "import models.regene_models as regene_models\n",
    "importlib.reload(regene_models)\n",
    "from models.regene_models import Classifier"
   ]
  },
  {
   "cell_type": "markdown",
   "metadata": {
    "id": "DsaUF4arrIMZ"
   },
   "source": [
    "Alpha determines how much weight is given to the reconstruction loss."
   ]
  },
  {
   "cell_type": "code",
   "execution_count": 20,
   "metadata": {
    "colab": {
     "base_uri": "https://localhost:8080/"
    },
    "executionInfo": {
     "elapsed": 75653,
     "status": "ok",
     "timestamp": 1738416562543,
     "user": {
      "displayName": "Conor Finlay",
      "userId": "06245016195405942659"
     },
     "user_tz": 0
    },
    "id": "cNJyHA9mrIMZ",
    "outputId": "31863247-aee2-46f9-b4ea-7c8d90cf9062"
   },
   "outputs": [],
   "source": [
    "joint_decoder = regene_models.Decoder(latent_dim=256, device=device)\n",
    "joint_classifier = regene_models.Classifier(latent_dim=latent_dim, num_classes=10, device=device)\n",
    "\n",
    "if training:\n",
    "    regene_models.train_joint(joint_classifier, joint_decoder, trainloader, num_epochs=12, lr=0.001, lambda_recon=0.8)\n",
    "    # Save models\n",
    "    torch.save(joint_decoder.state_dict(), os.path.join(model_saves_path, 'joint_decoder.pth'))\n",
    "    torch.save(joint_classifier.state_dict(), os.path.join(model_saves_path, 'joint_classifier.pth'))"
   ]
  },
  {
   "cell_type": "markdown",
   "metadata": {},
   "source": [
    "### Loading\n",
    "Load the models"
   ]
  },
  {
   "cell_type": "code",
   "execution_count": 21,
   "metadata": {},
   "outputs": [
    {
     "name": "stderr",
     "output_type": "stream",
     "text": [
      "/var/folders/tb/ccwl9r592hn9v_xpq9s1bzlr0000gn/T/ipykernel_10803/3085312799.py:1: FutureWarning: You are using `torch.load` with `weights_only=False` (the current default value), which uses the default pickle module implicitly. It is possible to construct malicious pickle data which will execute arbitrary code during unpickling (See https://github.com/pytorch/pytorch/blob/main/SECURITY.md#untrusted-models for more details). In a future release, the default value for `weights_only` will be flipped to `True`. This limits the functions that could be executed during unpickling. Arbitrary objects will no longer be allowed to be loaded via this mode unless they are explicitly allowlisted by the user via `torch.serialization.add_safe_globals`. We recommend you start setting `weights_only=True` for any use case where you don't have full control of the loaded file. Please open an issue on GitHub for any issues related to this experimental feature.\n",
      "  joint_classifier.load_state_dict(torch.load(os.path.join(model_saves_path, 'joint_classifier.pth'), map_location=device))\n",
      "/var/folders/tb/ccwl9r592hn9v_xpq9s1bzlr0000gn/T/ipykernel_10803/3085312799.py:2: FutureWarning: You are using `torch.load` with `weights_only=False` (the current default value), which uses the default pickle module implicitly. It is possible to construct malicious pickle data which will execute arbitrary code during unpickling (See https://github.com/pytorch/pytorch/blob/main/SECURITY.md#untrusted-models for more details). In a future release, the default value for `weights_only` will be flipped to `True`. This limits the functions that could be executed during unpickling. Arbitrary objects will no longer be allowed to be loaded via this mode unless they are explicitly allowlisted by the user via `torch.serialization.add_safe_globals`. We recommend you start setting `weights_only=True` for any use case where you don't have full control of the loaded file. Please open an issue on GitHub for any issues related to this experimental feature.\n",
      "  joint_decoder.load_state_dict(torch.load(os.path.join(model_saves_path, 'joint_decoder.pth'), map_location=device))\n"
     ]
    },
    {
     "data": {
      "text/plain": [
       "<All keys matched successfully>"
      ]
     },
     "execution_count": 21,
     "metadata": {},
     "output_type": "execute_result"
    }
   ],
   "source": [
    "joint_classifier.load_state_dict(torch.load(os.path.join(model_saves_path, 'joint_classifier.pth'), map_location=device))\n",
    "joint_decoder.load_state_dict(torch.load(os.path.join(model_saves_path, 'joint_decoder.pth'), map_location=device))"
   ]
  },
  {
   "cell_type": "markdown",
   "metadata": {},
   "source": [
    "### Testing\n",
    "Test the models\n"
   ]
  },
  {
   "cell_type": "code",
   "execution_count": 22,
   "metadata": {
    "colab": {
     "base_uri": "https://localhost:8080/",
     "height": 0
    },
    "executionInfo": {
     "elapsed": 8,
     "status": "ok",
     "timestamp": 1738416562543,
     "user": {
      "displayName": "Conor Finlay",
      "userId": "06245016195405942659"
     },
     "user_tz": 0
    },
    "id": "i0-Zbg7nrIMZ",
    "outputId": "1665bcf4-c942-46ef-9e0a-eb1549f53880"
   },
   "outputs": [
    {
     "data": {
      "image/png": "[encoded data removed]",
      "text/plain": [
       "<Figure size 1500x600 with 10 Axes>"
      ]
     },
     "metadata": {},
     "output_type": "display_data"
    }
   ],
   "source": [
    "\n",
    "# Get some test images\n",
    "dataiter = iter(trainloader)\n",
    "images, labels = next(dataiter)\n",
    "images = images.to(device)\n",
    "\n",
    "# Get reconstructions\n",
    "with torch.no_grad():\n",
    "    z, _ = joint_classifier(images)\n",
    "    reconstructed = joint_decoder(z)\n",
    "\n",
    "# Plot original vs reconstructed images\n",
    "fig, axes = plt.subplots(2, 5, figsize=(15, 6))\n",
    "for i in range(5):\n",
    "    # Original images\n",
    "    axes[0,i].imshow(images[i].cpu().squeeze(), cmap='gray')\n",
    "    axes[0,i].axis('off')\n",
    "    if i == 0:\n",
    "        axes[0,i].set_title('Original', pad=10)\n",
    "\n",
    "    # Reconstructed images\n",
    "    axes[1,i].imshow(reconstructed[i].cpu().squeeze(), cmap='gray')\n",
    "    axes[1,i].axis('off')\n",
    "    if i == 0:\n",
    "        axes[1,i].set_title('Reconstructed', pad=10)\n",
    "\n",
    "plt.tight_layout()\n",
    "plt.show()\n"
   ]
  },
  {
   "cell_type": "markdown",
   "metadata": {
    "id": "oc_DM69BrIMZ"
   },
   "source": [
    "## Training encoder and classifier separately\n"
   ]
  },
  {
   "cell_type": "markdown",
   "metadata": {
    "id": "4I_nomd3rIMa"
   },
   "source": [
    "In this final section, we will train the encoder and classifier separately. The encoder is trained to minimise the reconstruction loss, and the classifier is trained to minimise the cross-entropy loss on the enocders latent space."
   ]
  },
  {
   "cell_type": "markdown",
   "metadata": {},
   "source": [
    "Define models"
   ]
  },
  {
   "cell_type": "code",
   "execution_count": 23,
   "metadata": {
    "executionInfo": {
     "elapsed": 415,
     "status": "ok",
     "timestamp": 1738417373753,
     "user": {
      "displayName": "Conor Finlay",
      "userId": "06245016195405942659"
     },
     "user_tz": 0
    },
    "id": "3mR7JoP_rIMa"
   },
   "outputs": [],
   "source": [
    "from models.regene_models import train_autoencoder, train_classifier_only\n",
    "\n",
    "separate_classifier = regene_models.Classifier(latent_dim=latent_dim, num_classes=10, device=device)\n",
    "separate_decoder = regene_models.Decoder(latent_dim=latent_dim, device=device)"
   ]
  },
  {
   "cell_type": "markdown",
   "metadata": {},
   "source": [
    "### Training\n",
    "Train the autoencoder"
   ]
  },
  {
   "cell_type": "code",
   "execution_count": 24,
   "metadata": {
    "colab": {
     "base_uri": "https://localhost:8080/"
    },
    "executionInfo": {
     "elapsed": 72161,
     "status": "ok",
     "timestamp": 1738417448171,
     "user": {
      "displayName": "Conor Finlay",
      "userId": "06245016195405942659"
     },
     "user_tz": 0
    },
    "id": "s8_ANsbGrIMa",
    "outputId": "3426126a-a179-4765-9b7c-e0effc293dc9"
   },
   "outputs": [],
   "source": [
    "if training:    \n",
    "    # Train autoencoder\n",
    "    train_autoencoder(classifier=separate_classifier, decoder=separate_decoder, train_loader=trainloader, num_epochs=12, lr=0.001)\n",
    "    # Save model\n",
    "    torch.save(separate_decoder.state_dict(), os.path.join(model_saves_path, 'separate_decoder.pth'))"
   ]
  },
  {
   "cell_type": "markdown",
   "metadata": {},
   "source": [
    "Train the classifier layer"
   ]
  },
  {
   "cell_type": "code",
   "execution_count": 25,
   "metadata": {
    "executionInfo": {
     "elapsed": 38026,
     "status": "ok",
     "timestamp": 1738417517170,
     "user": {
      "displayName": "Conor Finlay",
      "userId": "06245016195405942659"
     },
     "user_tz": 0
    },
    "id": "GRTpChVarIMa"
   },
   "outputs": [],
   "source": [
    "if training:\n",
    "    # Train autoencoder\n",
    "    train_classifier_only(separate_classifier, trainloader, num_epochs=10, lr=0.001)\n",
    "    # Save model\n",
    "    torch.save(separate_classifier.state_dict(), os.path.join(model_saves_path, 'separate_classifier.pth'))"
   ]
  },
  {
   "cell_type": "markdown",
   "metadata": {},
   "source": [
    "### Loading\n",
    "Load the models"
   ]
  },
  {
   "cell_type": "code",
   "execution_count": 26,
   "metadata": {},
   "outputs": [
    {
     "name": "stderr",
     "output_type": "stream",
     "text": [
      "/var/folders/tb/ccwl9r592hn9v_xpq9s1bzlr0000gn/T/ipykernel_10803/2821388973.py:1: FutureWarning: You are using `torch.load` with `weights_only=False` (the current default value), which uses the default pickle module implicitly. It is possible to construct malicious pickle data which will execute arbitrary code during unpickling (See https://github.com/pytorch/pytorch/blob/main/SECURITY.md#untrusted-models for more details). In a future release, the default value for `weights_only` will be flipped to `True`. This limits the functions that could be executed during unpickling. Arbitrary objects will no longer be allowed to be loaded via this mode unless they are explicitly allowlisted by the user via `torch.serialization.add_safe_globals`. We recommend you start setting `weights_only=True` for any use case where you don't have full control of the loaded file. Please open an issue on GitHub for any issues related to this experimental feature.\n",
      "  separate_classifier.load_state_dict(torch.load(os.path.join(model_saves_path, 'separate_classifier.pth'), map_location=device))\n",
      "/var/folders/tb/ccwl9r592hn9v_xpq9s1bzlr0000gn/T/ipykernel_10803/2821388973.py:2: FutureWarning: You are using `torch.load` with `weights_only=False` (the current default value), which uses the default pickle module implicitly. It is possible to construct malicious pickle data which will execute arbitrary code during unpickling (See https://github.com/pytorch/pytorch/blob/main/SECURITY.md#untrusted-models for more details). In a future release, the default value for `weights_only` will be flipped to `True`. This limits the functions that could be executed during unpickling. Arbitrary objects will no longer be allowed to be loaded via this mode unless they are explicitly allowlisted by the user via `torch.serialization.add_safe_globals`. We recommend you start setting `weights_only=True` for any use case where you don't have full control of the loaded file. Please open an issue on GitHub for any issues related to this experimental feature.\n",
      "  separate_decoder.load_state_dict(torch.load(os.path.join(model_saves_path, 'separate_decoder.pth'), map_location=device))\n"
     ]
    },
    {
     "data": {
      "text/plain": [
       "<All keys matched successfully>"
      ]
     },
     "execution_count": 26,
     "metadata": {},
     "output_type": "execute_result"
    }
   ],
   "source": [
    "separate_classifier.load_state_dict(torch.load(os.path.join(model_saves_path, 'separate_classifier.pth'), map_location=device))\n",
    "separate_decoder.load_state_dict(torch.load(os.path.join(model_saves_path, 'separate_decoder.pth'), map_location=device))"
   ]
  },
  {
   "cell_type": "markdown",
   "metadata": {
    "id": "cbqZu56VrIMb"
   },
   "source": [
    "## Comparison\n",
    "\n",
    "We will now compare the performance of the different models.\n",
    "\n"
   ]
  },
  {
   "cell_type": "code",
   "execution_count": 27,
   "metadata": {
    "colab": {
     "base_uri": "https://localhost:8080/"
    },
    "executionInfo": {
     "elapsed": 397,
     "status": "ok",
     "timestamp": 1738417530353,
     "user": {
      "displayName": "Conor Finlay",
      "userId": "06245016195405942659"
     },
     "user_tz": 0
    },
    "id": "4g3lX0FkrIMb",
    "outputId": "979d1249-0891-43cd-b982-5b0983fd56ca"
   },
   "outputs": [],
   "source": [
    "models = [(classifier, decoder), (joint_classifier, joint_decoder), (separate_classifier, separate_decoder)]\n"
   ]
  },
  {
   "cell_type": "code",
   "execution_count": 28,
   "metadata": {
    "colab": {
     "base_uri": "https://localhost:8080/",
     "height": 143
    },
    "executionInfo": {
     "elapsed": 12234,
     "status": "ok",
     "timestamp": 1738417545779,
     "user": {
      "displayName": "Conor Finlay",
      "userId": "06245016195405942659"
     },
     "user_tz": 0
    },
    "id": "W9sB2PVfrIMb",
    "outputId": "dc8a083c-7c9b-418e-e4f2-8470ff3a3cc2"
   },
   "outputs": [
    {
     "name": "stderr",
     "output_type": "stream",
     "text": [
      "/Users/conor/Documents/College terms/College/Thesis/Thesis_Code_Minimised/thesis-venv/lib/python3.9/site-packages/urllib3/__init__.py:35: NotOpenSSLWarning: urllib3 v2 only supports OpenSSL 1.1.1+, currently the 'ssl' module is compiled with 'LibreSSL 2.8.3'. See: https://github.com/urllib3/urllib3/issues/3020\n",
      "  warnings.warn(\n",
      "/Users/conor/Documents/College terms/College/Thesis/Thesis_Code_Minimised/thesis-venv/lib/python3.9/site-packages/tqdm/auto.py:21: TqdmWarning: IProgress not found. Please update jupyter and ipywidgets. See https://ipywidgets.readthedocs.io/en/stable/user_install.html\n",
      "  from .autonotebook import tqdm as notebook_tqdm\n"
     ]
    },
    {
     "data": {
      "text/html": [
       "<div>\n",
       "<style scoped>\n",
       "    .dataframe tbody tr th:only-of-type {\n",
       "        vertical-align: middle;\n",
       "    }\n",
       "\n",
       "    .dataframe tbody tr th {\n",
       "        vertical-align: top;\n",
       "    }\n",
       "\n",
       "    .dataframe thead th {\n",
       "        text-align: right;\n",
       "    }\n",
       "</style>\n",
       "<table border=\"1\" class=\"dataframe\">\n",
       "  <thead>\n",
       "    <tr style=\"text-align: right;\">\n",
       "      <th></th>\n",
       "      <th>Model</th>\n",
       "      <th>Accuracy (%)</th>\n",
       "      <th>MSE</th>\n",
       "    </tr>\n",
       "  </thead>\n",
       "  <tbody>\n",
       "    <tr>\n",
       "      <th>0</th>\n",
       "      <td>Standard</td>\n",
       "      <td>99.54</td>\n",
       "      <td>0.0144</td>\n",
       "    </tr>\n",
       "    <tr>\n",
       "      <th>1</th>\n",
       "      <td>Joint Training</td>\n",
       "      <td>99.76</td>\n",
       "      <td>0.0079</td>\n",
       "    </tr>\n",
       "    <tr>\n",
       "      <th>2</th>\n",
       "      <td>Separate Training</td>\n",
       "      <td>95.39</td>\n",
       "      <td>0.0038</td>\n",
       "    </tr>\n",
       "  </tbody>\n",
       "</table>\n",
       "</div>"
      ],
      "text/plain": [
       "               Model Accuracy (%)     MSE\n",
       "0           Standard        99.54  0.0144\n",
       "1     Joint Training        99.76  0.0079\n",
       "2  Separate Training        95.39  0.0038"
      ]
     },
     "metadata": {},
     "output_type": "display_data"
    }
   ],
   "source": [
    "import torch.nn.functional as F\n",
    "from torchmetrics import Accuracy\n",
    "import pandas as pd\n",
    "from IPython.display import display\n",
    "\n",
    "# Function to calculate metrics\n",
    "def calculate_metrics(classifier, decoder, test_loader):\n",
    "    classifier.eval()\n",
    "    decoder.eval()\n",
    "\n",
    "    total = 0\n",
    "    correct = 0\n",
    "    mse_total = 0.0\n",
    "\n",
    "    with torch.no_grad():\n",
    "        for images, labels in test_loader:\n",
    "            images = images.to(device)\n",
    "            labels = labels.to(device)\n",
    "\n",
    "            # Get predictions and reconstructions\n",
    "            z, outputs = classifier(images)\n",
    "            reconstructed = decoder(z)\n",
    "\n",
    "            # Calculate accuracy\n",
    "            _, predicted = torch.max(outputs.data, 1)\n",
    "            total += labels.size(0)\n",
    "            correct += (predicted == labels).sum().item()\n",
    "\n",
    "            # Calculate MSE\n",
    "            mse = F.mse_loss(reconstructed, images)\n",
    "            mse_total += mse.item()\n",
    "\n",
    "    accuracy = 100 * correct / total\n",
    "    avg_mse = mse_total / len(test_loader)\n",
    "\n",
    "    return accuracy, avg_mse\n",
    "\n",
    "# Calculate metrics for each model\n",
    "model_names = ['Standard', 'Joint Training', 'Separate Training']\n",
    "results = []\n",
    "\n",
    "for (clf, dec), name in zip(models, model_names):\n",
    "    accuracy, mse = calculate_metrics(clf, dec, trainloader)\n",
    "    results.append({\n",
    "        'Model': name,\n",
    "        'Accuracy (%)': f'{accuracy:.2f}',\n",
    "        'MSE': f'{mse:.4f}'\n",
    "    })\n",
    "\n",
    "# Create and display DataFrame\n",
    "df = pd.DataFrame(results)\n",
    "display(df)\n"
   ]
  },
  {
   "cell_type": "markdown",
   "metadata": {
    "id": "eF7K7VhfrIMb"
   },
   "source": [
    "And compare their latent spaces"
   ]
  },
  {
   "cell_type": "code",
   "execution_count": 29,
   "metadata": {
    "colab": {
     "base_uri": "https://localhost:8080/",
     "height": 602
    },
    "executionInfo": {
     "elapsed": 9185,
     "status": "ok",
     "timestamp": 1738417590187,
     "user": {
      "displayName": "Conor Finlay",
      "userId": "06245016195405942659"
     },
     "user_tz": 0
    },
    "id": "7vftEaUwrIMb",
    "outputId": "10065113-7ec1-4401-cd3b-210397787e58"
   },
   "outputs": [
    {
     "ename": "NameError",
     "evalue": "name 'latent_spaces' is not defined",
     "output_type": "error",
     "traceback": [
      "\u001b[0;31m---------------------------------------------------------------------------\u001b[0m",
      "\u001b[0;31mNameError\u001b[0m                                 Traceback (most recent call last)",
      "Cell \u001b[0;32mIn[29], line 11\u001b[0m\n\u001b[1;32m      8\u001b[0m fig\u001b[38;5;241m.\u001b[39msuptitle(\u001b[38;5;124m'\u001b[39m\u001b[38;5;124mt-SNE Visualization of Latent Spaces\u001b[39m\u001b[38;5;124m'\u001b[39m, fontsize\u001b[38;5;241m=\u001b[39m\u001b[38;5;241m16\u001b[39m)\n\u001b[1;32m     10\u001b[0m \u001b[38;5;66;03m# Run t-SNE for each model and plot\u001b[39;00m\n\u001b[0;32m---> 11\u001b[0m \u001b[38;5;28;01mfor\u001b[39;00m i, (latent_reps, name) \u001b[38;5;129;01min\u001b[39;00m \u001b[38;5;28menumerate\u001b[39m(\u001b[38;5;28mzip\u001b[39m(\u001b[43mlatent_spaces\u001b[49m, model_names)):\n\u001b[1;32m     12\u001b[0m     tsne \u001b[38;5;241m=\u001b[39m TSNE(n_components\u001b[38;5;241m=\u001b[39m\u001b[38;5;241m2\u001b[39m, random_state\u001b[38;5;241m=\u001b[39m\u001b[38;5;241m42\u001b[39m)  \u001b[38;5;66;03m# Create a new TSNE instance each time\u001b[39;00m\n\u001b[1;32m     13\u001b[0m     latent_2d \u001b[38;5;241m=\u001b[39m tsne\u001b[38;5;241m.\u001b[39mfit_transform(latent_reps)\n",
      "\u001b[0;31mNameError\u001b[0m: name 'latent_spaces' is not defined"
     ]
    },
    {
     "data": {
      "image/png": "[encoded data removed]",
      "text/plain": [
       "<Figure size 2000x600 with 3 Axes>"
      ]
     },
     "metadata": {},
     "output_type": "display_data"
    }
   ],
   "source": [
    "import matplotlib.pyplot as plt\n",
    "from sklearn.manifold import TSNE\n",
    "\n",
    "# Assume latent_spaces, model_names, and labels are already defined\n",
    "\n",
    "# Create the figure and a 1x3 grid for the main plots\n",
    "fig, axes = plt.subplots(1, 3, figsize=(20, 6))\n",
    "fig.suptitle('t-SNE Visualization of Latent Spaces', fontsize=16)\n",
    "\n",
    "# Run t-SNE for each model and plot\n",
    "for i, (latent_reps, name) in enumerate(zip(latent_spaces, model_names)):\n",
    "    tsne = TSNE(n_components=2, random_state=42)  # Create a new TSNE instance each time\n",
    "    latent_2d = tsne.fit_transform(latent_reps)\n",
    "    scatter = axes[i].scatter(latent_2d[:, 0], latent_2d[:, 1], c=labels, cmap='tab10')\n",
    "    axes[i].set_title(name)\n",
    "    axes[i].set_xlabel('t-SNE Dimension 1')\n",
    "    axes[i].set_ylabel('t-SNE Dimension 2')\n",
    "\n",
    "# Adjust the layout to make room on the right for a colorbar\n",
    "fig.subplots_adjust(right=0.85)\n",
    "\n",
    "# Create a new axis for the colorbar on the right\n",
    "cbar_ax = fig.add_axes([0.88, 0.15, 0.03, 0.7])  # [left, bottom, width, height] in figure coordinates\n",
    "fig.colorbar(scatter, cax=cbar_ax, label='Digit Class')\n",
    "\n",
    "plt.show()\n"
   ]
  },
  {
   "cell_type": "code",
   "execution_count": null,
   "metadata": {},
   "outputs": [],
   "source": [
    "# Get test images\n",
    "test_images, test_labels = next(iter(trainloader))\n",
    "test_images = test_images.to(device)\n",
    "\n",
    "# Get reconstructions from each model\n",
    "reconstructions = []\n",
    "with torch.no_grad():\n",
    "    for classifier, decoder in models:\n",
    "        z, _ = classifier(test_images)\n",
    "        recon = decoder(z)\n",
    "        reconstructions.append(recon.cpu().numpy())\n",
    "\n",
    "# Convert test images to numpy for plotting\n",
    "test_images = test_images.cpu().numpy()\n",
    "\n",
    "# Plot original and reconstructed images\n",
    "fig, axes = plt.subplots(4, 8, figsize=(20, 10))\n",
    "fig.suptitle('Original vs Reconstructed Images', fontsize=16)\n",
    "\n",
    "# Plot original images\n",
    "for i in range(8):\n",
    "    axes[0,i].imshow(test_images[i,0], cmap='gray')\n",
    "    axes[0,i].axis('off')\n",
    "    if i == 0:\n",
    "        axes[0,i].set_title('Original', pad=10)\n",
    "\n",
    "# Plot reconstructions for each model\n",
    "model_names = ['Standard Model', 'Joint Model', 'Separate Model']\n",
    "for row, (recon, name) in enumerate(zip(reconstructions, model_names), start=1):\n",
    "    for i in range(8):\n",
    "        axes[row,i].imshow(recon[i,0], cmap='gray')\n",
    "        axes[row,i].axis('off')\n",
    "        if i == 0:\n",
    "            axes[row,i].set_title(name, pad=10)\n",
    "\n",
    "plt.tight_layout()\n",
    "plt.show()\n"
   ]
  },
  {
   "cell_type": "markdown",
   "metadata": {},
   "source": [
    "## Supervised Variational Autoencoder"
   ]
  },
  {
   "cell_type": "code",
   "execution_count": 6,
   "metadata": {},
   "outputs": [],
   "source": [
    "from MyImplementation.models.SVAE import SVAE\n",
    "\n",
    "svae = SVAE(latent_dim=latent_dim, num_classes=10, device=device)"
   ]
  },
  {
   "cell_type": "markdown",
   "metadata": {},
   "source": [
    "Let's train"
   ]
  },
  {
   "cell_type": "code",
   "execution_count": null,
   "metadata": {},
   "outputs": [],
   "source": [
    "svae.train_model(trainloader, num_epochs=5, lr=0.001, beta=0.01, alpha=10.0)\n"
   ]
  },
  {
   "cell_type": "code",
   "execution_count": 17,
   "metadata": {},
   "outputs": [],
   "source": [
    "# Save the trained SVAE model\n",
    "torch.save(svae.state_dict(), os.path.join(model_saves_path, 'svae_model.pth'))\n"
   ]
  },
  {
   "cell_type": "code",
   "execution_count": null,
   "metadata": {},
   "outputs": [],
   "source": [
    "# Test SVAE reconstruction and classification\n",
    "test_images, test_labels = next(iter(trainloader))\n",
    "test_images = test_images.to(device)\n",
    "test_labels = test_labels.to(device)\n",
    "\n",
    "# Get reconstructions and predictions\n",
    "with torch.no_grad():\n",
    "    # Change this line - the SVAE forward method returns (x_recon, y_pred, mu, log_var)\n",
    "    x_recon, y_pred, mu, log_var = svae(test_images)\n",
    "    # Apply softmax before argmax\n",
    "    pred_probs = torch.softmax(y_pred, dim=1)\n",
    "    pred_labels = torch.argmax(pred_probs, dim=1)\n",
    "\n",
    "# Convert tensors to numpy for plotting\n",
    "test_images = test_images.cpu().numpy()\n",
    "recon_batch = x_recon.cpu().numpy()\n",
    "test_labels = test_labels.cpu().numpy()\n",
    "pred_labels = pred_labels.cpu().numpy()\n",
    "\n",
    "# Plot original and reconstructed images\n",
    "fig, axes = plt.subplots(2, 8, figsize=(20, 5))\n",
    "fig.suptitle('Original Images (top) vs Reconstructions (bottom)', fontsize=16)\n",
    "\n",
    "for i in range(8):\n",
    "    # Original images\n",
    "    axes[0, i].imshow(test_images[i].squeeze(), cmap='gray')\n",
    "    axes[0, i].set_title(f'Original\\nTrue: {test_labels[i]}')\n",
    "    axes[0, i].axis('off')\n",
    "    \n",
    "    # Reconstructed images\n",
    "    axes[1, i].imshow(recon_batch[i].squeeze(), cmap='gray')\n",
    "    axes[1, i].set_title(f'Reconstructed\\nPred: {pred_labels[i]}')\n",
    "    axes[1, i].axis('off')\n",
    "\n",
    "plt.tight_layout()\n",
    "plt.show()\n",
    "\n",
    "# Calculate and print classification accuracy\n",
    "accuracy = (pred_labels == test_labels).mean()\n",
    "print(f'Classification Accuracy: {accuracy:.4f}')\n"
   ]
  },
  {
   "cell_type": "code",
   "execution_count": null,
   "metadata": {},
   "outputs": [],
   "source": [
    "import matplotlib.pyplot as plt\n",
    "from sklearn.manifold import TSNE\n",
    "\n",
    "# Get more images from trainloader\n",
    "all_images = []\n",
    "all_labels = []\n",
    "num_batches = 20  # Increased from 5 to 20 batches of data\n",
    "\n",
    "for i, (images, labels) in enumerate(trainloader):\n",
    "    if i >= num_batches:\n",
    "        break\n",
    "    all_images.append(images)\n",
    "    all_labels.append(labels)\n",
    "\n",
    "# Concatenate all batches\n",
    "test_images_tensor = torch.cat(all_images, dim=0).to(device)\n",
    "test_labels = torch.cat(all_labels, dim=0).cpu().numpy()\n",
    "\n",
    "# Get latent representations for test data\n",
    "with torch.no_grad():\n",
    "    mu, log_var = svae.encode(test_images_tensor)\n",
    "    z = svae.reparameterize(mu, log_var)\n",
    "    latent_reps = z.cpu().numpy()\n",
    "\n",
    "# Create the figure for t-SNE visualization\n",
    "fig, ax = plt.subplots(figsize=(10, 8))\n",
    "fig.suptitle('t-SNE Visualization of SVAE Latent Space', fontsize=16)\n",
    "\n",
    "# Run t-SNE and plot\n",
    "tsne = TSNE(n_components=2, random_state=42)\n",
    "latent_2d = tsne.fit_transform(latent_reps)\n",
    "scatter = ax.scatter(latent_2d[:, 0], latent_2d[:, 1], c=test_labels, cmap='tab10', alpha=0.6)\n",
    "ax.set_title('SVAE Latent Space')\n",
    "ax.set_xlabel('t-SNE Dimension 1')\n",
    "ax.set_ylabel('t-SNE Dimension 2')\n",
    "\n",
    "# Add colorbar\n",
    "plt.colorbar(scatter, label='Digit Class')\n",
    "\n",
    "plt.tight_layout()\n",
    "plt.show()\n"
   ]
  },
  {
   "cell_type": "code",
   "execution_count": null,
   "metadata": {},
   "outputs": [],
   "source": [
    "# Get a batch of test images\n",
    "test_iter = iter(trainloader)\n",
    "test_images, _ = next(test_iter)\n",
    "test_images = test_images.to(device)\n",
    "\n",
    "# Get reconstructions\n",
    "with torch.no_grad():\n",
    "    mu, log_var = svae.encode(test_images)\n",
    "    z = svae.reparameterize(mu, log_var)\n",
    "    reconstructions = svae.decode(z)\n",
    "\n",
    "# Plot original vs reconstructed images\n",
    "fig, axes = plt.subplots(2, 8, figsize=(20, 5))\n",
    "fig.suptitle('Original vs Reconstructed Images', fontsize=16)\n",
    "\n",
    "for i in range(8):\n",
    "    # Original images\n",
    "    axes[0,i].imshow(test_images[i].cpu().squeeze(), cmap='gray')\n",
    "    axes[0,i].axis('off')\n",
    "    if i == 0:\n",
    "        axes[0,i].set_title('Original', pad=10)\n",
    "    \n",
    "    # Reconstructed images\n",
    "    axes[1,i].imshow(reconstructions[i].cpu().squeeze(), cmap='gray')\n",
    "    axes[1,i].axis('off')\n",
    "    if i == 0:\n",
    "        axes[1,i].set_title('Reconstructed', pad=10)\n",
    "\n",
    "plt.tight_layout()\n",
    "plt.show()\n"
   ]
  }
 ],
 "metadata": {
  "accelerator": "GPU",
  "colab": {
   "gpuType": "L4",
   "provenance": []
  },
  "kernelspec": {
   "display_name": "thesis-venv",
   "language": "python",
   "name": "python3"
  },
  "language_info": {
   "codemirror_mode": {
    "name": "ipython",
    "version": 3
   },
   "file_extension": ".py",
   "mimetype": "text/x-python",
   "name": "python",
   "nbconvert_exporter": "python",
   "pygments_lexer": "ipython3",
   "version": "3.9.6"
  }
 },
 "nbformat": 4,
 "nbformat_minor": 0
}
