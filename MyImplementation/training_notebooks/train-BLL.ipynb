{
 "cells": [
  {
   "cell_type": "markdown",
   "metadata": {
    "id": "gG27nG8aiP_p"
   },
   "source": [
    "# Train a Bayesian Layer Model for MNIST classification\n",
    "\n",
    "In this notebook, we will train an MNIST convolutional classifier with a Bayesian last layer. First, we train a determinstic classifier to obtain a MAP estimate of the weights. Then, we replace the last layer of this model with a Bayesian last layer and train the layer using Variational Inference (we keep the backbone fixed).\n",
    "\n",
    "We allow a choice between:\n",
    "- Classifier dominated backbone\n",
    "- Joint training backbone\n",
    "- Autoencoder dominated backbone"
   ]
  },
  {
   "cell_type": "markdown",
   "metadata": {
    "id": "B6cmPRt-iP_q"
   },
   "source": [
    "## Setup\n"
   ]
  },
  {
   "cell_type": "code",
   "execution_count": 1,
   "metadata": {
    "executionInfo": {
     "elapsed": 4,
     "status": "ok",
     "timestamp": 1741374700202,
     "user": {
      "displayName": "Conor Finlay",
      "userId": "06245016195405942659"
     },
     "user_tz": 0
    },
    "id": "zta0YjuMiU08"
   },
   "outputs": [],
   "source": [
    "inDrive = True"
   ]
  },
  {
   "cell_type": "code",
   "execution_count": 2,
   "metadata": {
    "colab": {
     "base_uri": "https://localhost:8080/"
    },
    "executionInfo": {
     "elapsed": 28098,
     "status": "ok",
     "timestamp": 1741374728302,
     "user": {
      "displayName": "Conor Finlay",
      "userId": "06245016195405942659"
     },
     "user_tz": 0
    },
    "id": "I8GmA7YQiWQp",
    "outputId": "b1e5c3a1-28a1-4316-cc25-a80209a2268d"
   },
   "outputs": [
    {
     "name": "stdout",
     "output_type": "stream",
     "text": [
      "Mounted at /content/drive\n"
     ]
    }
   ],
   "source": [
    "if inDrive:\n",
    "    from google.colab import drive\n",
    "    drive.mount('/content/drive')\n",
    "    import os\n",
    "    os.chdir('/content/drive/My Drive/Hybrid-CLUE/MyImplementation/testing_notebooks')\n",
    "    import sys\n",
    "\n",
    "    # Add the parent directory to the system path\n",
    "    current_dir = os.getcwd()\n",
    "    parent_dir = os.path.dirname(current_dir)\n",
    "    sys.path.insert(0, parent_dir)"
   ]
  },
  {
   "cell_type": "markdown",
   "metadata": {
    "id": "j7wE8FKsiP_q"
   },
   "source": [
    "Import libraries"
   ]
  },
  {
   "cell_type": "code",
   "execution_count": 3,
   "metadata": {
    "executionInfo": {
     "elapsed": 14102,
     "status": "ok",
     "timestamp": 1741374742412,
     "user": {
      "displayName": "Conor Finlay",
      "userId": "06245016195405942659"
     },
     "user_tz": 0
    },
    "id": "kwUMOpiBiP_r"
   },
   "outputs": [],
   "source": [
    "import importlib\n",
    "import torch\n",
    "import torch.nn as nn\n",
    "import torch.optim as optim\n",
    "import torchvision\n",
    "import torchvision.transforms as transforms\n",
    "import matplotlib.pyplot as plt\n",
    "import numpy as np\n",
    "import os\n",
    "\n",
    "import models.BLL\n",
    "import models.mnist_classifier_BLL\n",
    "import train\n",
    "import sampler\n",
    "import models.regene_models\n"
   ]
  },
  {
   "cell_type": "markdown",
   "metadata": {
    "id": "WTFQCwaniP_r"
   },
   "source": [
    "Set the configuration"
   ]
  },
  {
   "cell_type": "code",
   "execution_count": 4,
   "metadata": {
    "executionInfo": {
     "elapsed": 9,
     "status": "ok",
     "timestamp": 1741374742458,
     "user": {
      "displayName": "Conor Finlay",
      "userId": "06245016195405942659"
     },
     "user_tz": 0
    },
    "id": "Yrc2hNLTiP_r"
   },
   "outputs": [],
   "source": [
    "# 1. Configuration\n",
    "class Config:\n",
    "    # Data\n",
    "    batch_size = 512\n",
    "\n",
    "    # BLL training\n",
    "    bll_epochs = 100\n",
    "    bll_lr = 0.001\n",
    "    patience = 10\n",
    "    latent_dim = 256\n",
    "\n",
    "    # Hardware\n",
    "    device = 'cuda' if torch.cuda.is_available() \\\n",
    "    else 'mps' if torch.backends.mps.is_available() \\\n",
    "    else 'cpu'\n",
    "\n",
    "cfg = Config()"
   ]
  },
  {
   "cell_type": "markdown",
   "metadata": {
    "id": "diKbLsBHiP_s"
   },
   "source": [
    "Load the Datasets"
   ]
  },
  {
   "cell_type": "code",
   "execution_count": 5,
   "metadata": {
    "executionInfo": {
     "elapsed": 5272,
     "status": "ok",
     "timestamp": 1741374747734,
     "user": {
      "displayName": "Conor Finlay",
      "userId": "06245016195405942659"
     },
     "user_tz": 0
    },
    "id": "x8G_a7yqiP_s"
   },
   "outputs": [],
   "source": [
    "# Load the MNIST dataset\n",
    "transform = transforms.Compose([transforms.ToTensor()])\n",
    "trainset = torchvision.datasets.MNIST(root='../data', train=True, download=True, transform=transform)\n",
    "testset = torchvision.datasets.MNIST(root='../data', train=False, download=True, transform=transform)\n",
    "\n",
    "# Split training set into train and validation\n",
    "train_size = int(0.8 * len(trainset))\n",
    "val_size = len(trainset) - train_size\n",
    "trainset, valset = torch.utils.data.random_split(trainset, [train_size, val_size])\n",
    "\n",
    "trainloader = torch.utils.data.DataLoader(trainset, batch_size=cfg.batch_size, shuffle=True, num_workers=2)\n",
    "valloader = torch.utils.data.DataLoader(valset, batch_size=cfg.batch_size, shuffle=False, num_workers=2)\n",
    "testloader = torch.utils.data.DataLoader(testset, batch_size=cfg.batch_size, shuffle=False, num_workers=2)"
   ]
  },
  {
   "cell_type": "markdown",
   "metadata": {
    "id": "CZD8o6CXiP_t"
   },
   "source": [
    "Create a models and results directory if it doesn't exist"
   ]
  },
  {
   "cell_type": "code",
   "execution_count": 6,
   "metadata": {
    "executionInfo": {
     "elapsed": 3,
     "status": "ok",
     "timestamp": 1741374747741,
     "user": {
      "displayName": "Conor Finlay",
      "userId": "06245016195405942659"
     },
     "user_tz": 0
    },
    "id": "Ye1j00jYiP_t"
   },
   "outputs": [],
   "source": [
    "models_dir = '../model_saves/new_regene_models'\n",
    "results_dir = '../results/new_regene_models'\n",
    "os.makedirs(models_dir, exist_ok=True)\n",
    "os.makedirs(results_dir, exist_ok=True)"
   ]
  },
  {
   "cell_type": "markdown",
   "metadata": {
    "id": "c7lqxdKSiP_t"
   },
   "source": [
    "## Backbone\n",
    "We'll start with the backbone loading. Options are either classifier_dominated, joint_training, or autoencoder_dominated."
   ]
  },
  {
   "cell_type": "code",
   "execution_count": 7,
   "metadata": {
    "executionInfo": {
     "elapsed": 1,
     "status": "ok",
     "timestamp": 1741374747745,
     "user": {
      "displayName": "Conor Finlay",
      "userId": "06245016195405942659"
     },
     "user_tz": 0
    },
    "id": "Oku-dAELiP_t"
   },
   "outputs": [],
   "source": [
    "classifier_dominated = True\n",
    "joint_training = False\n",
    "autoencoder_dominated = False"
   ]
  },
  {
   "cell_type": "markdown",
   "metadata": {
    "id": "bki53PxeiP_t"
   },
   "source": [
    "### Load chosen model"
   ]
  },
  {
   "cell_type": "markdown",
   "metadata": {
    "id": "kHIceji_iP_t"
   },
   "source": [
    "Load model"
   ]
  },
  {
   "cell_type": "code",
   "execution_count": 8,
   "metadata": {
    "colab": {
     "base_uri": "https://localhost:8080/"
    },
    "executionInfo": {
     "elapsed": 3609,
     "status": "ok",
     "timestamp": 1741374751356,
     "user": {
      "displayName": "Conor Finlay",
      "userId": "06245016195405942659"
     },
     "user_tz": 0
    },
    "id": "Sn9ukxTqiP_t",
    "outputId": "626a8e08-9b1e-41dd-cb00-8cfad36af139"
   },
   "outputs": [
    {
     "name": "stderr",
     "output_type": "stream",
     "text": [
      "/content/drive/My Drive/Hybrid-CLUE/MyImplementation/models/regene_models.py:109: FutureWarning: You are using `torch.load` with `weights_only=False` (the current default value), which uses the default pickle module implicitly. It is possible to construct malicious pickle data which will execute arbitrary code during unpickling (See https://github.com/pytorch/pytorch/blob/main/SECURITY.md#untrusted-models for more details). In a future release, the default value for `weights_only` will be flipped to `True`. This limits the functions that could be executed during unpickling. Arbitrary objects will no longer be allowed to be loaded via this mode unless they are explicitly allowlisted by the user via `torch.serialization.add_safe_globals`. We recommend you start setting `weights_only=True` for any use case where you don't have full control of the loaded file. Please open an issue on GitHub for any issues related to this experimental feature.\n",
      "  self.load_state_dict(torch.load(model_path, map_location=self.device))\n"
     ]
    },
    {
     "name": "stdout",
     "output_type": "stream",
     "text": [
      "Loaded classifier model from: ../model_saves/new_regene_models/classifier_dominated_classifier_256.pt\n"
     ]
    },
    {
     "name": "stderr",
     "output_type": "stream",
     "text": [
      "/content/drive/My Drive/Hybrid-CLUE/MyImplementation/models/regene_models.py:222: FutureWarning: You are using `torch.load` with `weights_only=False` (the current default value), which uses the default pickle module implicitly. It is possible to construct malicious pickle data which will execute arbitrary code during unpickling (See https://github.com/pytorch/pytorch/blob/main/SECURITY.md#untrusted-models for more details). In a future release, the default value for `weights_only` will be flipped to `True`. This limits the functions that could be executed during unpickling. Arbitrary objects will no longer be allowed to be loaded via this mode unless they are explicitly allowlisted by the user via `torch.serialization.add_safe_globals`. We recommend you start setting `weights_only=True` for any use case where you don't have full control of the loaded file. Please open an issue on GitHub for any issues related to this experimental feature.\n",
      "  self.load_state_dict(torch.load(model_path, map_location=self.device))\n"
     ]
    },
    {
     "name": "stdout",
     "output_type": "stream",
     "text": [
      "Loaded decoder model from: ../model_saves/new_regene_models/classifier_dominated_decoder_256.pt\n"
     ]
    }
   ],
   "source": [
    "importlib.reload(models.regene_models)\n",
    "\n",
    "decoder = models.regene_models.Decoder(latent_dim=cfg.latent_dim, device=cfg.device)\n",
    "backbone = models.regene_models.Classifier(latent_dim=cfg.latent_dim, num_classes=10, device=cfg.device)\n",
    "\n",
    "if classifier_dominated:\n",
    "    backbone.load(models_dir + '/classifier_dominated_classifier_256.pt')\n",
    "    decoder.load(models_dir + '/classifier_dominated_decoder_256.pt')\n",
    "    name = 'classifier_dominated'\n",
    "elif joint_training:\n",
    "    backbone.load(os.path.join(models_dir, 'joint_classifier_256.pt'))\n",
    "    decoder.load(os.path.join(models_dir, 'joint_decoder_256.pt'))\n",
    "    name = 'joint_training'\n",
    "elif autoencoder_dominated:\n",
    "    backbone.load(models_dir + '/autoencoder_dominated_classifier_full_256.pt')\n",
    "    decoder.load(models_dir + '/autoencoder_dominated_decoder_256.pt')\n",
    "    name = 'autoencoder_dominated'"
   ]
  },
  {
   "cell_type": "markdown",
   "metadata": {
    "id": "1Lci6AXdiP_u"
   },
   "source": [
    "## Bayesian Last Layer - VI\n",
    "Next we'll train a variational inference version of the Bayesian last layer using the chosen backbone.\n"
   ]
  },
  {
   "cell_type": "code",
   "execution_count": 9,
   "metadata": {
    "colab": {
     "base_uri": "https://localhost:8080/"
    },
    "executionInfo": {
     "elapsed": 2468,
     "status": "ok",
     "timestamp": 1741374753827,
     "user": {
      "displayName": "Conor Finlay",
      "userId": "06245016195405942659"
     },
     "user_tz": 0
    },
    "id": "X-Ge8EmKlwLO",
    "outputId": "0659e7c7-9fd8-47d4-9365-173574d52e3f"
   },
   "outputs": [
    {
     "name": "stdout",
     "output_type": "stream",
     "text": [
      "Collecting torchbnn\n",
      "  Downloading torchbnn-1.2-py3-none-any.whl.metadata (7.1 kB)\n",
      "Downloading torchbnn-1.2-py3-none-any.whl (12 kB)\n",
      "Installing collected packages: torchbnn\n",
      "Successfully installed torchbnn-1.2\n"
     ]
    }
   ],
   "source": [
    "%pip install torchbnn"
   ]
  },
  {
   "cell_type": "markdown",
   "metadata": {
    "id": "eUVww6QHiP_u"
   },
   "source": [
    "### Load the model"
   ]
  },
  {
   "cell_type": "code",
   "execution_count": 10,
   "metadata": {
    "colab": {
     "base_uri": "https://localhost:8080/"
    },
    "executionInfo": {
     "elapsed": 1413,
     "status": "ok",
     "timestamp": 1741374755243,
     "user": {
      "displayName": "Conor Finlay",
      "userId": "06245016195405942659"
     },
     "user_tz": 0
    },
    "id": "HNBNQv0oiP_u",
    "outputId": "69b9c083-ec3c-4bcc-8646-1cd6a0a511e8"
   },
   "outputs": [
    {
     "name": "stdout",
     "output_type": "stream",
     "text": [
      "Backbone device: cuda:0\n",
      "Last layer device: cuda:0\n"
     ]
    }
   ],
   "source": [
    "from models.BLL_VI import BayesianLastLayerVI\n",
    "importlib.reload(models.BLL_VI)\n",
    "\n",
    "import os\n",
    "os.environ['PYTORCH_ENABLE_MPS_FALLBACK'] = '1'\n",
    "\n",
    "bll_vi = BayesianLastLayerVI(\n",
    "    backbone=backbone,\n",
    "    input_dim=cfg.latent_dim,  # Matches backbone's encoder output\n",
    "    output_dim=10,  # MNIST classes\n",
    "    device=cfg.device\n",
    ")\n",
    "\n",
    "# Verify all model components are on the correct device\n",
    "print(f\"Backbone device: {next(bll_vi.backbone.parameters()).device}\")\n",
    "print(f\"Last layer device: {next(bll_vi.last_layer.parameters()).device}\")"
   ]
  },
  {
   "cell_type": "markdown",
   "metadata": {
    "id": "D7MUzO66iP_u"
   },
   "source": [
    "### Train the model"
   ]
  },
  {
   "cell_type": "code",
   "execution_count": 11,
   "metadata": {
    "colab": {
     "base_uri": "https://localhost:8080/",
     "height": 1000
    },
    "executionInfo": {
     "elapsed": 98438,
     "status": "ok",
     "timestamp": 1741374853681,
     "user": {
      "displayName": "Conor Finlay",
      "userId": "06245016195405942659"
     },
     "user_tz": 0
    },
    "id": "BWqhsKCWiP_u",
    "outputId": "07e2fc47-a49b-4e01-c3be-a9c66a832094"
   },
   "outputs": [
    {
     "name": "stdout",
     "output_type": "stream",
     "text": [
      "\u001b[36m\n",
      "Bayesian Last Layer (VI):\u001b[0m\n",
      "it 0/100, Jtr = 0.008, err = 0.491, KL = 0.050, \u001b[31m   time: 4.912337 seconds\n",
      "\u001b[0m\n",
      "\u001b[32m    Jdev = 0.025, err = 0.009\n",
      "\u001b[0m\n",
      "\u001b[34mbest validation error\u001b[0m\n",
      "it 1/100, Jtr = 0.001, err = 0.134, KL = 0.070, \u001b[31m   time: 2.580986 seconds\n",
      "\u001b[0m\n",
      "\u001b[32m    Jdev = 0.011, err = 0.003\n",
      "\u001b[0m\n",
      "\u001b[34mbest validation error\u001b[0m\n",
      "it 2/100, Jtr = 0.001, err = 0.066, KL = 0.084, \u001b[31m   time: 2.433346 seconds\n",
      "\u001b[0m\n",
      "\u001b[32m    Jdev = 0.011, err = 0.004\n",
      "\u001b[0m\n",
      "it 3/100, Jtr = 0.000, err = 0.047, KL = 0.092, \u001b[31m   time: 2.455884 seconds\n",
      "\u001b[0m\n",
      "\u001b[32m    Jdev = 0.010, err = 0.003\n",
      "\u001b[0m\n",
      "it 4/100, Jtr = 0.000, err = 0.043, KL = 0.098, \u001b[31m   time: 2.318882 seconds\n",
      "\u001b[0m\n",
      "\u001b[32m    Jdev = 0.008, err = 0.002\n",
      "\u001b[0m\n",
      "\u001b[34mbest validation error\u001b[0m\n",
      "it 5/100, Jtr = 0.000, err = 0.025, KL = 0.102, \u001b[31m   time: 2.383281 seconds\n",
      "\u001b[0m\n",
      "\u001b[32m    Jdev = 0.008, err = 0.002\n",
      "\u001b[0m\n",
      "\u001b[34mbest validation error\u001b[0m\n",
      "it 6/100, Jtr = 0.000, err = 0.028, KL = 0.104, \u001b[31m   time: 2.482717 seconds\n",
      "\u001b[0m\n",
      "\u001b[32m    Jdev = 0.006, err = 0.002\n",
      "\u001b[0m\n",
      "\u001b[34mbest validation error\u001b[0m\n",
      "it 7/100, Jtr = 0.000, err = 0.027, KL = 0.107, \u001b[31m   time: 2.355009 seconds\n",
      "\u001b[0m\n",
      "\u001b[32m    Jdev = 0.007, err = 0.002\n",
      "\u001b[0m\n",
      "it 8/100, Jtr = 0.000, err = 0.020, KL = 0.108, \u001b[31m   time: 2.329732 seconds\n",
      "\u001b[0m\n",
      "\u001b[32m    Jdev = 0.006, err = 0.002\n",
      "\u001b[0m\n",
      "it 9/100, Jtr = 0.000, err = 0.019, KL = 0.108, \u001b[31m   time: 2.423007 seconds\n",
      "\u001b[0m\n",
      "\u001b[32m    Jdev = 0.005, err = 0.002\n",
      "\u001b[0m\n",
      "it 10/100, Jtr = 0.000, err = 0.017, KL = 0.108, \u001b[31m   time: 2.431971 seconds\n",
      "\u001b[0m\n",
      "\u001b[32m    Jdev = 0.007, err = 0.002\n",
      "\u001b[0m\n",
      "it 11/100, Jtr = 0.000, err = 0.016, KL = 0.107, \u001b[31m   time: 2.304119 seconds\n",
      "\u001b[0m\n",
      "\u001b[32m    Jdev = 0.005, err = 0.002\n",
      "\u001b[0m\n",
      "it 12/100, Jtr = 0.000, err = 0.017, KL = 0.106, \u001b[31m   time: 2.737360 seconds\n",
      "\u001b[0m\n",
      "\u001b[32m    Jdev = 0.006, err = 0.002\n",
      "\u001b[0m\n",
      "it 13/100, Jtr = 0.000, err = 0.017, KL = 0.105, \u001b[31m   time: 2.409076 seconds\n",
      "\u001b[0m\n",
      "\u001b[32m    Jdev = 0.005, err = 0.002\n",
      "\u001b[0m\n",
      "it 14/100, Jtr = 0.000, err = 0.014, KL = 0.105, \u001b[31m   time: 2.351250 seconds\n",
      "\u001b[0m\n",
      "\u001b[32m    Jdev = 0.005, err = 0.001\n",
      "\u001b[0m\n",
      "\u001b[34mbest validation error\u001b[0m\n",
      "it 15/100, Jtr = 0.000, err = 0.016, KL = 0.104, \u001b[31m   time: 2.326725 seconds\n",
      "\u001b[0m\n",
      "\u001b[32m    Jdev = 0.005, err = 0.001\n",
      "\u001b[0m\n",
      "it 16/100, Jtr = 0.000, err = 0.015, KL = 0.104, \u001b[31m   time: 2.293272 seconds\n",
      "\u001b[0m\n",
      "\u001b[32m    Jdev = 0.005, err = 0.002\n",
      "\u001b[0m\n",
      "it 17/100, Jtr = 0.000, err = 0.016, KL = 0.104, \u001b[31m   time: 2.513469 seconds\n",
      "\u001b[0m\n",
      "\u001b[32m    Jdev = 0.007, err = 0.002\n",
      "\u001b[0m\n",
      "it 18/100, Jtr = 0.000, err = 0.016, KL = 0.103, \u001b[31m   time: 2.670023 seconds\n",
      "\u001b[0m\n",
      "\u001b[32m    Jdev = 0.004, err = 0.001\n",
      "\u001b[0m\n",
      "\u001b[34mbest validation error\u001b[0m\n",
      "it 19/100, Jtr = 0.000, err = 0.016, KL = 0.103, \u001b[31m   time: 2.406983 seconds\n",
      "\u001b[0m\n",
      "\u001b[32m    Jdev = 0.006, err = 0.002\n",
      "\u001b[0m\n",
      "it 20/100, Jtr = 0.000, err = 0.015, KL = 0.103, \u001b[31m   time: 2.393595 seconds\n",
      "\u001b[0m\n",
      "\u001b[32m    Jdev = 0.007, err = 0.002\n",
      "\u001b[0m\n",
      "it 21/100, Jtr = 0.000, err = 0.017, KL = 0.102, \u001b[31m   time: 2.439613 seconds\n",
      "\u001b[0m\n",
      "\u001b[32m    Jdev = 0.005, err = 0.002\n",
      "\u001b[0m\n",
      "it 22/100, Jtr = 0.000, err = 0.017, KL = 0.103, \u001b[31m   time: 2.509810 seconds\n",
      "\u001b[0m\n",
      "\u001b[32m    Jdev = 0.005, err = 0.001\n",
      "\u001b[0m\n",
      "it 23/100, Jtr = 0.000, err = 0.014, KL = 0.102, \u001b[31m   time: 2.292874 seconds\n",
      "\u001b[0m\n",
      "\u001b[32m    Jdev = 0.005, err = 0.001\n",
      "\u001b[0m\n",
      "it 24/100, Jtr = 0.000, err = 0.015, KL = 0.102, \u001b[31m   time: 2.351440 seconds\n",
      "\u001b[0m\n",
      "\u001b[32m    Jdev = 0.007, err = 0.002\n",
      "\u001b[0m\n",
      "it 25/100, Jtr = 0.000, err = 0.014, KL = 0.102, \u001b[31m   time: 2.326824 seconds\n",
      "\u001b[0m\n",
      "\u001b[32m    Jdev = 0.006, err = 0.001\n",
      "\u001b[0m\n",
      "it 26/100, Jtr = 0.000, err = 0.015, KL = 0.102, \u001b[31m   time: 2.477185 seconds\n",
      "\u001b[0m\n",
      "\u001b[32m    Jdev = 0.004, err = 0.001\n",
      "\u001b[0m\n",
      "it 27/100, Jtr = 0.000, err = 0.016, KL = 0.102, \u001b[31m   time: 2.326984 seconds\n",
      "\u001b[0m\n",
      "\u001b[32m    Jdev = 0.006, err = 0.002\n",
      "\u001b[0m\n",
      "it 28/100, Jtr = 0.000, err = 0.015, KL = 0.102, \u001b[31m   time: 2.436599 seconds\n",
      "\u001b[0m\n",
      "\u001b[32m    Jdev = 0.004, err = 0.001\n",
      "\u001b[0m\n",
      "\u001b[33m\n",
      "Early stopping triggered after 29 epochs\u001b[0m\n",
      "\u001b[31m   average time: 3.333953 seconds\n",
      "\u001b[0m\n",
      " [save_checkpoint] Saved model state to ../model_saves/new_regene_models/BLL_VI_classifier_dominated_1156.pt\n",
      "Saved best model to: ../model_saves/new_regene_models/BLL_VI_classifier_dominated_1156.pt\n"
     ]
    },
    {
     "data": {
      "text/plain": [
       "<Figure size 640x480 with 0 Axes>"
      ]
     },
     "metadata": {},
     "output_type": "display_data"
    }
   ],
   "source": [
    "from train import train_BLL_VI_classification\n",
    "importlib.reload(train)\n",
    "\n",
    "vi_cost_tr, vi_cost_dev, vi_err_tr, vi_err_dev, vi_kl = train_BLL_VI_classification(\n",
    "    net=bll_vi,\n",
    "    batch_size=cfg.batch_size,\n",
    "    nb_epochs=cfg.bll_epochs,\n",
    "    trainset=trainset,\n",
    "    valset=valset,\n",
    "    device=cfg.device,\n",
    "    lr=cfg.bll_lr,\n",
    "    patience=cfg.patience,\n",
    "    nb_its_dev=1,\n",
    "    model_saves_dir=models_dir,\n",
    "    model_name=name\n",
    ")"
   ]
  },
  {
   "cell_type": "markdown",
   "metadata": {
    "id": "Nzrb9qNgiP_u"
   },
   "source": [
    "### Test the model\n",
    "To check for Bayesian behaviour, we find an uncertain prediction and visualize multiple samples from the posterior.\n"
   ]
  },
  {
   "cell_type": "code",
   "execution_count": 14,
   "metadata": {
    "colab": {
     "base_uri": "https://localhost:8080/",
     "height": 1000
    },
    "executionInfo": {
     "elapsed": 635,
     "status": "ok",
     "timestamp": 1741375008477,
     "user": {
      "displayName": "Conor Finlay",
      "userId": "06245016195405942659"
     },
     "user_tz": 0
    },
    "id": "dkvcA_L4iP_u",
    "outputId": "0098b0c4-e566-4f4d-f78f-7044d5c2b648"
   },
   "outputs": [
    {
     "data": {
      "image/png": "[encoded data removed]",
      "text/plain": [
       "<Figure size 1000x600 with 1 Axes>"
      ]
     },
     "metadata": {},
     "output_type": "display_data"
    },
    {
     "data": {
      "image/png": "[encoded data removed]",
      "text/plain": [
       "<Figure size 500x500 with 1 Axes>"
      ]
     },
     "metadata": {},
     "output_type": "display_data"
    }
   ],
   "source": [
    "import torch.nn.functional as F\n",
    "\n",
    "# Search for an uncertain prediction and visualize multiple samples\n",
    "test_iter = iter(testloader)\n",
    "found_uncertain = False\n",
    "max_tries = 100\n",
    "num_samples = 5\n",
    "\n",
    "try:\n",
    "    while not found_uncertain:\n",
    "        x, y = next(test_iter)\n",
    "        # Look at each example in the batch\n",
    "        for i in range(len(x)):\n",
    "            x_single = x[i:i+1]\n",
    "            y_single = y[i:i+1]\n",
    "\n",
    "            # Get multiple predictions for this single example\n",
    "            outputs = []\n",
    "            with torch.no_grad():  # Add no_grad context\n",
    "                for _ in range(num_samples):\n",
    "                    logits = bll_vi(x_single)\n",
    "                    probs = F.softmax(logits, dim=1)\n",
    "                    outputs.append(probs)\n",
    "\n",
    "            # Stack predictions\n",
    "            probs = torch.stack(outputs)  # Shape: [num_samples, 1, num_classes]\n",
    "            probs = probs.squeeze(1)  # Remove batch dimension -> [num_samples, num_classes]\n",
    "\n",
    "            # Check if predictions are not all highly confident\n",
    "            max_probs = probs.max(dim=1)[0]\n",
    "            if max_probs.mean() < 0.9:  # If average confidence is less than 60%\n",
    "                found_uncertain = True\n",
    "                break\n",
    "\n",
    "except StopIteration:\n",
    "    if not found_uncertain:\n",
    "        print(\"Could not find uncertain prediction in entire test set\")\n",
    "\n",
    "# Plot the softmax distributions\n",
    "plt.figure(figsize=(10, 6))\n",
    "x_axis = range(probs.shape[1])  # Range over number of classes\n",
    "\n",
    "for i in range(num_samples):\n",
    "    plt.plot(x_axis, probs[i].detach().cpu().numpy(), 'o-', alpha=0.7, label=f'Sample {i+1}')\n",
    "\n",
    "plt.xlabel('Class')\n",
    "plt.ylabel('Probability')\n",
    "plt.title(f'VI Model: Softmax Distribution Samples for Uncertain Test Example\\nTrue Class: {y_single.item()}')\n",
    "plt.legend()\n",
    "plt.grid(True, alpha=0.3)\n",
    "plt.show()\n",
    "\n",
    "# Display the uncertain image\n",
    "plt.figure(figsize=(5, 5))\n",
    "img = x_single.squeeze().cpu()\n",
    "if img.shape[0] == 1:  # If grayscale, remove channel dimension\n",
    "    img = img.squeeze(0)\n",
    "plt.imshow(img, cmap='gray' if len(img.shape) == 2 else None)\n",
    "plt.axis('off')\n",
    "plt.title(f'Uncertain Image (True Class: {y_single.item()})')\n",
    "plt.show()"
   ]
  },
  {
   "cell_type": "code",
   "execution_count": 13,
   "metadata": {
    "colab": {
     "base_uri": "https://localhost:8080/",
     "height": 528
    },
    "executionInfo": {
     "elapsed": 742,
     "status": "ok",
     "timestamp": 1741374903678,
     "user": {
      "displayName": "Conor Finlay",
      "userId": "06245016195405942659"
     },
     "user_tz": 0
    },
    "id": "CtEN70GwiP_u",
    "outputId": "bf38786f-0452-45b6-fe36-987293862991"
   },
   "outputs": [
    {
     "data": {
      "image/png": "[encoded data removed]",
      "text/plain": [
       "<Figure size 2000x500 with 16 Axes>"
      ]
     },
     "metadata": {},
     "output_type": "display_data"
    },
    {
     "name": "stdout",
     "output_type": "stream",
     "text": [
      "Reconstruction MSE: 0.0526\n"
     ]
    }
   ],
   "source": [
    "# Get test images\n",
    "test_images, test_labels = next(iter(testloader))\n",
    "test_images = test_images.to(cfg.device)\n",
    "\n",
    "# Get reconstructions using the classifier and decoder\n",
    "with torch.no_grad():\n",
    "    # Get latent representations from classifier\n",
    "    latent_reps, _ = backbone(test_images)  # Returns (latent_rep, logits)\n",
    "    # Reconstruct using decoder\n",
    "    reconstructions = decoder(latent_reps)\n",
    "\n",
    "# Plot original and reconstructed images\n",
    "fig, axes = plt.subplots(2, 8, figsize=(20, 5))\n",
    "fig.suptitle('Original vs Reconstructed Images', fontsize=16)\n",
    "\n",
    "# Plot original images\n",
    "for i in range(8):\n",
    "    axes[0,i].imshow(test_images[i].cpu().squeeze(), cmap='gray')\n",
    "    axes[0,i].axis('off')\n",
    "    if i == 0:\n",
    "        axes[0,i].set_title('Original', pad=10)\n",
    "\n",
    "# Plot reconstructions\n",
    "for i in range(8):\n",
    "    axes[1,i].imshow(reconstructions[i].cpu().squeeze(), cmap='gray')\n",
    "    axes[1,i].axis('off')\n",
    "    if i == 0:\n",
    "        axes[1,i].set_title('Reconstructed', pad=10)\n",
    "\n",
    "plt.tight_layout()\n",
    "plt.show()\n",
    "\n",
    "# Optionally, calculate reconstruction error\n",
    "mse = nn.MSELoss()\n",
    "recon_error = mse(reconstructions, test_images)\n",
    "print(f'Reconstruction MSE: {recon_error.item():.4f}')"
   ]
  }
 ],
 "metadata": {
  "accelerator": "GPU",
  "colab": {
   "gpuType": "L4",
   "machine_shape": "hm",
   "provenance": []
  },
  "kernelspec": {
   "display_name": "nn-venv",
   "language": "python",
   "name": "python3"
  },
  "language_info": {
   "codemirror_mode": {
    "name": "ipython",
    "version": 3
   },
   "file_extension": ".py",
   "mimetype": "text/x-python",
   "name": "python",
   "nbconvert_exporter": "python",
   "pygments_lexer": "ipython3",
   "version": "3.11.5"
  }
 },
 "nbformat": 4,
 "nbformat_minor": 0
}
