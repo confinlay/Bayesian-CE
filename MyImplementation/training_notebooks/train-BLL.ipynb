{
 "cells": [
  {
   "cell_type": "markdown",
   "metadata": {},
   "source": [
    "# Train a Bayesian Layer Model for MNIST classification\n",
    "\n",
    "In this notebook, we will train an MNIST convolutional classifier with a Bayesian last layer. First, we train a determinstic classifier to obtain a MAP estimate of the weights. Then, we replace the last layer of this model with a Bayesian last layer and train the layer using Stochastic Gradient Hamiltonian Monte Carlo (we keep the backbone fixed). "
   ]
  },
  {
   "cell_type": "markdown",
   "metadata": {},
   "source": [
    "## Setup\n"
   ]
  },
  {
   "cell_type": "markdown",
   "metadata": {},
   "source": [
    "Import libraries"
   ]
  },
  {
   "cell_type": "code",
   "execution_count": 3,
   "metadata": {},
   "outputs": [],
   "source": [
    "import importlib\n",
    "import torch\n",
    "import torch.nn as nn\n",
    "import torch.optim as optim\n",
    "import torchvision\n",
    "import torchvision.transforms as transforms\n",
    "import matplotlib.pyplot as plt\n",
    "import numpy as np\n",
    "import os\n",
    "\n",
    "import models.BLL\n",
    "import models.mnist_classifier_BLL\n",
    "import train\n",
    "import sampler\n"
   ]
  },
  {
   "cell_type": "markdown",
   "metadata": {},
   "source": [
    "Set the configuration"
   ]
  },
  {
   "cell_type": "code",
   "execution_count": 37,
   "metadata": {},
   "outputs": [],
   "source": [
    "# 1. Configuration\n",
    "class Config:\n",
    "    # Data\n",
    "    batch_size = 128\n",
    "    \n",
    "    # Backbone training\n",
    "    backbone_epochs = 6\n",
    "    backbone_lr = 0.001\n",
    "    backbone_patience = 5\n",
    "    \n",
    "    # BLL training\n",
    "    bll_epochs = 20\n",
    "    bll_lr = 0.01\n",
    "    bll_base_C = 0.05\n",
    "    bll_gauss_sig = 0.1\n",
    "    \n",
    "    # SGHMC parameters\n",
    "    burn_in = 2\n",
    "    re_burn = 100\n",
    "    sim_steps = 2      # Save model every N epochs\n",
    "    N_saves = 20       # Maximum ensemble size\n",
    "    resample_its = 50  # Resample momentum every N iterations\n",
    "    resample_prior_its = 100\n",
    "    nb_its_dev = 1     # Evaluate on validation set every epoch\n",
    "    \n",
    "    # Hardware\n",
    "    device = 'cuda' if torch.cuda.is_available() \\\n",
    "    else 'mps' if torch.backends.mps.is_available() \\\n",
    "    else 'cpu'\n",
    "    \n",
    "cfg = Config()"
   ]
  },
  {
   "cell_type": "markdown",
   "metadata": {},
   "source": [
    "Load the Datasets"
   ]
  },
  {
   "cell_type": "code",
   "execution_count": 32,
   "metadata": {},
   "outputs": [],
   "source": [
    "# Load the MNIST dataset\n",
    "transform = transforms.Compose([transforms.ToTensor()])\n",
    "trainset = torchvision.datasets.MNIST(root='../data', train=True, download=True, transform=transform)\n",
    "testset = torchvision.datasets.MNIST(root='../data', train=False, download=True, transform=transform)\n",
    "\n",
    "# Split training set into train and validation\n",
    "train_size = int(0.8 * len(trainset))\n",
    "val_size = len(trainset) - train_size\n",
    "trainset, valset = torch.utils.data.random_split(trainset, [train_size, val_size])\n",
    "\n",
    "trainloader = torch.utils.data.DataLoader(trainset, batch_size=64, shuffle=True, num_workers=2)\n",
    "valloader = torch.utils.data.DataLoader(valset, batch_size=64, shuffle=False, num_workers=2)\n",
    "testloader = torch.utils.data.DataLoader(testset, batch_size=64, shuffle=False, num_workers=2)"
   ]
  },
  {
   "cell_type": "markdown",
   "metadata": {},
   "source": [
    "Create a models and results directory if it doesn't exist"
   ]
  },
  {
   "cell_type": "code",
   "execution_count": 33,
   "metadata": {},
   "outputs": [],
   "source": [
    "models_dir = '../model_saves'\n",
    "results_dir = '../results'\n",
    "os.makedirs(models_dir, exist_ok=True)\n",
    "os.makedirs(results_dir, exist_ok=True)"
   ]
  },
  {
   "cell_type": "markdown",
   "metadata": {},
   "source": [
    "## Training\n",
    "We'll start with the backbone training."
   ]
  },
  {
   "cell_type": "markdown",
   "metadata": {},
   "source": [
    "### Backbone "
   ]
  },
  {
   "cell_type": "markdown",
   "metadata": {},
   "source": [
    "Load model"
   ]
  },
  {
   "cell_type": "code",
   "execution_count": 39,
   "metadata": {},
   "outputs": [
    {
     "name": "stdout",
     "output_type": "stream",
     "text": [
      "Backbone will run on: mps\n"
     ]
    }
   ],
   "source": [
    "from models.mnist_classifier_BLL import MNISTClassifierBLL\n",
    "importlib.reload(models.mnist_classifier_BLL)\n",
    "\n",
    "\n",
    "backbone = MNISTClassifierBLL(device=cfg.device)\n",
    "print(f\"Backbone will run on: {cfg.device}\")"
   ]
  },
  {
   "cell_type": "markdown",
   "metadata": {},
   "source": [
    "Train model"
   ]
  },
  {
   "cell_type": "code",
   "execution_count": 40,
   "metadata": {},
   "outputs": [
    {
     "name": "stdout",
     "output_type": "stream",
     "text": [
      "\u001b[36m\n",
      "Backbone Network:\u001b[0m\n",
      "it 0/6, Jtr = 0.001834, err = 0.000570, \u001b[31m   time: 13.178758 seconds\n",
      "\u001b[0m\n",
      "\u001b[32m    Jdev = 0.000458, err = 0.000136\n",
      "\u001b[0m\n",
      "\u001b[34mbest validation error\u001b[0m\n",
      "it 1/6, Jtr = 0.000424, err = 0.000132, \u001b[31m   time: 12.154358 seconds\n",
      "\u001b[0m\n",
      "\u001b[32m    Jdev = 0.000410, err = 0.000123\n",
      "\u001b[0m\n",
      "\u001b[34mbest validation error\u001b[0m\n",
      "it 2/6, Jtr = 0.000282, err = 0.000086, \u001b[31m   time: 11.951738 seconds\n",
      "\u001b[0m\n",
      "\u001b[32m    Jdev = 0.000274, err = 0.000083\n",
      "\u001b[0m\n",
      "\u001b[34mbest validation error\u001b[0m\n",
      "it 3/6, Jtr = 0.000217, err = 0.000069, \u001b[31m   time: 12.201441 seconds\n",
      "\u001b[0m\n",
      "\u001b[32m    Jdev = 0.000285, err = 0.000087\n",
      "\u001b[0m\n",
      "it 4/6, Jtr = 0.000172, err = 0.000056, \u001b[31m   time: 12.471736 seconds\n",
      "\u001b[0m\n",
      "\u001b[32m    Jdev = 0.000266, err = 0.000085\n",
      "\u001b[0m\n",
      "it 5/6, Jtr = 0.000146, err = 0.000048, \u001b[31m   time: 13.922614 seconds\n",
      "\u001b[0m\n",
      "\u001b[32m    Jdev = 0.000281, err = 0.000075\n",
      "\u001b[0m\n",
      "\u001b[34mbest validation error\u001b[0m\n",
      "\u001b[31m   average time: 17.516799 seconds\n",
      "\u001b[0m\n"
     ]
    },
    {
     "data": {
      "text/plain": [
       "<Figure size 640x480 with 0 Axes>"
      ]
     },
     "metadata": {},
     "output_type": "display_data"
    },
    {
     "data": {
      "image/png": "[encoded data removed]",
      "text/plain": [
       "<Figure size 640x480 with 1 Axes>"
      ]
     },
     "metadata": {},
     "output_type": "display_data"
    },
    {
     "name": "stdout",
     "output_type": "stream",
     "text": [
      "\n",
      "Backbone training completed! Best validation error: 0.0001\n"
     ]
    }
   ],
   "source": [
    "from train import train_backbone\n",
    "importlib.reload(train)\n",
    "\n",
    "cost_tr, cost_dev, err_tr, err_dev, best_err = train_backbone(\n",
    "    net=backbone,\n",
    "    name='mnist_backbone',\n",
    "    batch_size=cfg.batch_size,\n",
    "    nb_epochs=cfg.backbone_epochs,\n",
    "    trainset=trainset,\n",
    "    valset=valset,\n",
    "    device=cfg.device,\n",
    "    lr=cfg.backbone_lr,\n",
    "    patience=cfg.backbone_patience\n",
    ")\n",
    "\n",
    "print(f\"\\nBackbone training completed! Best validation error: {best_err:.4f}\")"
   ]
  },
  {
   "cell_type": "markdown",
   "metadata": {},
   "source": [
    "## Bayesian Last Layer\n",
    "Next we'll train the Bayesian last layer on the penultimate layer representations of the backbone."
   ]
  },
  {
   "cell_type": "markdown",
   "metadata": {},
   "source": [
    "### Load the model"
   ]
  },
  {
   "cell_type": "code",
   "execution_count": 57,
   "metadata": {},
   "outputs": [],
   "source": [
    "from models.BLL import BayesianLastLayerCat\n",
    "importlib.reload(models.BLL)\n",
    "\n",
    "bll = BayesianLastLayerCat(\n",
    "    backbone=backbone,\n",
    "    input_dim=256,  # Matches backbone's encoder output\n",
    "    output_dim=10,  # MNIST classes\n",
    "    N_train=len(trainset),\n",
    "    lr=cfg.bll_lr,\n",
    "    base_C=cfg.bll_base_C,\n",
    "    gauss_sig=cfg.bll_gauss_sig,\n",
    "    device=cfg.device\n",
    ")"
   ]
  },
  {
   "cell_type": "code",
   "execution_count": 58,
   "metadata": {},
   "outputs": [
    {
     "name": "stdout",
     "output_type": "stream",
     "text": [
      "\u001b[36m\n",
      "Network:\u001b[0m\n",
      "\u001b[36m\n",
      "Train:\u001b[0m\n",
      "  init cost variables:\n",
      "it 0/20, Jtr_pred = 0.000755, err = 0.026104, \u001b[31m   time: 11.945296 seconds\n",
      "\u001b[0m\n",
      " [update_lr] Learning rate: 0.009900  (epoch 0)\n",
      "\u001b[32m    Jdev = 9.909995, err = 0.000061\n",
      "\u001b[0m\n",
      "\u001b[34mbest test error\u001b[0m\n",
      "it 1/20, Jtr_pred = 0.000064, err = 0.002167, \u001b[31m   time: 9.815287 seconds\n",
      "\u001b[0m\n",
      " [update_lr] Learning rate: 0.009801  (epoch 1)\n",
      "\u001b[32m    Jdev = 10.289207, err = 0.000066\n",
      "\u001b[0m\n",
      "it 2/20, Jtr_pred = 0.000061, err = 0.002000, \u001b[31m   time: 8.061469 seconds\n",
      "\u001b[0m\n",
      " [update_lr] Learning rate: 0.009703  (epoch 2)\n",
      " [save_sampled_net] Ensemble size = 1\n",
      "\u001b[32m    Jdev = 10.364863, err = 0.000065\n",
      "\u001b[0m\n",
      "it 3/20, Jtr_pred = 0.000060, err = 0.002229, \u001b[31m   time: 8.768946 seconds\n",
      "\u001b[0m\n",
      " [update_lr] Learning rate: 0.009606  (epoch 3)\n",
      "\u001b[32m    Jdev = 11.228586, err = 0.000075\n",
      "\u001b[0m\n",
      "it 4/20, Jtr_pred = 0.000058, err = 0.002042, \u001b[31m   time: 9.782707 seconds\n",
      "\u001b[0m\n",
      " [update_lr] Learning rate: 0.009510  (epoch 4)\n",
      " [save_sampled_net] Ensemble size = 2\n",
      "\u001b[32m    Jdev = 11.000590, err = 0.000064\n",
      "\u001b[0m\n",
      "it 5/20, Jtr_pred = 0.000057, err = 0.002250, \u001b[31m   time: 9.820086 seconds\n",
      "\u001b[0m\n",
      " [update_lr] Learning rate: 0.009415  (epoch 5)\n",
      "\u001b[32m    Jdev = 11.622718, err = 0.000067\n",
      "\u001b[0m\n",
      "it 6/20, Jtr_pred = 0.000056, err = 0.002083, \u001b[31m   time: 8.557605 seconds\n",
      "\u001b[0m\n",
      " [update_lr] Learning rate: 0.009321  (epoch 6)\n",
      " [save_sampled_net] Ensemble size = 3\n",
      "\u001b[32m    Jdev = 10.886130, err = 0.000064\n",
      "\u001b[0m\n",
      "it 7/20, Jtr_pred = 0.000053, err = 0.002000, \u001b[31m   time: 9.980470 seconds\n",
      "\u001b[0m\n",
      " [update_lr] Learning rate: 0.009227  (epoch 7)\n",
      "\u001b[32m    Jdev = 11.623800, err = 0.000065\n",
      "\u001b[0m\n",
      "it 8/20, Jtr_pred = 0.000057, err = 0.002229, \u001b[31m   time: 9.211914 seconds\n",
      "\u001b[0m\n",
      " [update_lr] Learning rate: 0.009135  (epoch 8)\n",
      " [save_sampled_net] Ensemble size = 4\n",
      "\u001b[32m    Jdev = 11.402522, err = 0.000068\n",
      "\u001b[0m\n",
      "it 9/20, Jtr_pred = 0.000055, err = 0.001937, \u001b[31m   time: 8.780004 seconds\n",
      "\u001b[0m\n",
      " [update_lr] Learning rate: 0.009044  (epoch 9)\n",
      "\u001b[32m    Jdev = 11.669596, err = 0.000065\n",
      "\u001b[0m\n",
      "it 10/20, Jtr_pred = 0.000051, err = 0.001937, \u001b[31m   time: 9.616848 seconds\n",
      "\u001b[0m\n",
      " [update_lr] Learning rate: 0.008953  (epoch 10)\n",
      " [save_sampled_net] Ensemble size = 5\n",
      "\u001b[32m    Jdev = 11.595898, err = 0.000062\n",
      "\u001b[0m\n",
      "it 11/20, Jtr_pred = 0.000052, err = 0.001813, \u001b[31m   time: 8.913054 seconds\n",
      "\u001b[0m\n",
      " [update_lr] Learning rate: 0.008864  (epoch 11)\n",
      "\u001b[32m    Jdev = 11.400918, err = 0.000071\n",
      "\u001b[0m\n",
      "it 12/20, Jtr_pred = 0.000051, err = 0.002042, \u001b[31m   time: 8.481706 seconds\n",
      "\u001b[0m\n",
      " [update_lr] Learning rate: 0.008775  (epoch 12)\n",
      " [save_sampled_net] Ensemble size = 6\n",
      "\u001b[32m    Jdev = 11.541946, err = 0.000067\n",
      "\u001b[0m\n",
      "it 13/20, Jtr_pred = 0.000053, err = 0.001875, \u001b[31m   time: 9.291722 seconds\n",
      "\u001b[0m\n",
      " [update_lr] Learning rate: 0.008687  (epoch 13)\n",
      "\u001b[32m    Jdev = 12.042702, err = 0.000069\n",
      "\u001b[0m\n",
      "it 14/20, Jtr_pred = 0.000052, err = 0.002063, \u001b[31m   time: 9.927994 seconds\n",
      "\u001b[0m\n",
      " [update_lr] Learning rate: 0.008601  (epoch 14)\n",
      " [save_sampled_net] Ensemble size = 7\n",
      "\u001b[32m    Jdev = 11.447724, err = 0.000067\n",
      "\u001b[0m\n",
      "it 15/20, Jtr_pred = 0.000051, err = 0.001813, \u001b[31m   time: 8.662412 seconds\n",
      "\u001b[0m\n",
      " [update_lr] Learning rate: 0.008515  (epoch 15)\n",
      "\u001b[32m    Jdev = 12.673020, err = 0.000069\n",
      "\u001b[0m\n",
      "it 16/20, Jtr_pred = 0.000051, err = 0.001771, \u001b[31m   time: 8.435524 seconds\n",
      "\u001b[0m\n",
      " [update_lr] Learning rate: 0.008429  (epoch 16)\n",
      " [save_sampled_net] Ensemble size = 8\n",
      "\u001b[32m    Jdev = 11.517028, err = 0.000067\n",
      "\u001b[0m\n",
      "it 17/20, Jtr_pred = 0.000048, err = 0.001667, \u001b[31m   time: 8.901813 seconds\n",
      "\u001b[0m\n",
      " [update_lr] Learning rate: 0.008345  (epoch 17)\n",
      "\u001b[32m    Jdev = 11.567103, err = 0.000061\n",
      "\u001b[0m\n",
      "it 18/20, Jtr_pred = 0.000049, err = 0.001729, \u001b[31m   time: 9.068657 seconds\n",
      "\u001b[0m\n",
      " [update_lr] Learning rate: 0.008262  (epoch 18)\n",
      " [save_sampled_net] Ensemble size = 9\n",
      "\u001b[32m    Jdev = 11.522153, err = 0.000065\n",
      "\u001b[0m\n",
      "it 19/20, Jtr_pred = 0.000047, err = 0.001500, \u001b[31m   time: 9.145078 seconds\n",
      "\u001b[0m\n",
      " [update_lr] Learning rate: 0.008179  (epoch 19)\n",
      "\u001b[32m    Jdev = 10.947622, err = 0.000062\n",
      "\u001b[0m\n",
      "\u001b[31m   average time: 13.279809 seconds\n",
      "\u001b[0m\n"
     ]
    },
    {
     "ename": "AttributeError",
     "evalue": "'BayesianLastLayerCat' object has no attribute 'model'",
     "output_type": "error",
     "traceback": [
      "\u001b[0;31m---------------------------------------------------------------------------\u001b[0m",
      "\u001b[0;31mAttributeError\u001b[0m                            Traceback (most recent call last)",
      "Cell \u001b[0;32mIn[58], line 4\u001b[0m\n\u001b[1;32m      1\u001b[0m \u001b[38;5;28;01mfrom\u001b[39;00m\u001b[38;5;250m \u001b[39m\u001b[38;5;21;01mtrain\u001b[39;00m\u001b[38;5;250m \u001b[39m\u001b[38;5;28;01mimport\u001b[39;00m train_BLL_classification\n\u001b[1;32m      2\u001b[0m importlib\u001b[38;5;241m.\u001b[39mreload(train)\n\u001b[0;32m----> 4\u001b[0m bll_cost_tr, bll_cost_dev, bll_err_tr, bll_err_dev \u001b[38;5;241m=\u001b[39m \u001b[43mtrain_BLL_classification\u001b[49m\u001b[43m(\u001b[49m\n\u001b[1;32m      5\u001b[0m \u001b[43m    \u001b[49m\u001b[43mnet\u001b[49m\u001b[38;5;241;43m=\u001b[39;49m\u001b[43mbll\u001b[49m\u001b[43m,\u001b[49m\n\u001b[1;32m      6\u001b[0m \u001b[43m    \u001b[49m\u001b[43mname\u001b[49m\u001b[38;5;241;43m=\u001b[39;49m\u001b[38;5;124;43m'\u001b[39;49m\u001b[38;5;124;43mmnist_bll\u001b[39;49m\u001b[38;5;124;43m'\u001b[39;49m\u001b[43m,\u001b[49m\n\u001b[1;32m      7\u001b[0m \u001b[43m    \u001b[49m\u001b[43mbatch_size\u001b[49m\u001b[38;5;241;43m=\u001b[39;49m\u001b[43mcfg\u001b[49m\u001b[38;5;241;43m.\u001b[39;49m\u001b[43mbatch_size\u001b[49m\u001b[43m,\u001b[49m\n\u001b[1;32m      8\u001b[0m \u001b[43m    \u001b[49m\u001b[43mnb_epochs\u001b[49m\u001b[38;5;241;43m=\u001b[39;49m\u001b[43mcfg\u001b[49m\u001b[38;5;241;43m.\u001b[39;49m\u001b[43mbll_epochs\u001b[49m\u001b[43m,\u001b[49m\n\u001b[1;32m      9\u001b[0m \u001b[43m    \u001b[49m\u001b[43mtrainset\u001b[49m\u001b[38;5;241;43m=\u001b[39;49m\u001b[43mtrainset\u001b[49m\u001b[43m,\u001b[49m\n\u001b[1;32m     10\u001b[0m \u001b[43m    \u001b[49m\u001b[43mvalset\u001b[49m\u001b[38;5;241;43m=\u001b[39;49m\u001b[43mvalset\u001b[49m\u001b[43m,\u001b[49m\n\u001b[1;32m     11\u001b[0m \u001b[43m    \u001b[49m\u001b[43mdevice\u001b[49m\u001b[38;5;241;43m=\u001b[39;49m\u001b[43mcfg\u001b[49m\u001b[38;5;241;43m.\u001b[39;49m\u001b[43mdevice\u001b[49m\u001b[43m,\u001b[49m\n\u001b[1;32m     12\u001b[0m \u001b[43m    \u001b[49m\u001b[43mburn_in\u001b[49m\u001b[38;5;241;43m=\u001b[39;49m\u001b[43mcfg\u001b[49m\u001b[38;5;241;43m.\u001b[39;49m\u001b[43mburn_in\u001b[49m\u001b[43m,\u001b[49m\n\u001b[1;32m     13\u001b[0m \u001b[43m    \u001b[49m\u001b[43msim_steps\u001b[49m\u001b[38;5;241;43m=\u001b[39;49m\u001b[43mcfg\u001b[49m\u001b[38;5;241;43m.\u001b[39;49m\u001b[43msim_steps\u001b[49m\u001b[43m,\u001b[49m\n\u001b[1;32m     14\u001b[0m \u001b[43m    \u001b[49m\u001b[43mN_saves\u001b[49m\u001b[38;5;241;43m=\u001b[39;49m\u001b[43mcfg\u001b[49m\u001b[38;5;241;43m.\u001b[39;49m\u001b[43mN_saves\u001b[49m\u001b[43m,\u001b[49m\n\u001b[1;32m     15\u001b[0m \u001b[43m    \u001b[49m\u001b[43mresample_its\u001b[49m\u001b[38;5;241;43m=\u001b[39;49m\u001b[43mcfg\u001b[49m\u001b[38;5;241;43m.\u001b[39;49m\u001b[43mresample_its\u001b[49m\u001b[43m,\u001b[49m\n\u001b[1;32m     16\u001b[0m \u001b[43m    \u001b[49m\u001b[43mresample_prior_its\u001b[49m\u001b[38;5;241;43m=\u001b[39;49m\u001b[43mcfg\u001b[49m\u001b[38;5;241;43m.\u001b[39;49m\u001b[43mresample_prior_its\u001b[49m\u001b[43m,\u001b[49m\n\u001b[1;32m     17\u001b[0m \u001b[43m    \u001b[49m\u001b[43mre_burn\u001b[49m\u001b[38;5;241;43m=\u001b[39;49m\u001b[43mcfg\u001b[49m\u001b[38;5;241;43m.\u001b[39;49m\u001b[43mre_burn\u001b[49m\u001b[43m,\u001b[49m\n\u001b[1;32m     18\u001b[0m \u001b[43m    \u001b[49m\u001b[43mnb_its_dev\u001b[49m\u001b[38;5;241;43m=\u001b[39;49m\u001b[43mcfg\u001b[49m\u001b[38;5;241;43m.\u001b[39;49m\u001b[43mnb_its_dev\u001b[49m\n\u001b[1;32m     19\u001b[0m \u001b[43m)\u001b[49m\n",
      "File \u001b[0;32m~/Documents/College terms/College/Thesis/Thesis_Code_Minimised/MyImplementation/train.py:158\u001b[0m, in \u001b[0;36mtrain_BLL_classification\u001b[0;34m(net, name, batch_size, nb_epochs, trainset, valset, device, burn_in, sim_steps, N_saves, resample_its, resample_prior_its, re_burn, flat_ims, nb_its_dev)\u001b[0m\n\u001b[1;32m    155\u001b[0m cprint(\u001b[38;5;124m'\u001b[39m\u001b[38;5;124mr\u001b[39m\u001b[38;5;124m'\u001b[39m, \u001b[38;5;124m'\u001b[39m\u001b[38;5;124m   average time: \u001b[39m\u001b[38;5;132;01m%f\u001b[39;00m\u001b[38;5;124m seconds\u001b[39m\u001b[38;5;130;01m\\n\u001b[39;00m\u001b[38;5;124m'\u001b[39m \u001b[38;5;241m%\u001b[39m runtime_per_it)\n\u001b[1;32m    157\u001b[0m \u001b[38;5;66;03m# Save final model weights\u001b[39;00m\n\u001b[0;32m--> 158\u001b[0m \u001b[43mnet\u001b[49m\u001b[38;5;241;43m.\u001b[39;49m\u001b[43msave_weights\u001b[49m\u001b[43m(\u001b[49m\u001b[43mmodels_dir\u001b[49m\u001b[43m \u001b[49m\u001b[38;5;241;43m+\u001b[39;49m\u001b[43m \u001b[49m\u001b[38;5;124;43m'\u001b[39;49m\u001b[38;5;124;43m/state_dicts.pkl\u001b[39;49m\u001b[38;5;124;43m'\u001b[39;49m\u001b[43m)\u001b[49m\n\u001b[1;32m    160\u001b[0m \u001b[38;5;66;03m# Plot training curves\u001b[39;00m\n\u001b[1;32m    161\u001b[0m textsize \u001b[38;5;241m=\u001b[39m \u001b[38;5;241m15\u001b[39m\n",
      "File \u001b[0;32m~/Documents/College terms/College/Thesis/Thesis_Code_Minimised/MyImplementation/models/BLL.py:312\u001b[0m, in \u001b[0;36mBayesianLastLayerCat.save_weights\u001b[0;34m(self, path)\u001b[0m\n\u001b[1;32m    309\u001b[0m \u001b[38;5;28;01mdef\u001b[39;00m\u001b[38;5;250m \u001b[39m\u001b[38;5;21msave_weights\u001b[39m(\u001b[38;5;28mself\u001b[39m, path):\n\u001b[1;32m    310\u001b[0m \u001b[38;5;250m    \u001b[39m\u001b[38;5;124;03m\"\"\"Save the current model state dict and ensemble samples.\"\"\"\u001b[39;00m\n\u001b[1;32m    311\u001b[0m     save_dict \u001b[38;5;241m=\u001b[39m {\n\u001b[0;32m--> 312\u001b[0m         \u001b[38;5;124m'\u001b[39m\u001b[38;5;124mcurrent_state\u001b[39m\u001b[38;5;124m'\u001b[39m: \u001b[38;5;28;43mself\u001b[39;49m\u001b[38;5;241;43m.\u001b[39;49m\u001b[43mmodel\u001b[49m\u001b[38;5;241m.\u001b[39mstate_dict(),\n\u001b[1;32m    313\u001b[0m         \u001b[38;5;124m'\u001b[39m\u001b[38;5;124mensemble_samples\u001b[39m\u001b[38;5;124m'\u001b[39m: [model\u001b[38;5;241m.\u001b[39mstate_dict() \u001b[38;5;28;01mfor\u001b[39;00m model \u001b[38;5;129;01min\u001b[39;00m \u001b[38;5;28mself\u001b[39m\u001b[38;5;241m.\u001b[39mensemble_models]\n\u001b[1;32m    314\u001b[0m     }\n\u001b[1;32m    315\u001b[0m     torch\u001b[38;5;241m.\u001b[39msave(save_dict, path)\n\u001b[1;32m    316\u001b[0m     \u001b[38;5;28mprint\u001b[39m(\u001b[38;5;124mf\u001b[39m\u001b[38;5;124m\"\u001b[39m\u001b[38;5;124m [save_weights] Saved model state and \u001b[39m\u001b[38;5;132;01m{\u001b[39;00m\u001b[38;5;28mlen\u001b[39m(\u001b[38;5;28mself\u001b[39m\u001b[38;5;241m.\u001b[39mensemble_models)\u001b[38;5;132;01m}\u001b[39;00m\u001b[38;5;124m ensemble samples to \u001b[39m\u001b[38;5;132;01m{\u001b[39;00mpath\u001b[38;5;132;01m}\u001b[39;00m\u001b[38;5;124m\"\u001b[39m)\n",
      "File \u001b[0;32m~/Documents/College terms/College/Thesis/Thesis_Code_Minimised/thesis-venv/lib/python3.9/site-packages/torch/nn/modules/module.py:1931\u001b[0m, in \u001b[0;36mModule.__getattr__\u001b[0;34m(self, name)\u001b[0m\n\u001b[1;32m   1929\u001b[0m     \u001b[38;5;28;01mif\u001b[39;00m name \u001b[38;5;129;01min\u001b[39;00m modules:\n\u001b[1;32m   1930\u001b[0m         \u001b[38;5;28;01mreturn\u001b[39;00m modules[name]\n\u001b[0;32m-> 1931\u001b[0m \u001b[38;5;28;01mraise\u001b[39;00m \u001b[38;5;167;01mAttributeError\u001b[39;00m(\n\u001b[1;32m   1932\u001b[0m     \u001b[38;5;124mf\u001b[39m\u001b[38;5;124m\"\u001b[39m\u001b[38;5;124m'\u001b[39m\u001b[38;5;132;01m{\u001b[39;00m\u001b[38;5;28mtype\u001b[39m(\u001b[38;5;28mself\u001b[39m)\u001b[38;5;241m.\u001b[39m\u001b[38;5;18m__name__\u001b[39m\u001b[38;5;132;01m}\u001b[39;00m\u001b[38;5;124m'\u001b[39m\u001b[38;5;124m object has no attribute \u001b[39m\u001b[38;5;124m'\u001b[39m\u001b[38;5;132;01m{\u001b[39;00mname\u001b[38;5;132;01m}\u001b[39;00m\u001b[38;5;124m'\u001b[39m\u001b[38;5;124m\"\u001b[39m\n\u001b[1;32m   1933\u001b[0m )\n",
      "\u001b[0;31mAttributeError\u001b[0m: 'BayesianLastLayerCat' object has no attribute 'model'"
     ]
    }
   ],
   "source": [
    "from train import train_BLL_classification\n",
    "importlib.reload(train)\n",
    "\n",
    "bll_cost_tr, bll_cost_dev, bll_err_tr, bll_err_dev = train_BLL_classification(\n",
    "    net=bll,\n",
    "    name='mnist_bll',\n",
    "    batch_size=cfg.batch_size,\n",
    "    nb_epochs=cfg.bll_epochs,\n",
    "    trainset=trainset,\n",
    "    valset=valset,\n",
    "    device=cfg.device,\n",
    "    burn_in=cfg.burn_in,\n",
    "    sim_steps=cfg.sim_steps,\n",
    "    N_saves=cfg.N_saves,\n",
    "    resample_its=cfg.resample_its,\n",
    "    resample_prior_its=cfg.resample_prior_its,\n",
    "    re_burn=cfg.re_burn,\n",
    "    nb_its_dev=cfg.nb_its_dev\n",
    ")"
   ]
  },
  {
   "cell_type": "code",
   "execution_count": 60,
   "metadata": {},
   "outputs": [
    {
     "name": "stdout",
     "output_type": "stream",
     "text": [
      " [save_checkpoint] Saved model state to ../model_saves/BLL_checkpoint.pth\n"
     ]
    }
   ],
   "source": [
    "bll.save_checkpoint(models_dir + '/BLL_checkpoint.pth')"
   ]
  },
  {
   "cell_type": "code",
   "execution_count": 63,
   "metadata": {},
   "outputs": [
    {
     "name": "stdout",
     "output_type": "stream",
     "text": [
      "\n",
      "Performing final evaluation...\n"
     ]
    },
    {
     "name": "stderr",
     "output_type": "stream",
     "text": [
      "Evaluating:   0%|          | 0/157 [00:04<?, ?it/s]\n"
     ]
    },
    {
     "ename": "KeyError",
     "evalue": "'total_entropy'",
     "output_type": "error",
     "traceback": [
      "\u001b[0;31m---------------------------------------------------------------------------\u001b[0m",
      "\u001b[0;31mKeyError\u001b[0m                                  Traceback (most recent call last)",
      "Cell \u001b[0;32mIn[63], line 23\u001b[0m\n\u001b[1;32m     20\u001b[0m     \u001b[38;5;28;01mreturn\u001b[39;00m np\u001b[38;5;241m.\u001b[39marray(correct), {k: np\u001b[38;5;241m.\u001b[39marray(v) \u001b[38;5;28;01mfor\u001b[39;00m k, v \u001b[38;5;129;01min\u001b[39;00m uncertainties\u001b[38;5;241m.\u001b[39mitems()}\n\u001b[1;32m     22\u001b[0m \u001b[38;5;66;03m# Run final evaluation\u001b[39;00m\n\u001b[0;32m---> 23\u001b[0m correct, uncertainties \u001b[38;5;241m=\u001b[39m \u001b[43mevaluate_uncertainty\u001b[49m\u001b[43m(\u001b[49m\u001b[43mbll\u001b[49m\u001b[43m,\u001b[49m\u001b[43m \u001b[49m\u001b[43mtestloader\u001b[49m\u001b[43m,\u001b[49m\u001b[43m \u001b[49m\u001b[43mcfg\u001b[49m\u001b[38;5;241;43m.\u001b[39;49m\u001b[43mN_saves\u001b[49m\u001b[43m)\u001b[49m\n\u001b[1;32m     24\u001b[0m accuracy \u001b[38;5;241m=\u001b[39m correct\u001b[38;5;241m.\u001b[39mmean()\n\u001b[1;32m     25\u001b[0m \u001b[38;5;28mprint\u001b[39m(uncertainties)\n",
      "Cell \u001b[0;32mIn[63], line 18\u001b[0m, in \u001b[0;36mevaluate_uncertainty\u001b[0;34m(model, loader, n_samples)\u001b[0m\n\u001b[1;32m     15\u001b[0m     correct\u001b[38;5;241m.\u001b[39mextend((pred \u001b[38;5;241m==\u001b[39m y)\u001b[38;5;241m.\u001b[39mcpu()\u001b[38;5;241m.\u001b[39mnumpy())\n\u001b[1;32m     17\u001b[0m     \u001b[38;5;28;01mfor\u001b[39;00m k, v \u001b[38;5;129;01min\u001b[39;00m uncertainty\u001b[38;5;241m.\u001b[39mitems():\n\u001b[0;32m---> 18\u001b[0m         \u001b[43muncertainties\u001b[49m\u001b[43m[\u001b[49m\u001b[43mk\u001b[49m\u001b[43m]\u001b[49m\u001b[38;5;241m.\u001b[39mextend(v\u001b[38;5;241m.\u001b[39mcpu()\u001b[38;5;241m.\u001b[39mnumpy())\n\u001b[1;32m     20\u001b[0m \u001b[38;5;28;01mreturn\u001b[39;00m np\u001b[38;5;241m.\u001b[39marray(correct), {k: np\u001b[38;5;241m.\u001b[39marray(v) \u001b[38;5;28;01mfor\u001b[39;00m k, v \u001b[38;5;129;01min\u001b[39;00m uncertainties\u001b[38;5;241m.\u001b[39mitems()}\n",
      "\u001b[0;31mKeyError\u001b[0m: 'total_entropy'"
     ]
    }
   ],
   "source": [
    "from tqdm import tqdm\n",
    "\n",
    "print(\"\\nPerforming final evaluation...\")\n",
    "\n",
    "def evaluate_uncertainty(model, loader, n_samples=None):\n",
    "    correct = []\n",
    "    uncertainties = {'total': [], 'aleatoric': [], 'epistemic': []}\n",
    "    \n",
    "    for x, y in tqdm(loader, desc=\"Evaluating\"):\n",
    "        x, y = x.to(model.device), y.to(model.device)\n",
    "        probs, uncertainty = model.predict_with_uncertainty(x)\n",
    "        \n",
    "        # Store predictions and uncertainties\n",
    "        pred = probs.argmax(dim=1)\n",
    "        correct.extend((pred == y).cpu().numpy())\n",
    "        \n",
    "        for k, v in uncertainty.items():\n",
    "            uncertainties[k].extend(v.cpu().numpy())\n",
    "    \n",
    "    return np.array(correct), {k: np.array(v) for k, v in uncertainties.items()}\n",
    "\n",
    "# Run final evaluation\n",
    "correct, uncertainties = evaluate_uncertainty(bll, testloader, cfg.N_saves)\n",
    "accuracy = correct.mean()\n",
    "\n",
    "print(f\"\\nFinal Test Accuracy: {accuracy:.4f}\")\n",
    "\n",
    "# 8. Visualization of Uncertainties\n",
    "plt.figure(figsize=(15, 5))\n",
    "\n",
    "# Total uncertainty\n",
    "plt.subplot(131)\n",
    "plt.hist(uncertainties['total_entropy'][correct], alpha=0.5, label='Correct', density=True)\n",
    "plt.hist(uncertainties['total_entropy'][~correct], alpha=0.5, label='Incorrect', density=True)\n",
    "plt.xlabel('Total Uncertainty')\n",
    "plt.ylabel('Density')\n",
    "plt.legend()\n",
    "\n",
    "# Aleatoric uncertainty\n",
    "plt.subplot(132)\n",
    "plt.hist(uncertainties['aleatoric_entropy'][correct], alpha=0.5, label='Correct', density=True)\n",
    "plt.hist(uncertainties['aleatoric_entropy'][~correct], alpha=0.5, label='Incorrect', density=True)\n",
    "plt.xlabel('Aleatoric Uncertainty')\n",
    "plt.legend()\n",
    "\n",
    "# Epistemic uncertainty\n",
    "plt.subplot(133)\n",
    "plt.hist(uncertainties['epistemic_entropy'][correct], alpha=0.5, label='Correct', density=True)\n",
    "plt.hist(uncertainties['epistemic_entropy'][~correct], alpha=0.5, label='Incorrect', density=True)\n",
    "plt.xlabel('Epistemic Uncertainty')\n",
    "plt.legend()\n",
    "\n",
    "plt.tight_layout()\n",
    "plt.show()"
   ]
  }
 ],
 "metadata": {
  "kernelspec": {
   "display_name": "thesis-venv",
   "language": "python",
   "name": "python3"
  },
  "language_info": {
   "codemirror_mode": {
    "name": "ipython",
    "version": 3
   },
   "file_extension": ".py",
   "mimetype": "text/x-python",
   "name": "python",
   "nbconvert_exporter": "python",
   "pygments_lexer": "ipython3",
   "version": "3.9.6"
  }
 },
 "nbformat": 4,
 "nbformat_minor": 2
}
