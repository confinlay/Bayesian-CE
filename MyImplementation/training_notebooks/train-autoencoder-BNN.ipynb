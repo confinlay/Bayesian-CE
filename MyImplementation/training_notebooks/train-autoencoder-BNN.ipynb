{
 "cells": [
  {
   "cell_type": "markdown",
   "metadata": {},
   "source": [
    "# Test Autoencoder + BNN\n",
    "In this notebook we will test the ability of a BNN to guide the counterfactual exploration for various dimensions."
   ]
  },
  {
   "cell_type": "markdown",
   "metadata": {},
   "source": [
    "## Setup\n"
   ]
  },
  {
   "cell_type": "markdown",
   "metadata": {},
   "source": [
    "Import libraries"
   ]
  },
  {
   "cell_type": "code",
   "execution_count": 2,
   "metadata": {},
   "outputs": [],
   "source": [
    "import importlib\n",
    "import sys\n",
    "# Import our custom modules\n",
    "from models import FlexibleAutoencoder\n",
    "from models import BNN_VI\n",
    "\n",
    "import torch\n",
    "import torch.nn as nn\n",
    "import torch.optim as optim\n",
    "import torchvision\n",
    "import torchvision.transforms as transforms\n",
    "import matplotlib.pyplot as plt\n",
    "import numpy as np\n",
    "import os"
   ]
  },
  {
   "cell_type": "markdown",
   "metadata": {},
   "source": [
    "Set the device"
   ]
  },
  {
   "cell_type": "code",
   "execution_count": 3,
   "metadata": {},
   "outputs": [
    {
     "name": "stdout",
     "output_type": "stream",
     "text": [
      "Using device: mps\n"
     ]
    }
   ],
   "source": [
    "if torch.cuda.is_available():\n",
    "    device = torch.device(\"cuda\")\n",
    "elif torch.backends.mps.is_available():\n",
    "    device = torch.device(\"mps\")\n",
    "else:\n",
    "    device = torch.device(\"cpu\")\n",
    "\n",
    "print(f\"Using device: {device}\")"
   ]
  },
  {
   "cell_type": "markdown",
   "metadata": {},
   "source": [
    "Load the Datasets"
   ]
  },
  {
   "cell_type": "code",
   "execution_count": 4,
   "metadata": {},
   "outputs": [],
   "source": [
    "# Load the MNIST dataset\n",
    "transform = transforms.Compose([transforms.ToTensor()])\n",
    "trainset = torchvision.datasets.MNIST(root='../data', train=True, download=True, transform=transform)\n",
    "testset = torchvision.datasets.MNIST(root='../data', train=False, download=True, transform=transform)\n",
    "\n",
    "trainloader = torch.utils.data.DataLoader(trainset, batch_size=64, shuffle=True, num_workers=2)\n",
    "testloader = torch.utils.data.DataLoader(testset, batch_size=64, shuffle=False, num_workers=2)"
   ]
  },
  {
   "cell_type": "markdown",
   "metadata": {},
   "source": [
    "Set the latent dimension"
   ]
  },
  {
   "cell_type": "code",
   "execution_count": 5,
   "metadata": {},
   "outputs": [],
   "source": [
    "latent_dim = 256"
   ]
  },
  {
   "cell_type": "markdown",
   "metadata": {},
   "source": [
    "Create a models directory if it doesn't exist"
   ]
  },
  {
   "cell_type": "code",
   "execution_count": 6,
   "metadata": {},
   "outputs": [],
   "source": [
    "# Create models directory in parent directory if it doesn't exist\n",
    "os.makedirs(os.path.join('..', 'model_saves'), exist_ok=True)\n",
    "model_saves_path = os.path.join('..', 'model_saves')"
   ]
  },
  {
   "cell_type": "markdown",
   "metadata": {},
   "source": [
    "## Input space optimisation\n",
    "Let's try to create CLUEs from the input space"
   ]
  },
  {
   "cell_type": "markdown",
   "metadata": {},
   "source": [
    "We'll start be defining an identify backbone that allows us to just pass the input to the Bayesian layers"
   ]
  },
  {
   "cell_type": "code",
   "execution_count": 34,
   "metadata": {},
   "outputs": [],
   "source": [
    "import torch\n",
    "import torch.nn as nn\n",
    "\n",
    "class IdentityBackbone(nn.Module):\n",
    "\n",
    "    def __init__(self):\n",
    "        super().__init__()\n",
    "        \n",
    "    def forward(self, x):\n",
    "        if len(x.shape) > 2:\n",
    "            return x.view(x.size(0), -1)\n",
    "        else:\n",
    "            return x    \n",
    "        \n",
    "    def decode(self, x):\n",
    "        return x.view(x.size(0), 1, 28, 28)"
   ]
  },
  {
   "cell_type": "markdown",
   "metadata": {},
   "source": [
    "Next we'll train the bayesian layers on the input space"
   ]
  },
  {
   "cell_type": "code",
   "execution_count": 35,
   "metadata": {},
   "outputs": [],
   "source": [
    "from models.BNN_VI import BayesianNeuralNetworkVI\n",
    "\n",
    "# Create the identity backbone\n",
    "identity_backbone = IdentityBackbone()\n",
    "\n",
    "# Determine input and output dimensions\n",
    "input_dim = 784  # For MNIST flattened input (28x28), adjust as needed\n",
    "output_dim = 10  # Number of classes\n",
    "\n",
    "# Create the BNN with the identity backbone\n",
    "bnn_model = BayesianNeuralNetworkVI(\n",
    "    backbone=identity_backbone,\n",
    "    input_dim=input_dim,      # This should match your raw input dimension\n",
    "    output_dim=output_dim,    # Number of classes\n",
    "    device=device,\n",
    "    hidden_dim=512\n",
    ")"
   ]
  },
  {
   "cell_type": "markdown",
   "metadata": {},
   "source": [
    "And now we trrain"
   ]
  },
  {
   "cell_type": "code",
   "execution_count": 23,
   "metadata": {},
   "outputs": [
    {
     "name": "stdout",
     "output_type": "stream",
     "text": [
      "\u001b[36m\n",
      "Bayesian Neural Network (VI):\u001b[0m\n",
      "it 0/5, Jtr = 0.015, err = 0.316, KL = 0.039, \u001b[31m   time: 16.807024 seconds\n",
      "\u001b[0m\n",
      "\u001b[32m    Jdev = 0.287, err = 0.087\n",
      "\u001b[0m\n",
      "\u001b[34mbest validation error\u001b[0m\n",
      "it 1/5, Jtr = 0.005, err = 0.099, KL = 0.073, \u001b[31m   time: 16.711217 seconds\n",
      "\u001b[0m\n",
      "\u001b[32m    Jdev = 0.177, err = 0.057\n",
      "\u001b[0m\n",
      "\u001b[34mbest validation error\u001b[0m\n",
      "it 2/5, Jtr = 0.003, err = 0.069, KL = 0.100, \u001b[31m   time: 15.405734 seconds\n",
      "\u001b[0m\n",
      "\u001b[32m    Jdev = 0.143, err = 0.045\n",
      "\u001b[0m\n",
      "\u001b[34mbest validation error\u001b[0m\n",
      "it 3/5, Jtr = 0.003, err = 0.053, KL = 0.123, \u001b[31m   time: 20.311643 seconds\n",
      "\u001b[0m\n",
      "\u001b[32m    Jdev = 0.109, err = 0.033\n",
      "\u001b[0m\n",
      "\u001b[34mbest validation error\u001b[0m\n",
      "it 4/5, Jtr = 0.002, err = 0.042, KL = 0.144, \u001b[31m   time: 14.301133 seconds\n",
      "\u001b[0m\n",
      "\u001b[32m    Jdev = 0.099, err = 0.030\n",
      "\u001b[0m\n",
      "\u001b[34mbest validation error\u001b[0m\n",
      "\u001b[31m   average time: 20.855232 seconds\n",
      "\u001b[0m\n",
      " [save_checkpoint] Saved model state to ../model_saves/BNN_VI_identity_models/BNN_VI_best_634.pt\n",
      "Saved best model to: ../model_saves/BNN_VI_identity_models/BNN_VI_best_634.pt\n"
     ]
    },
    {
     "data": {
      "text/plain": [
       "(array([0.01503895, 0.00497097, 0.00346443, 0.0027162 , 0.00213342]),\n",
       " array([0.2872484 , 0.17706164, 0.14263464, 0.10932655, 0.09877753]),\n",
       " array([0.31588333, 0.09901667, 0.06865   , 0.05296667, 0.04186667]),\n",
       " array([0.087 , 0.0565, 0.0454, 0.0333, 0.0301]),\n",
       " array([0.03907171, 0.07310414, 0.09966876, 0.12282432, 0.14367814]))"
      ]
     },
     "execution_count": 23,
     "metadata": {},
     "output_type": "execute_result"
    },
    {
     "data": {
      "text/plain": [
       "<Figure size 640x480 with 0 Axes>"
      ]
     },
     "metadata": {},
     "output_type": "display_data"
    }
   ],
   "source": [
    "from train import train_BNN_VI_classification\n",
    "\n",
    "train_BNN_VI_classification(\n",
    "    net=bnn_model,\n",
    "    name='BNN_VI_identity',\n",
    "    batch_size=64,\n",
    "    nb_epochs=5,\n",
    "    trainset=trainset,\n",
    "    valset=testset,\n",
    "    device=device,\n",
    "    model_saves_dir=model_saves_path)"
   ]
  },
  {
   "cell_type": "code",
   "execution_count": 36,
   "metadata": {},
   "outputs": [
    {
     "name": "stdout",
     "output_type": "stream",
     "text": [
      " [load_checkpoint] Loaded checkpoint from ../model_saves/BNN_VI_identity_models/BNN_VI_best_634.pt\n"
     ]
    },
    {
     "name": "stderr",
     "output_type": "stream",
     "text": [
      "/Users/conor/Documents/College terms/College/Thesis/Thesis_Code_Minimised/MyImplementation/models/BNN_VI.py:158: FutureWarning: You are using `torch.load` with `weights_only=False` (the current default value), which uses the default pickle module implicitly. It is possible to construct malicious pickle data which will execute arbitrary code during unpickling (See https://github.com/pytorch/pytorch/blob/main/SECURITY.md#untrusted-models for more details). In a future release, the default value for `weights_only` will be flipped to `True`. This limits the functions that could be executed during unpickling. Arbitrary objects will no longer be allowed to be loaded via this mode unless they are explicitly allowlisted by the user via `torch.serialization.add_safe_globals`. We recommend you start setting `weights_only=True` for any use case where you don't have full control of the loaded file. Please open an issue on GitHub for any issues related to this experimental feature.\n",
      "  checkpoint = torch.load(path, map_location=self.device)\n"
     ]
    }
   ],
   "source": [
    "bnn_model.load_checkpoint(\"../model_saves/BNN_VI_identity_models/BNN_VI_best_634.pt\")"
   ]
  },
  {
   "cell_type": "markdown",
   "metadata": {},
   "source": [
    "## Small Autoencoder Optimisation\n",
    "Let's try to create CLUEs from the latent space of a small autoencoder"
   ]
  },
  {
   "cell_type": "markdown",
   "metadata": {},
   "source": [
    "We'll start be defining an identify backbone that allows us to just pass the input to the Bayesian layers"
   ]
  },
  {
   "cell_type": "code",
   "execution_count": 62,
   "metadata": {},
   "outputs": [],
   "source": [
    "import torch\n",
    "import torch.nn as nn\n",
    "import models.FlexibleAutoencoder as fa\n",
    "importlib.reload(fa)\n",
    "from models.FlexibleAutoencoder import FlexibleAutoencoder"
   ]
  },
  {
   "cell_type": "code",
   "execution_count": 67,
   "metadata": {},
   "outputs": [
    {
     "name": "stdout",
     "output_type": "stream",
     "text": [
      "Training autoencoder with hidden dimension 64...\n",
      "Saved best model to ../model_saves\n",
      "Epoch 1/10, Train Loss: 0.021630, Val Loss: 0.013025\n",
      "Saved best model to ../model_saves\n",
      "Epoch 2/10, Train Loss: 0.013694, Val Loss: 0.011292\n",
      "Saved best model to ../model_saves\n",
      "Epoch 3/10, Train Loss: 0.012397, Val Loss: 0.010447\n",
      "Saved best model to ../model_saves\n",
      "Epoch 4/10, Train Loss: 0.011711, Val Loss: 0.009931\n",
      "Saved best model to ../model_saves\n",
      "Epoch 5/10, Train Loss: 0.011273, Val Loss: 0.009754\n",
      "Saved best model to ../model_saves\n",
      "Epoch 6/10, Train Loss: 0.010947, Val Loss: 0.009433\n",
      "Saved best model to ../model_saves\n",
      "Epoch 7/10, Train Loss: 0.010614, Val Loss: 0.009189\n",
      "Saved best model to ../model_saves\n",
      "Epoch 8/10, Train Loss: 0.010305, Val Loss: 0.008775\n",
      "Saved best model to ../model_saves\n",
      "Epoch 9/10, Train Loss: 0.010008, Val Loss: 0.008459\n",
      "Saved best model to ../model_saves\n",
      "Epoch 10/10, Train Loss: 0.009722, Val Loss: 0.008306\n",
      "Saved final model to ../model_saves\n",
      "Autoencoder training completed and model saved.\n"
     ]
    }
   ],
   "source": [
    "\n",
    "# Create the autoencoder with hidden dimension 64\n",
    "autoencoder = FlexibleAutoencoder(\n",
    "    hidden_dim=64,\n",
    "    input_shape=(1, 28, 28),  # For MNIST\n",
    "    device=device\n",
    ")\n",
    "# Train the autoencoder using the train_model method\n",
    "print(\"Training autoencoder with hidden dimension 64...\")\n",
    "train_losses, val_losses = autoencoder.train_model(\n",
    "    train_loader=trainloader,\n",
    "    val_loader=testloader,\n",
    "    num_epochs=10,\n",
    "    lr=1e-3,\n",
    "    weight_decay=1e-5,\n",
    "    early_stopping_patience=5,\n",
    "    verbose=True,\n",
    "    save_path=model_saves_path,\n",
    "    model_name=\"autoencoder_dim64\"\n",
    ")\n",
    "\n",
    "# Save the trained autoencoder\n",
    "torch.save(autoencoder.state_dict(), f\"{model_saves_path}/autoencoder_dim64.pt\")\n",
    "print(\"Autoencoder training completed and model saved.\")\n"
   ]
  },
  {
   "cell_type": "code",
   "execution_count": 68,
   "metadata": {},
   "outputs": [
    {
     "data": {
      "text/plain": [
       "FlexibleAutoencoder(\n",
       "  (encoder): Sequential(\n",
       "    (0): Linear(in_features=784, out_features=419, bias=True)\n",
       "    (1): BatchNorm1d(419, eps=1e-05, momentum=0.1, affine=True, track_running_stats=True)\n",
       "    (2): LeakyReLU(negative_slope=0.2, inplace=True)\n",
       "    (3): Linear(in_features=419, out_features=223, bias=True)\n",
       "    (4): BatchNorm1d(223, eps=1e-05, momentum=0.1, affine=True, track_running_stats=True)\n",
       "    (5): LeakyReLU(negative_slope=0.2, inplace=True)\n",
       "    (6): Linear(in_features=223, out_features=119, bias=True)\n",
       "    (7): BatchNorm1d(119, eps=1e-05, momentum=0.1, affine=True, track_running_stats=True)\n",
       "    (8): LeakyReLU(negative_slope=0.2, inplace=True)\n",
       "    (9): Linear(in_features=119, out_features=64, bias=True)\n",
       "    (10): BatchNorm1d(64, eps=1e-05, momentum=0.1, affine=True, track_running_stats=True)\n",
       "    (11): LeakyReLU(negative_slope=0.2, inplace=True)\n",
       "  )\n",
       "  (decoder): Sequential(\n",
       "    (0): Linear(in_features=64, out_features=119, bias=True)\n",
       "    (1): BatchNorm1d(119, eps=1e-05, momentum=0.1, affine=True, track_running_stats=True)\n",
       "    (2): LeakyReLU(negative_slope=0.2, inplace=True)\n",
       "    (3): Linear(in_features=119, out_features=223, bias=True)\n",
       "    (4): BatchNorm1d(223, eps=1e-05, momentum=0.1, affine=True, track_running_stats=True)\n",
       "    (5): LeakyReLU(negative_slope=0.2, inplace=True)\n",
       "    (6): Linear(in_features=223, out_features=419, bias=True)\n",
       "    (7): BatchNorm1d(419, eps=1e-05, momentum=0.1, affine=True, track_running_stats=True)\n",
       "    (8): LeakyReLU(negative_slope=0.2, inplace=True)\n",
       "    (9): Linear(in_features=419, out_features=784, bias=True)\n",
       "    (10): Sigmoid()\n",
       "  )\n",
       ")"
      ]
     },
     "execution_count": 68,
     "metadata": {},
     "output_type": "execute_result"
    }
   ],
   "source": [
    "autoencoder.load(f\"{model_saves_path}/autoencoder_dim64_best_model.pth\", device)"
   ]
  },
  {
   "cell_type": "markdown",
   "metadata": {},
   "source": [
    "Next we'll train the bayesian layers on the autoencoder space"
   ]
  },
  {
   "cell_type": "code",
   "execution_count": 71,
   "metadata": {},
   "outputs": [],
   "source": [
    "import models.BNN_VI as bnn_vi\n",
    "importlib.reload(bnn_vi)\n",
    "from models.BNN_VI import BayesianNeuralNetworkVI\n",
    "\n",
    "# Determine input and output dimensions\n",
    "input_dim = autoencoder.hidden_dim\n",
    "output_dim = 10  # Number of classes\n",
    "\n",
    "# Create the BNN with the identity backbone\n",
    "bnn_model = BayesianNeuralNetworkVI(\n",
    "    backbone=autoencoder,\n",
    "    input_dim=input_dim,      # This should match your raw input dimension\n",
    "    output_dim=output_dim,    # Number of classes\n",
    "    device=device,\n",
    "    hidden_dim=256\n",
    ")"
   ]
  },
  {
   "cell_type": "markdown",
   "metadata": {},
   "source": [
    "And now we trrain"
   ]
  },
  {
   "cell_type": "code",
   "execution_count": 72,
   "metadata": {},
   "outputs": [
    {
     "name": "stdout",
     "output_type": "stream",
     "text": [
      "\u001b[36m\n",
      "Bayesian Neural Network (VI):\u001b[0m\n",
      "it 0/5, Jtr = 0.019, err = 0.424, KL = 0.412, \u001b[31m   time: 18.565641 seconds\n",
      "\u001b[0m\n",
      "\u001b[32m    Jdev = 0.514, err = 0.147\n",
      "\u001b[0m\n",
      "\u001b[34mbest validation error\u001b[0m\n",
      "it 1/5, Jtr = 0.009, err = 0.187, KL = 0.674, \u001b[31m   time: 14.724581 seconds\n",
      "\u001b[0m\n",
      "\u001b[32m    Jdev = 0.414, err = 0.126\n",
      "\u001b[0m\n",
      "\u001b[34mbest validation error\u001b[0m\n",
      "it 2/5, Jtr = 0.008, err = 0.155, KL = 0.811, \u001b[31m   time: 15.772595 seconds\n",
      "\u001b[0m\n",
      "\u001b[32m    Jdev = 0.349, err = 0.104\n",
      "\u001b[0m\n",
      "\u001b[34mbest validation error\u001b[0m\n",
      "it 3/5, Jtr = 0.007, err = 0.134, KL = 0.918, \u001b[31m   time: 16.886645 seconds\n",
      "\u001b[0m\n",
      "\u001b[32m    Jdev = 0.310, err = 0.092\n",
      "\u001b[0m\n",
      "\u001b[34mbest validation error\u001b[0m\n",
      "it 4/5, Jtr = 0.006, err = 0.117, KL = 1.022, \u001b[31m   time: 16.896950 seconds\n",
      "\u001b[0m\n",
      "\u001b[32m    Jdev = 0.266, err = 0.078\n",
      "\u001b[0m\n",
      "\u001b[34mbest validation error\u001b[0m\n",
      "\u001b[31m   average time: 22.325128 seconds\n",
      "\u001b[0m\n",
      " [save_checkpoint] Saved model state to ../model_saves/BNN_VI_identity_models/BNN_VI_best_3558.pt\n",
      "Saved best model to: ../model_saves/BNN_VI_identity_models/BNN_VI_best_3558.pt\n"
     ]
    },
    {
     "data": {
      "text/plain": [
       "(array([0.01915758, 0.00913193, 0.00763764, 0.00671424, 0.00585357]),\n",
       " array([0.51419662, 0.41412108, 0.34904055, 0.30974425, 0.26634144]),\n",
       " array([0.4236    , 0.18728333, 0.15521667, 0.13391667, 0.11686667]),\n",
       " array([0.147 , 0.1264, 0.1038, 0.0919, 0.0779]),\n",
       " array([0.41223527, 0.67423364, 0.8111346 , 0.91830486, 1.0217856 ]))"
      ]
     },
     "execution_count": 72,
     "metadata": {},
     "output_type": "execute_result"
    },
    {
     "data": {
      "text/plain": [
       "<Figure size 640x480 with 0 Axes>"
      ]
     },
     "metadata": {},
     "output_type": "display_data"
    }
   ],
   "source": [
    "from train import train_BNN_VI_classification\n",
    "\n",
    "train_BNN_VI_classification(\n",
    "    net=bnn_model,\n",
    "    name='BNN_VI_identity',\n",
    "    batch_size=64,\n",
    "    nb_epochs=5,\n",
    "    trainset=trainset,\n",
    "    valset=testset,\n",
    "    device=device,\n",
    "    model_saves_dir=model_saves_path)"
   ]
  },
  {
   "cell_type": "code",
   "execution_count": null,
   "metadata": {},
   "outputs": [
    {
     "name": "stdout",
     "output_type": "stream",
     "text": [
      " [load_checkpoint] Loaded checkpoint from ../model_saves/BNN_VI_identity_models/BNN_VI_best_634.pt\n"
     ]
    },
    {
     "name": "stderr",
     "output_type": "stream",
     "text": [
      "/Users/conor/Documents/College terms/College/Thesis/Thesis_Code_Minimised/MyImplementation/models/BNN_VI.py:158: FutureWarning: You are using `torch.load` with `weights_only=False` (the current default value), which uses the default pickle module implicitly. It is possible to construct malicious pickle data which will execute arbitrary code during unpickling (See https://github.com/pytorch/pytorch/blob/main/SECURITY.md#untrusted-models for more details). In a future release, the default value for `weights_only` will be flipped to `True`. This limits the functions that could be executed during unpickling. Arbitrary objects will no longer be allowed to be loaded via this mode unless they are explicitly allowlisted by the user via `torch.serialization.add_safe_globals`. We recommend you start setting `weights_only=True` for any use case where you don't have full control of the loaded file. Please open an issue on GitHub for any issues related to this experimental feature.\n",
      "  checkpoint = torch.load(path, map_location=self.device)\n"
     ]
    }
   ],
   "source": [
    "bnn_model.load_checkpoint(\"../model_saves/BNN_VI_identity_models/BNN_VI_best_634.pt\")"
   ]
  },
  {
   "cell_type": "markdown",
   "metadata": {},
   "source": [
    "## Get uncertain images"
   ]
  },
  {
   "cell_type": "code",
   "execution_count": 73,
   "metadata": {},
   "outputs": [],
   "source": [
    "model = bnn_model\n",
    "autoencoder = autoencoder"
   ]
  },
  {
   "cell_type": "markdown",
   "metadata": {},
   "source": [
    "Get the most uncertain images, we need a non-shuffled loader for this."
   ]
  },
  {
   "cell_type": "code",
   "execution_count": 74,
   "metadata": {},
   "outputs": [],
   "source": [
    "# Create a non-shuffled loader for uncertainty calculation\n",
    "eval_loader = torch.utils.data.DataLoader(testset, batch_size=64, shuffle=False, num_workers=2)\n",
    "\n",
    "# Get uncertainty scores for all test set data points\n",
    "uncertainties = []\n",
    "indices = []\n",
    "\n",
    "model.eval()\n",
    "with torch.no_grad():\n",
    "    for i, (images, _) in enumerate(eval_loader):\n",
    "        images = images.to(device)\n",
    "        # Get predictions and uncertainties using BLL model\n",
    "        _, uncertainty_dict = model.predict_with_uncertainty(images)\n",
    "        \n",
    "        # Store total uncertainties and indices\n",
    "        uncertainties.extend(uncertainty_dict['total_entropy'].cpu().numpy())\n",
    "        indices.extend(range(i*eval_loader.batch_size, min((i+1)*eval_loader.batch_size, len(testset))))\n",
    "\n",
    "# Convert to numpy arrays\n",
    "uncertainties = np.array(uncertainties)\n",
    "indices = np.array(indices)\n",
    "\n",
    "# Sort by uncertainty (descending order)\n",
    "sorted_idx = np.argsort(-uncertainties)\n",
    "sorted_uncertainties = uncertainties[sorted_idx]\n",
    "sorted_data_indices = indices[sorted_idx]"
   ]
  },
  {
   "cell_type": "markdown",
   "metadata": {},
   "source": [
    "We then plot the plot the most uncertain predictions on the test set."
   ]
  },
  {
   "cell_type": "code",
   "execution_count": 75,
   "metadata": {},
   "outputs": [],
   "source": [
    "import matplotlib.pyplot as plt\n",
    "import torch\n",
    "\n",
    "def plot_most_uncertain(testset, sorted_data_indices, sorted_uncertainties, n_plot=5):\n",
    "    \"\"\"\n",
    "    Plots the top-n most uncertain predictions from the training set.\n",
    "\n",
    "    Args:\n",
    "        testset (torch.utils.data.Dataset): Dataset that returns (image, label) samples.\n",
    "        sorted_data_indices (np.ndarray): Array of indices sorted in descending order by uncertainty.\n",
    "        sorted_uncertainties (np.ndarray): Array of uncertainty (entropy) values, sorted to match sorted_data_indices.\n",
    "        n_plot (int): Number of images to plot.\n",
    "    \"\"\"\n",
    "    # Calculate number of rows needed\n",
    "    images_per_row = 10\n",
    "    n_rows = (n_plot - 1) // images_per_row + 1\n",
    "    \n",
    "    plt.figure(figsize=(15, 3 * n_rows))\n",
    "    for i in range(n_plot):\n",
    "        data_idx = sorted_data_indices[i]\n",
    "        image, _ = testset[data_idx]\n",
    "        \n",
    "        # If image is a torch.Tensor, convert it to a NumPy array.\n",
    "        if torch.is_tensor(image):\n",
    "            image = image.cpu().detach().numpy()\n",
    "            # If the image has one channel [1, H, W], squeeze out the channel dimension.\n",
    "            if image.ndim == 3 and image.shape[0] == 1:\n",
    "                image = image.squeeze(0)\n",
    "        \n",
    "        row = i // images_per_row\n",
    "        col = i % images_per_row\n",
    "        plt.subplot(n_rows, images_per_row, i + 1)\n",
    "        plt.imshow(image, cmap='gray')\n",
    "        plt.title(f\"Entropy: {sorted_uncertainties[i]:.2f}\")\n",
    "        plt.axis(\"off\")\n",
    "    \n",
    "    plt.suptitle(\"Most Uncertain Predictions\")\n",
    "    plt.show()"
   ]
  },
  {
   "cell_type": "code",
   "execution_count": 76,
   "metadata": {},
   "outputs": [
    {
     "data": {
      "image/png": "[encoded data removed]",
      "text/plain": [
       "<Figure size 1500x600 with 20 Axes>"
      ]
     },
     "metadata": {},
     "output_type": "display_data"
    }
   ],
   "source": [
    "# Plot the most uncertain predictions\n",
    "plot_most_uncertain(testset, sorted_data_indices, sorted_uncertainties, n_plot=20)"
   ]
  },
  {
   "cell_type": "markdown",
   "metadata": {},
   "source": [
    "## Test new CLUE implementation"
   ]
  },
  {
   "cell_type": "markdown",
   "metadata": {},
   "source": [
    "Now we test the \"new\" CLUE implementation, which accepts only a classifier head, directly optimising the latent code. There is no need for a decoder at each step (and therefore inside the CLUE method). \n",
    "Once the latent code is optimised, we pass it through the decoder to get a reconstruction from this notebook."
   ]
  },
  {
   "cell_type": "markdown",
   "metadata": {},
   "source": [
    "### Visualising"
   ]
  },
  {
   "cell_type": "markdown",
   "metadata": {},
   "source": [
    "The first test is just with one image"
   ]
  },
  {
   "cell_type": "code",
   "execution_count": 81,
   "metadata": {},
   "outputs": [
    {
     "name": "stdout",
     "output_type": "stream",
     "text": [
      "Step 00: Loss: 2.0420, Total Entropy: 2.0420, Epistemic Entropy: 0.1931, Aleatoric Entropy: 1.8489, Distance: 0.0000\n",
      "Step 01: Loss: 1.8886, Total Entropy: 1.8878, Epistemic Entropy: 0.1772, Aleatoric Entropy: 1.7106, Distance: 0.0800\n",
      "Step 02: Loss: 1.8285, Total Entropy: 1.8270, Epistemic Entropy: 0.1621, Aleatoric Entropy: 1.6649, Distance: 0.1431\n",
      "Step 03: Loss: 1.5199, Total Entropy: 1.5178, Epistemic Entropy: 0.1470, Aleatoric Entropy: 1.3708, Distance: 0.2108\n",
      "Step 04: Loss: 1.2940, Total Entropy: 1.2912, Epistemic Entropy: 0.1315, Aleatoric Entropy: 1.1598, Distance: 0.2773\n",
      "Step 05: Loss: 1.0191, Total Entropy: 1.0157, Epistemic Entropy: 0.1035, Aleatoric Entropy: 0.9122, Distance: 0.3445\n",
      "Step 06: Loss: 0.7752, Total Entropy: 0.7711, Epistemic Entropy: 0.0813, Aleatoric Entropy: 0.6898, Distance: 0.4131\n",
      "Step 07: Loss: 0.5067, Total Entropy: 0.5019, Epistemic Entropy: 0.0453, Aleatoric Entropy: 0.4567, Distance: 0.4828\n",
      "Step 08: Loss: 0.4001, Total Entropy: 0.3945, Epistemic Entropy: 0.0386, Aleatoric Entropy: 0.3560, Distance: 0.5521\n",
      "Step 09: Loss: 0.2677, Total Entropy: 0.2615, Epistemic Entropy: 0.0289, Aleatoric Entropy: 0.2326, Distance: 0.6206\n",
      "Step 10: Loss: 0.1567, Total Entropy: 0.1498, Epistemic Entropy: 0.0111, Aleatoric Entropy: 0.1387, Distance: 0.6872\n",
      "Step 11: Loss: 0.1075, Total Entropy: 0.1000, Epistemic Entropy: 0.0081, Aleatoric Entropy: 0.0919, Distance: 0.7505\n",
      "Step 12: Loss: 0.0750, Total Entropy: 0.0669, Epistemic Entropy: 0.0055, Aleatoric Entropy: 0.0614, Distance: 0.8101\n",
      "Step 13: Loss: 0.0614, Total Entropy: 0.0528, Epistemic Entropy: 0.0048, Aleatoric Entropy: 0.0479, Distance: 0.8657\n",
      "Step 14: Loss: 0.0417, Total Entropy: 0.0325, Epistemic Entropy: 0.0026, Aleatoric Entropy: 0.0299, Distance: 0.9173\n",
      "Step 15: Loss: 0.0364, Total Entropy: 0.0267, Epistemic Entropy: 0.0036, Aleatoric Entropy: 0.0232, Distance: 0.9650\n",
      "Step 16: Loss: 0.0305, Total Entropy: 0.0204, Epistemic Entropy: 0.0018, Aleatoric Entropy: 0.0186, Distance: 1.0090\n",
      "Step 17: Loss: 0.0253, Total Entropy: 0.0148, Epistemic Entropy: 0.0011, Aleatoric Entropy: 0.0137, Distance: 1.0495\n",
      "Step 18: Loss: 0.0211, Total Entropy: 0.0103, Epistemic Entropy: 0.0007, Aleatoric Entropy: 0.0096, Distance: 1.0867\n",
      "Step 19: Loss: 0.0209, Total Entropy: 0.0097, Epistemic Entropy: 0.0009, Aleatoric Entropy: 0.0089, Distance: 1.1207\n",
      "Step 20: Loss: 0.0192, Total Entropy: 0.0076, Epistemic Entropy: 0.0005, Aleatoric Entropy: 0.0071, Distance: 1.1519\n",
      "Step 21: Loss: 0.0183, Total Entropy: 0.0065, Epistemic Entropy: 0.0005, Aleatoric Entropy: 0.0059, Distance: 1.1805\n",
      "Step 22: Loss: 0.0170, Total Entropy: 0.0050, Epistemic Entropy: 0.0003, Aleatoric Entropy: 0.0046, Distance: 1.2067\n",
      "Step 23: Loss: 0.0163, Total Entropy: 0.0039, Epistemic Entropy: 0.0003, Aleatoric Entropy: 0.0037, Distance: 1.2306\n",
      "Step 24: Loss: 0.0160, Total Entropy: 0.0034, Epistemic Entropy: 0.0002, Aleatoric Entropy: 0.0032, Distance: 1.2524\n",
      "Step 25: Loss: 0.0169, Total Entropy: 0.0041, Epistemic Entropy: 0.0004, Aleatoric Entropy: 0.0037, Distance: 1.2724\n",
      "Step 26: Loss: 0.0158, Total Entropy: 0.0029, Epistemic Entropy: 0.0002, Aleatoric Entropy: 0.0027, Distance: 1.2906\n",
      "Step 27: Loss: 0.0157, Total Entropy: 0.0026, Epistemic Entropy: 0.0002, Aleatoric Entropy: 0.0024, Distance: 1.3073\n",
      "Step 28: Loss: 0.0152, Total Entropy: 0.0020, Epistemic Entropy: 0.0002, Aleatoric Entropy: 0.0018, Distance: 1.3225\n",
      "Step 29: Loss: 0.0161, Total Entropy: 0.0027, Epistemic Entropy: 0.0003, Aleatoric Entropy: 0.0025, Distance: 1.3363\n",
      "Step 30: Loss: 0.0154, Total Entropy: 0.0019, Epistemic Entropy: 0.0001, Aleatoric Entropy: 0.0018, Distance: 1.3489\n",
      "Step 31: Loss: 0.0155, Total Entropy: 0.0019, Epistemic Entropy: 0.0002, Aleatoric Entropy: 0.0018, Distance: 1.3604\n",
      "Step 32: Loss: 0.0152, Total Entropy: 0.0015, Epistemic Entropy: 0.0001, Aleatoric Entropy: 0.0013, Distance: 1.3709\n",
      "Step 33: Loss: 0.0153, Total Entropy: 0.0015, Epistemic Entropy: 0.0001, Aleatoric Entropy: 0.0014, Distance: 1.3804\n",
      "Step 34: Loss: 0.0154, Total Entropy: 0.0015, Epistemic Entropy: 0.0001, Aleatoric Entropy: 0.0014, Distance: 1.3890\n",
      "Step 35: Loss: 0.0155, Total Entropy: 0.0015, Epistemic Entropy: 0.0001, Aleatoric Entropy: 0.0013, Distance: 1.3969\n",
      "Step 36: Loss: 0.0158, Total Entropy: 0.0018, Epistemic Entropy: 0.0002, Aleatoric Entropy: 0.0016, Distance: 1.4040\n",
      "Step 37: Loss: 0.0153, Total Entropy: 0.0012, Epistemic Entropy: 0.0001, Aleatoric Entropy: 0.0012, Distance: 1.4105\n",
      "Step 38: Loss: 0.0154, Total Entropy: 0.0013, Epistemic Entropy: 0.0001, Aleatoric Entropy: 0.0012, Distance: 1.4163\n",
      "Step 39: Loss: 0.0154, Total Entropy: 0.0012, Epistemic Entropy: 0.0001, Aleatoric Entropy: 0.0012, Distance: 1.4216\n",
      "Step 40: Loss: 0.0153, Total Entropy: 0.0010, Epistemic Entropy: 0.0001, Aleatoric Entropy: 0.0010, Distance: 1.4264\n",
      "Step 41: Loss: 0.0154, Total Entropy: 0.0011, Epistemic Entropy: 0.0001, Aleatoric Entropy: 0.0010, Distance: 1.4307\n",
      "Step 42: Loss: 0.0153, Total Entropy: 0.0009, Epistemic Entropy: 0.0000, Aleatoric Entropy: 0.0009, Distance: 1.4346\n",
      "Step 43: Loss: 0.0153, Total Entropy: 0.0009, Epistemic Entropy: 0.0001, Aleatoric Entropy: 0.0008, Distance: 1.4381\n",
      "Step 44: Loss: 0.0154, Total Entropy: 0.0010, Epistemic Entropy: 0.0001, Aleatoric Entropy: 0.0009, Distance: 1.4412\n",
      "Step 45: Loss: 0.0156, Total Entropy: 0.0012, Epistemic Entropy: 0.0001, Aleatoric Entropy: 0.0011, Distance: 1.4440\n",
      "Step 46: Loss: 0.0153, Total Entropy: 0.0008, Epistemic Entropy: 0.0000, Aleatoric Entropy: 0.0008, Distance: 1.4465\n",
      "Step 47: Loss: 0.0155, Total Entropy: 0.0010, Epistemic Entropy: 0.0001, Aleatoric Entropy: 0.0009, Distance: 1.4488\n",
      "Step 48: Loss: 0.0155, Total Entropy: 0.0010, Epistemic Entropy: 0.0001, Aleatoric Entropy: 0.0009, Distance: 1.4507\n",
      "Step 49: Loss: 0.0155, Total Entropy: 0.0010, Epistemic Entropy: 0.0001, Aleatoric Entropy: 0.0009, Distance: 1.4525\n",
      "Step 50: Loss: 0.0153, Total Entropy: 0.0008, Epistemic Entropy: 0.0001, Aleatoric Entropy: 0.0007, Distance: 1.4540\n",
      "Step 51: Loss: 0.0153, Total Entropy: 0.0008, Epistemic Entropy: 0.0000, Aleatoric Entropy: 0.0007, Distance: 1.4554\n",
      "Step 52: Loss: 0.0156, Total Entropy: 0.0011, Epistemic Entropy: 0.0001, Aleatoric Entropy: 0.0010, Distance: 1.4565\n",
      "Step 53: Loss: 0.0157, Total Entropy: 0.0011, Epistemic Entropy: 0.0001, Aleatoric Entropy: 0.0010, Distance: 1.4576\n",
      "Step 54: Loss: 0.0154, Total Entropy: 0.0009, Epistemic Entropy: 0.0000, Aleatoric Entropy: 0.0008, Distance: 1.4584\n",
      "Step 55: Loss: 0.0156, Total Entropy: 0.0010, Epistemic Entropy: 0.0001, Aleatoric Entropy: 0.0010, Distance: 1.4592\n",
      "Step 56: Loss: 0.0153, Total Entropy: 0.0007, Epistemic Entropy: 0.0000, Aleatoric Entropy: 0.0007, Distance: 1.4598\n",
      "Step 57: Loss: 0.0156, Total Entropy: 0.0010, Epistemic Entropy: 0.0001, Aleatoric Entropy: 0.0009, Distance: 1.4603\n",
      "Step 58: Loss: 0.0156, Total Entropy: 0.0010, Epistemic Entropy: 0.0001, Aleatoric Entropy: 0.0009, Distance: 1.4607\n",
      "Step 59: Loss: 0.0154, Total Entropy: 0.0007, Epistemic Entropy: 0.0001, Aleatoric Entropy: 0.0007, Distance: 1.4610\n",
      "Step 60: Loss: 0.0155, Total Entropy: 0.0008, Epistemic Entropy: 0.0001, Aleatoric Entropy: 0.0008, Distance: 1.4612\n",
      "Step 61: Loss: 0.0154, Total Entropy: 0.0008, Epistemic Entropy: 0.0000, Aleatoric Entropy: 0.0007, Distance: 1.4614\n",
      "Step 62: Loss: 0.0157, Total Entropy: 0.0011, Epistemic Entropy: 0.0001, Aleatoric Entropy: 0.0010, Distance: 1.4614\n",
      "Step 63: Loss: 0.0156, Total Entropy: 0.0009, Epistemic Entropy: 0.0001, Aleatoric Entropy: 0.0009, Distance: 1.4615\n",
      "Step 64: Loss: 0.0155, Total Entropy: 0.0009, Epistemic Entropy: 0.0001, Aleatoric Entropy: 0.0008, Distance: 1.4614\n",
      "Step 65: Loss: 0.0158, Total Entropy: 0.0012, Epistemic Entropy: 0.0001, Aleatoric Entropy: 0.0011, Distance: 1.4613\n",
      "Step 66: Loss: 0.0155, Total Entropy: 0.0009, Epistemic Entropy: 0.0001, Aleatoric Entropy: 0.0008, Distance: 1.4612\n",
      "Step 67: Loss: 0.0157, Total Entropy: 0.0011, Epistemic Entropy: 0.0001, Aleatoric Entropy: 0.0010, Distance: 1.4610\n",
      "Step 68: Loss: 0.0158, Total Entropy: 0.0012, Epistemic Entropy: 0.0001, Aleatoric Entropy: 0.0011, Distance: 1.4608\n",
      "Step 69: Loss: 0.0155, Total Entropy: 0.0008, Epistemic Entropy: 0.0001, Aleatoric Entropy: 0.0008, Distance: 1.4605\n",
      "Step 70: Loss: 0.0153, Total Entropy: 0.0007, Epistemic Entropy: 0.0000, Aleatoric Entropy: 0.0007, Distance: 1.4602\n",
      "Step 71: Loss: 0.0153, Total Entropy: 0.0007, Epistemic Entropy: 0.0001, Aleatoric Entropy: 0.0007, Distance: 1.4599\n",
      "Step 72: Loss: 0.0154, Total Entropy: 0.0008, Epistemic Entropy: 0.0000, Aleatoric Entropy: 0.0007, Distance: 1.4596\n",
      "Step 73: Loss: 0.0153, Total Entropy: 0.0007, Epistemic Entropy: 0.0000, Aleatoric Entropy: 0.0006, Distance: 1.4592\n",
      "Step 74: Loss: 0.0155, Total Entropy: 0.0009, Epistemic Entropy: 0.0001, Aleatoric Entropy: 0.0008, Distance: 1.4587\n",
      "Step 75: Loss: 0.0157, Total Entropy: 0.0011, Epistemic Entropy: 0.0001, Aleatoric Entropy: 0.0010, Distance: 1.4583\n",
      "Step 76: Loss: 0.0155, Total Entropy: 0.0010, Epistemic Entropy: 0.0001, Aleatoric Entropy: 0.0009, Distance: 1.4579\n",
      "Step 77: Loss: 0.0154, Total Entropy: 0.0008, Epistemic Entropy: 0.0000, Aleatoric Entropy: 0.0007, Distance: 1.4574\n",
      "Step 78: Loss: 0.0153, Total Entropy: 0.0008, Epistemic Entropy: 0.0001, Aleatoric Entropy: 0.0007, Distance: 1.4569\n",
      "Step 79: Loss: 0.0152, Total Entropy: 0.0006, Epistemic Entropy: 0.0000, Aleatoric Entropy: 0.0006, Distance: 1.4564\n",
      "Step 80: Loss: 0.0155, Total Entropy: 0.0010, Epistemic Entropy: 0.0001, Aleatoric Entropy: 0.0009, Distance: 1.4558\n",
      "Step 81: Loss: 0.0154, Total Entropy: 0.0008, Epistemic Entropy: 0.0001, Aleatoric Entropy: 0.0008, Distance: 1.4553\n",
      "Step 82: Loss: 0.0156, Total Entropy: 0.0011, Epistemic Entropy: 0.0001, Aleatoric Entropy: 0.0010, Distance: 1.4547\n",
      "Step 83: Loss: 0.0153, Total Entropy: 0.0008, Epistemic Entropy: 0.0001, Aleatoric Entropy: 0.0007, Distance: 1.4542\n",
      "Step 84: Loss: 0.0154, Total Entropy: 0.0008, Epistemic Entropy: 0.0000, Aleatoric Entropy: 0.0008, Distance: 1.4536\n",
      "Step 85: Loss: 0.0154, Total Entropy: 0.0009, Epistemic Entropy: 0.0001, Aleatoric Entropy: 0.0008, Distance: 1.4530\n",
      "Step 86: Loss: 0.0154, Total Entropy: 0.0009, Epistemic Entropy: 0.0001, Aleatoric Entropy: 0.0008, Distance: 1.4524\n",
      "Step 87: Loss: 0.0156, Total Entropy: 0.0010, Epistemic Entropy: 0.0001, Aleatoric Entropy: 0.0010, Distance: 1.4518\n",
      "Step 88: Loss: 0.0156, Total Entropy: 0.0010, Epistemic Entropy: 0.0001, Aleatoric Entropy: 0.0010, Distance: 1.4512\n",
      "Step 89: Loss: 0.0156, Total Entropy: 0.0011, Epistemic Entropy: 0.0001, Aleatoric Entropy: 0.0010, Distance: 1.4506\n",
      "Step 90: Loss: 0.0152, Total Entropy: 0.0007, Epistemic Entropy: 0.0000, Aleatoric Entropy: 0.0007, Distance: 1.4500\n",
      "Step 91: Loss: 0.0155, Total Entropy: 0.0010, Epistemic Entropy: 0.0001, Aleatoric Entropy: 0.0010, Distance: 1.4493\n",
      "Step 92: Loss: 0.0154, Total Entropy: 0.0009, Epistemic Entropy: 0.0001, Aleatoric Entropy: 0.0008, Distance: 1.4487\n",
      "Step 93: Loss: 0.0155, Total Entropy: 0.0010, Epistemic Entropy: 0.0001, Aleatoric Entropy: 0.0009, Distance: 1.4481\n",
      "Step 94: Loss: 0.0155, Total Entropy: 0.0010, Epistemic Entropy: 0.0001, Aleatoric Entropy: 0.0009, Distance: 1.4475\n",
      "Step 95: Loss: 0.0155, Total Entropy: 0.0011, Epistemic Entropy: 0.0001, Aleatoric Entropy: 0.0010, Distance: 1.4468\n",
      "Step 96: Loss: 0.0152, Total Entropy: 0.0007, Epistemic Entropy: 0.0000, Aleatoric Entropy: 0.0007, Distance: 1.4462\n",
      "Step 97: Loss: 0.0153, Total Entropy: 0.0009, Epistemic Entropy: 0.0001, Aleatoric Entropy: 0.0008, Distance: 1.4455\n",
      "Step 98: Loss: 0.0156, Total Entropy: 0.0011, Epistemic Entropy: 0.0001, Aleatoric Entropy: 0.0011, Distance: 1.4449\n",
      "Step 99: Loss: 0.0153, Total Entropy: 0.0008, Epistemic Entropy: 0.0000, Aleatoric Entropy: 0.0008, Distance: 1.4442\n"
     ]
    },
    {
     "data": {
      "image/png": "[encoded data removed]",
      "text/plain": [
       "<Figure size 1500x1000 with 5 Axes>"
      ]
     },
     "metadata": {},
     "output_type": "display_data"
    }
   ],
   "source": [
    "from clue import new_CLUE\n",
    "\n",
    "# Get the most uncertain image and its latent representation\n",
    "most_uncertain_idx = sorted_data_indices[1]\n",
    "uncertain_image, true_label = testset[most_uncertain_idx]\n",
    "uncertain_image = uncertain_image.to(device).unsqueeze(0)  # Add batch dimension\n",
    "\n",
    "# Get its latent representation\n",
    "model.eval()\n",
    "with torch.no_grad():\n",
    "    z0 = model.extract_features(uncertain_image)\n",
    "\n",
    "# Initialize CLUE\n",
    "clue = new_CLUE.NewCLUE(\n",
    "    classifier=model,\n",
    "    z0=z0,\n",
    "    uncertainty_weight=1.0,\n",
    "    distance_weight=0.01,\n",
    "    lr=0.01,\n",
    "    device=device,\n",
    "    bayesian=True,\n",
    "    verbose=True\n",
    ")\n",
    "\n",
    "# Optimize to find explanation\n",
    "z_explained = clue.optimize(steps=100)\n",
    "\n",
    "# Generate reconstructions using decoder\n",
    "with torch.no_grad():\n",
    "    # Original reconstruction\n",
    "    original_recon = autoencoder.decode(z0)\n",
    "    # CLUE reconstruction  \n",
    "    clue_recon = autoencoder.decode(z_explained)\n",
    "    \n",
    "    # Get predictions and uncertainties from latent codes\n",
    "    original_probs_latent = model.sample_predict_z(z0)  # [n_ensemble, batch, classes]\n",
    "    explained_probs_latent = model.sample_predict_z(z_explained)\n",
    "    \n",
    "    # Get predictions from full classifier workflow on reconstructions\n",
    "    original_probs_recon = model.sample_predict(original_recon)\n",
    "    explained_probs_recon = model.sample_predict(clue_recon)\n",
    "    \n",
    "    # Calculate mean probabilities and entropies for latent predictions\n",
    "    original_mean_probs_latent = original_probs_latent.mean(dim=0)  # [batch, classes]\n",
    "    explained_mean_probs_latent = explained_probs_latent.mean(dim=0)\n",
    "    \n",
    "    original_entropy_latent = -(original_mean_probs_latent * torch.log(original_mean_probs_latent + 1e-10)).sum(dim=1)\n",
    "    explained_entropy_latent = -(explained_mean_probs_latent * torch.log(explained_mean_probs_latent + 1e-10)).sum(dim=1)\n",
    "    \n",
    "    # Calculate mean probabilities and entropies for reconstruction predictions\n",
    "    original_mean_probs_recon = original_probs_recon.mean(dim=0)\n",
    "    explained_mean_probs_recon = explained_probs_recon.mean(dim=0)\n",
    "    \n",
    "    original_entropy_recon = -(original_mean_probs_recon * torch.log(original_mean_probs_recon + 1e-10)).sum(dim=1)\n",
    "    explained_entropy_recon = -(explained_mean_probs_recon * torch.log(explained_mean_probs_recon + 1e-10)).sum(dim=1)\n",
    "    \n",
    "    # Get predicted classes\n",
    "    original_pred = original_mean_probs_recon.argmax(dim=1).item()\n",
    "    explained_pred = explained_mean_probs_recon.argmax(dim=1).item()\n",
    "\n",
    "# Plot results\n",
    "plt.figure(figsize=(15, 10))\n",
    "\n",
    "plt.subplot(231)\n",
    "plt.imshow(uncertain_image[0,0].cpu(), cmap='gray')\n",
    "plt.title(f'Original Image\\nTrue Class: {true_label}, Predicted: {original_pred}\\nEntropy: {original_entropy_recon[0]:.3f}')\n",
    "plt.axis('off')\n",
    "\n",
    "plt.subplot(232)\n",
    "plt.imshow(clue_recon[0,0].cpu().detach(), cmap='gray')\n",
    "plt.title(f'Counterfactual\\nPredicted: {explained_pred}\\nEntropy: {explained_entropy_recon[0]:.3f}')\n",
    "plt.axis('off')\n",
    "\n",
    "plt.subplot(233)\n",
    "diff = clue_recon[0,0].cpu().detach() - uncertain_image[0,0].cpu()\n",
    "plt.imshow(diff, cmap='RdBu', vmin=-1, vmax=1)  # Fixed scale -1 to 1\n",
    "plt.title('Counterfactual vs Original\\nDifference\\n(Red: Added Features, Blue: Removed Features)')\n",
    "plt.axis('off')\n",
    "\n",
    "plt.subplot(234)\n",
    "plt.imshow(original_recon[0,0].cpu().detach(), cmap='gray')\n",
    "plt.title('Original Reconstruction')\n",
    "plt.axis('off')\n",
    "\n",
    "plt.subplot(235)\n",
    "recon_diff = clue_recon[0,0].cpu().detach() - original_recon[0,0].cpu().detach()\n",
    "plt.imshow(recon_diff, cmap='RdBu', vmin=-1, vmax=1)  # Fixed scale -1 to 1\n",
    "plt.title('Counterfactual vs Original\\nReconstruction Difference\\n(Red: Added Features, Blue: Removed Features)')\n",
    "plt.axis('off')\n",
    "\n",
    "plt.tight_layout()\n",
    "plt.show()\n"
   ]
  }
 ],
 "metadata": {
  "kernelspec": {
   "display_name": "thesis-venv",
   "language": "python",
   "name": "python3"
  },
  "language_info": {
   "codemirror_mode": {
    "name": "ipython",
    "version": 3
   },
   "file_extension": ".py",
   "mimetype": "text/x-python",
   "name": "python",
   "nbconvert_exporter": "python",
   "pygments_lexer": "ipython3",
   "version": "3.9.6"
  }
 },
 "nbformat": 4,
 "nbformat_minor": 2
}
