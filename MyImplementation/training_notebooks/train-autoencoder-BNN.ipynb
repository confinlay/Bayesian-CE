{
 "cells": [
  {
   "cell_type": "markdown",
   "metadata": {},
   "source": [
    "# Test Autoencoder + BNN\n",
    "In this notebook we will test the ability of a BNN to guide the counterfactual exploration for various dimensions."
   ]
  },
  {
   "cell_type": "markdown",
   "metadata": {},
   "source": [
    "## Setup\n"
   ]
  },
  {
   "cell_type": "markdown",
   "metadata": {},
   "source": [
    "Import libraries"
   ]
  },
  {
   "cell_type": "code",
   "execution_count": 2,
   "metadata": {},
   "outputs": [],
   "source": [
    "import importlib\n",
    "import sys\n",
    "# Import our custom modules\n",
    "from models import FlexibleAutoencoder\n",
    "from models import BNN_VI\n",
    "\n",
    "import torch\n",
    "import torch.nn as nn\n",
    "import torch.optim as optim\n",
    "import torchvision\n",
    "import torchvision.transforms as transforms\n",
    "import matplotlib.pyplot as plt\n",
    "import numpy as np\n",
    "import os"
   ]
  },
  {
   "cell_type": "markdown",
   "metadata": {},
   "source": [
    "Set the device"
   ]
  },
  {
   "cell_type": "code",
   "execution_count": 3,
   "metadata": {},
   "outputs": [
    {
     "name": "stdout",
     "output_type": "stream",
     "text": [
      "Using device: mps\n"
     ]
    }
   ],
   "source": [
    "if torch.cuda.is_available():\n",
    "    device = torch.device(\"cuda\")\n",
    "elif torch.backends.mps.is_available():\n",
    "    device = torch.device(\"mps\")\n",
    "else:\n",
    "    device = torch.device(\"cpu\")\n",
    "\n",
    "print(f\"Using device: {device}\")"
   ]
  },
  {
   "cell_type": "markdown",
   "metadata": {},
   "source": [
    "Load the Datasets"
   ]
  },
  {
   "cell_type": "code",
   "execution_count": 4,
   "metadata": {},
   "outputs": [],
   "source": [
    "# Load the MNIST dataset\n",
    "transform = transforms.Compose([transforms.ToTensor()])\n",
    "trainset = torchvision.datasets.MNIST(root='../data', train=True, download=True, transform=transform)\n",
    "testset = torchvision.datasets.MNIST(root='../data', train=False, download=True, transform=transform)\n",
    "\n",
    "trainloader = torch.utils.data.DataLoader(trainset, batch_size=64, shuffle=True, num_workers=2)\n",
    "testloader = torch.utils.data.DataLoader(testset, batch_size=64, shuffle=False, num_workers=2)"
   ]
  },
  {
   "cell_type": "markdown",
   "metadata": {},
   "source": [
    "Set the latent dimension"
   ]
  },
  {
   "cell_type": "code",
   "execution_count": 5,
   "metadata": {},
   "outputs": [],
   "source": [
    "latent_dim = 256"
   ]
  },
  {
   "cell_type": "markdown",
   "metadata": {},
   "source": [
    "Create a models directory if it doesn't exist"
   ]
  },
  {
   "cell_type": "code",
   "execution_count": 6,
   "metadata": {},
   "outputs": [],
   "source": [
    "# Create models directory in parent directory if it doesn't exist\n",
    "os.makedirs(os.path.join('..', 'model_saves'), exist_ok=True)\n",
    "model_saves_path = os.path.join('..', 'model_saves')"
   ]
  },
  {
   "cell_type": "markdown",
   "metadata": {},
   "source": [
    "## Input space optimisation\n",
    "Let's try to create CLUEs from the input space"
   ]
  },
  {
   "cell_type": "markdown",
   "metadata": {},
   "source": [
    "We'll start be defining an identify backbone that allows us to just pass the input to the Bayesian layers"
   ]
  },
  {
   "cell_type": "code",
   "execution_count": 34,
   "metadata": {},
   "outputs": [],
   "source": [
    "import torch\n",
    "import torch.nn as nn\n",
    "\n",
    "class IdentityBackbone(nn.Module):\n",
    "\n",
    "    def __init__(self):\n",
    "        super().__init__()\n",
    "        \n",
    "    def forward(self, x):\n",
    "        if len(x.shape) > 2:\n",
    "            return x.view(x.size(0), -1)\n",
    "        else:\n",
    "            return x    \n",
    "        \n",
    "    def decode(self, x):\n",
    "        return x.view(x.size(0), 1, 28, 28)"
   ]
  },
  {
   "cell_type": "markdown",
   "metadata": {},
   "source": [
    "Next we'll train the bayesian layers on the input space"
   ]
  },
  {
   "cell_type": "code",
   "execution_count": 35,
   "metadata": {},
   "outputs": [],
   "source": [
    "from models.BNN_VI import BayesianNeuralNetworkVI\n",
    "\n",
    "# Create the identity backbone\n",
    "identity_backbone = IdentityBackbone()\n",
    "\n",
    "# Determine input and output dimensions\n",
    "input_dim = 784  # For MNIST flattened input (28x28), adjust as needed\n",
    "output_dim = 10  # Number of classes\n",
    "\n",
    "# Create the BNN with the identity backbone\n",
    "bnn_model = BayesianNeuralNetworkVI(\n",
    "    backbone=identity_backbone,\n",
    "    input_dim=input_dim,      # This should match your raw input dimension\n",
    "    output_dim=output_dim,    # Number of classes\n",
    "    device=device,\n",
    "    hidden_dim=512\n",
    ")"
   ]
  },
  {
   "cell_type": "markdown",
   "metadata": {},
   "source": [
    "And now we trrain"
   ]
  },
  {
   "cell_type": "code",
   "execution_count": 23,
   "metadata": {},
   "outputs": [
    {
     "name": "stdout",
     "output_type": "stream",
     "text": [
      "\u001b[36m\n",
      "Bayesian Neural Network (VI):\u001b[0m\n",
      "it 0/5, Jtr = 0.015, err = 0.316, KL = 0.039, \u001b[31m   time: 16.807024 seconds\n",
      "\u001b[0m\n",
      "\u001b[32m    Jdev = 0.287, err = 0.087\n",
      "\u001b[0m\n",
      "\u001b[34mbest validation error\u001b[0m\n",
      "it 1/5, Jtr = 0.005, err = 0.099, KL = 0.073, \u001b[31m   time: 16.711217 seconds\n",
      "\u001b[0m\n",
      "\u001b[32m    Jdev = 0.177, err = 0.057\n",
      "\u001b[0m\n",
      "\u001b[34mbest validation error\u001b[0m\n",
      "it 2/5, Jtr = 0.003, err = 0.069, KL = 0.100, \u001b[31m   time: 15.405734 seconds\n",
      "\u001b[0m\n",
      "\u001b[32m    Jdev = 0.143, err = 0.045\n",
      "\u001b[0m\n",
      "\u001b[34mbest validation error\u001b[0m\n",
      "it 3/5, Jtr = 0.003, err = 0.053, KL = 0.123, \u001b[31m   time: 20.311643 seconds\n",
      "\u001b[0m\n",
      "\u001b[32m    Jdev = 0.109, err = 0.033\n",
      "\u001b[0m\n",
      "\u001b[34mbest validation error\u001b[0m\n",
      "it 4/5, Jtr = 0.002, err = 0.042, KL = 0.144, \u001b[31m   time: 14.301133 seconds\n",
      "\u001b[0m\n",
      "\u001b[32m    Jdev = 0.099, err = 0.030\n",
      "\u001b[0m\n",
      "\u001b[34mbest validation error\u001b[0m\n",
      "\u001b[31m   average time: 20.855232 seconds\n",
      "\u001b[0m\n",
      " [save_checkpoint] Saved model state to ../model_saves/BNN_VI_identity_models/BNN_VI_best_634.pt\n",
      "Saved best model to: ../model_saves/BNN_VI_identity_models/BNN_VI_best_634.pt\n"
     ]
    },
    {
     "data": {
      "text/plain": [
       "(array([0.01503895, 0.00497097, 0.00346443, 0.0027162 , 0.00213342]),\n",
       " array([0.2872484 , 0.17706164, 0.14263464, 0.10932655, 0.09877753]),\n",
       " array([0.31588333, 0.09901667, 0.06865   , 0.05296667, 0.04186667]),\n",
       " array([0.087 , 0.0565, 0.0454, 0.0333, 0.0301]),\n",
       " array([0.03907171, 0.07310414, 0.09966876, 0.12282432, 0.14367814]))"
      ]
     },
     "execution_count": 23,
     "metadata": {},
     "output_type": "execute_result"
    },
    {
     "data": {
      "text/plain": [
       "<Figure size 640x480 with 0 Axes>"
      ]
     },
     "metadata": {},
     "output_type": "display_data"
    }
   ],
   "source": [
    "from train import train_BNN_VI_classification\n",
    "\n",
    "train_BNN_VI_classification(\n",
    "    net=bnn_model,\n",
    "    name='BNN_VI_identity',\n",
    "    batch_size=64,\n",
    "    nb_epochs=5,\n",
    "    trainset=trainset,\n",
    "    valset=testset,\n",
    "    device=device,\n",
    "    model_saves_dir=model_saves_path)"
   ]
  },
  {
   "cell_type": "code",
   "execution_count": 36,
   "metadata": {},
   "outputs": [
    {
     "name": "stdout",
     "output_type": "stream",
     "text": [
      " [load_checkpoint] Loaded checkpoint from ../model_saves/BNN_VI_identity_models/BNN_VI_best_634.pt\n"
     ]
    },
    {
     "name": "stderr",
     "output_type": "stream",
     "text": [
      "/Users/conor/Documents/College terms/College/Thesis/Thesis_Code_Minimised/MyImplementation/models/BNN_VI.py:158: FutureWarning: You are using `torch.load` with `weights_only=False` (the current default value), which uses the default pickle module implicitly. It is possible to construct malicious pickle data which will execute arbitrary code during unpickling (See https://github.com/pytorch/pytorch/blob/main/SECURITY.md#untrusted-models for more details). In a future release, the default value for `weights_only` will be flipped to `True`. This limits the functions that could be executed during unpickling. Arbitrary objects will no longer be allowed to be loaded via this mode unless they are explicitly allowlisted by the user via `torch.serialization.add_safe_globals`. We recommend you start setting `weights_only=True` for any use case where you don't have full control of the loaded file. Please open an issue on GitHub for any issues related to this experimental feature.\n",
      "  checkpoint = torch.load(path, map_location=self.device)\n"
     ]
    }
   ],
   "source": [
    "bnn_model.load_checkpoint(\"../model_saves/BNN_VI_identity_models/BNN_VI_best_634.pt\")"
   ]
  },
  {
   "cell_type": "markdown",
   "metadata": {},
   "source": [
    "## Small Autoencoder Optimisation\n",
    "Let's try to create CLUEs from the latent space of a small autoencoder"
   ]
  },
  {
   "cell_type": "markdown",
   "metadata": {},
   "source": [
    "We'll start be defining an identify backbone that allows us to just pass the input to the Bayesian layers"
   ]
  },
  {
   "cell_type": "code",
   "execution_count": null,
   "metadata": {},
   "outputs": [
    {
     "name": "stdout",
     "output_type": "stream",
     "text": [
      "Training autoencoder with hidden dimension 64...\n",
      "Epoch 1/10, Train Loss: 0.021554, Val Loss: 0.012710\n",
      "Epoch 2/10, Train Loss: 0.013436, Val Loss: 0.010973\n",
      "Epoch 3/10, Train Loss: 0.012205, Val Loss: 0.010328\n"
     ]
    }
   ],
   "source": [
    "import torch\n",
    "import torch.nn as nn\n",
    "import models.FlexibleAutoencoder as fa\n",
    "importlib.reload(fa)\n",
    "from models.FlexibleAutoencoder import FlexibleAutoencoder\n",
    "\n",
    "# Create the autoencoder with hidden dimension 64\n",
    "autoencoder = FlexibleAutoencoder(\n",
    "    hidden_dim=64,\n",
    "    input_shape=(1, 28, 28),  # For MNIST\n",
    "    device=device\n",
    ")\n",
    "# Train the autoencoder using the train_model method\n",
    "print(\"Training autoencoder with hidden dimension 64...\")\n",
    "train_losses, val_losses = autoencoder.train_model(\n",
    "    train_loader=trainloader,\n",
    "    val_loader=testloader,\n",
    "    num_epochs=10,\n",
    "    lr=1e-3,\n",
    "    weight_decay=1e-5,\n",
    "    early_stopping_patience=5,\n",
    "    verbose=True\n",
    ")\n",
    "\n",
    "# Save the trained autoencoder\n",
    "torch.save(autoencoder.state_dict(), f\"{model_saves_path}/autoencoder_dim64.pt\")\n",
    "print(\"Autoencoder training completed and model saved.\")\n"
   ]
  },
  {
   "cell_type": "markdown",
   "metadata": {},
   "source": [
    "Next we'll train the bayesian layers on the input space"
   ]
  },
  {
   "cell_type": "code",
   "execution_count": 44,
   "metadata": {},
   "outputs": [],
   "source": [
    "from models.BNN_VI import BayesianNeuralNetworkVI\n",
    "\n",
    "# Create the identity backbone\n",
    "identity_backbone = IdentityBackbone()\n",
    "\n",
    "# Determine input and output dimensions\n",
    "input_dim = 784  # For MNIST flattened input (28x28), adjust as needed\n",
    "output_dim = 10  # Number of classes\n",
    "\n",
    "# Create the BNN with the identity backbone\n",
    "bnn_model = BayesianNeuralNetworkVI(\n",
    "    backbone=identity_backbone,\n",
    "    input_dim=input_dim,      # This should match your raw input dimension\n",
    "    output_dim=output_dim,    # Number of classes\n",
    "    device=device,\n",
    "    hidden_dim=512\n",
    ")"
   ]
  },
  {
   "cell_type": "markdown",
   "metadata": {},
   "source": [
    "And now we trrain"
   ]
  },
  {
   "cell_type": "code",
   "execution_count": 45,
   "metadata": {},
   "outputs": [
    {
     "name": "stdout",
     "output_type": "stream",
     "text": [
      "\u001b[36m\n",
      "Bayesian Neural Network (VI):\u001b[0m\n"
     ]
    },
    {
     "ename": "KeyboardInterrupt",
     "evalue": "",
     "output_type": "error",
     "traceback": [
      "\u001b[0;31m---------------------------------------------------------------------------\u001b[0m",
      "\u001b[0;31mKeyboardInterrupt\u001b[0m                         Traceback (most recent call last)",
      "Cell \u001b[0;32mIn[45], line 3\u001b[0m\n\u001b[1;32m      1\u001b[0m \u001b[38;5;28;01mfrom\u001b[39;00m\u001b[38;5;250m \u001b[39m\u001b[38;5;21;01mtrain\u001b[39;00m\u001b[38;5;250m \u001b[39m\u001b[38;5;28;01mimport\u001b[39;00m train_BNN_VI_classification\n\u001b[0;32m----> 3\u001b[0m \u001b[43mtrain_BNN_VI_classification\u001b[49m\u001b[43m(\u001b[49m\n\u001b[1;32m      4\u001b[0m \u001b[43m    \u001b[49m\u001b[43mnet\u001b[49m\u001b[38;5;241;43m=\u001b[39;49m\u001b[43mbnn_model\u001b[49m\u001b[43m,\u001b[49m\n\u001b[1;32m      5\u001b[0m \u001b[43m    \u001b[49m\u001b[43mname\u001b[49m\u001b[38;5;241;43m=\u001b[39;49m\u001b[38;5;124;43m'\u001b[39;49m\u001b[38;5;124;43mBNN_VI_identity\u001b[39;49m\u001b[38;5;124;43m'\u001b[39;49m\u001b[43m,\u001b[49m\n\u001b[1;32m      6\u001b[0m \u001b[43m    \u001b[49m\u001b[43mbatch_size\u001b[49m\u001b[38;5;241;43m=\u001b[39;49m\u001b[38;5;241;43m64\u001b[39;49m\u001b[43m,\u001b[49m\n\u001b[1;32m      7\u001b[0m \u001b[43m    \u001b[49m\u001b[43mnb_epochs\u001b[49m\u001b[38;5;241;43m=\u001b[39;49m\u001b[38;5;241;43m5\u001b[39;49m\u001b[43m,\u001b[49m\n\u001b[1;32m      8\u001b[0m \u001b[43m    \u001b[49m\u001b[43mtrainset\u001b[49m\u001b[38;5;241;43m=\u001b[39;49m\u001b[43mtrainset\u001b[49m\u001b[43m,\u001b[49m\n\u001b[1;32m      9\u001b[0m \u001b[43m    \u001b[49m\u001b[43mvalset\u001b[49m\u001b[38;5;241;43m=\u001b[39;49m\u001b[43mtestset\u001b[49m\u001b[43m,\u001b[49m\n\u001b[1;32m     10\u001b[0m \u001b[43m    \u001b[49m\u001b[43mdevice\u001b[49m\u001b[38;5;241;43m=\u001b[39;49m\u001b[43mdevice\u001b[49m\u001b[43m,\u001b[49m\n\u001b[1;32m     11\u001b[0m \u001b[43m    \u001b[49m\u001b[43mmodel_saves_dir\u001b[49m\u001b[38;5;241;43m=\u001b[39;49m\u001b[43mmodel_saves_path\u001b[49m\u001b[43m)\u001b[49m\n",
      "File \u001b[0;32m~/Documents/College terms/College/Thesis/Thesis_Code_Minimised/MyImplementation/train.py:640\u001b[0m, in \u001b[0;36mtrain_BNN_VI_classification\u001b[0;34m(net, name, batch_size, nb_epochs, trainset, valset, device, lr, patience, nb_its_dev, model_saves_dir)\u001b[0m\n\u001b[1;32m    638\u001b[0m optimizer\u001b[38;5;241m.\u001b[39mzero_grad()\n\u001b[1;32m    639\u001b[0m \u001b[38;5;66;03m# Get loss tensor and metrics from BNN_VI.fit\u001b[39;00m\n\u001b[0;32m--> 640\u001b[0m loss, err, ce_loss, kl_div \u001b[38;5;241m=\u001b[39m \u001b[43mnet\u001b[49m\u001b[38;5;241;43m.\u001b[39;49m\u001b[43mfit\u001b[49m\u001b[43m(\u001b[49m\u001b[43mx\u001b[49m\u001b[43m,\u001b[49m\u001b[43m \u001b[49m\u001b[43my\u001b[49m\u001b[43m)\u001b[49m\n\u001b[1;32m    641\u001b[0m \u001b[38;5;66;03m# Backward pass on the loss tensor\u001b[39;00m\n\u001b[1;32m    642\u001b[0m loss\u001b[38;5;241m.\u001b[39mbackward()\n",
      "File \u001b[0;32m~/Documents/College terms/College/Thesis/Thesis_Code_Minimised/MyImplementation/models/BNN_VI.py:106\u001b[0m, in \u001b[0;36mBayesianNeuralNetworkVI.fit\u001b[0;34m(self, x, y)\u001b[0m\n\u001b[1;32m    104\u001b[0m \u001b[38;5;66;03m# Compute losses\u001b[39;00m\n\u001b[1;32m    105\u001b[0m ce_loss \u001b[38;5;241m=\u001b[39m \u001b[38;5;28mself\u001b[39m\u001b[38;5;241m.\u001b[39mce_loss(logits, y)\n\u001b[0;32m--> 106\u001b[0m kl_div \u001b[38;5;241m=\u001b[39m \u001b[38;5;28;43mself\u001b[39;49m\u001b[38;5;241;43m.\u001b[39;49m\u001b[43mbayesian_kl_loss\u001b[49m\u001b[43m(\u001b[49m\u001b[38;5;28;43mself\u001b[39;49m\u001b[43m,\u001b[49m\u001b[43m \u001b[49m\u001b[43mreduction\u001b[49m\u001b[38;5;241;43m=\u001b[39;49m\u001b[38;5;124;43m'\u001b[39;49m\u001b[38;5;124;43mmean\u001b[39;49m\u001b[38;5;124;43m'\u001b[39;49m\u001b[43m)\u001b[49m  \u001b[38;5;66;03m# Call the function\u001b[39;00m\n\u001b[1;32m    107\u001b[0m loss \u001b[38;5;241m=\u001b[39m ce_loss \u001b[38;5;241m+\u001b[39m \u001b[38;5;28mself\u001b[39m\u001b[38;5;241m.\u001b[39mkl_weight \u001b[38;5;241m*\u001b[39m kl_div\n\u001b[1;32m    109\u001b[0m \u001b[38;5;66;03m# Compute metrics\u001b[39;00m\n",
      "File \u001b[0;32m~/Documents/College terms/College/Thesis/Thesis_Code_Minimised/MyImplementation/models/torchbnn_functional.py:40\u001b[0m, in \u001b[0;36mbayesian_kl_loss\u001b[0;34m(model, reduction, last_layer_only)\u001b[0m\n\u001b[1;32m     38\u001b[0m bias_mu \u001b[38;5;241m=\u001b[39m m\u001b[38;5;241m.\u001b[39mbias_mu\u001b[38;5;241m.\u001b[39mto(device)\n\u001b[1;32m     39\u001b[0m bias_log_sigma \u001b[38;5;241m=\u001b[39m m\u001b[38;5;241m.\u001b[39mbias_log_sigma\u001b[38;5;241m.\u001b[39mto(device)\n\u001b[0;32m---> 40\u001b[0m kl \u001b[38;5;241m=\u001b[39m \u001b[43m_kl_loss\u001b[49m\u001b[43m(\u001b[49m\u001b[43mbias_mu\u001b[49m\u001b[43m,\u001b[49m\u001b[43m \u001b[49m\u001b[43mbias_log_sigma\u001b[49m\u001b[43m,\u001b[49m\u001b[43m \u001b[49m\u001b[43mprior_mu\u001b[49m\u001b[43m,\u001b[49m\u001b[43m \u001b[49m\u001b[43mprior_log_sigma\u001b[49m\u001b[43m)\u001b[49m\n\u001b[1;32m     41\u001b[0m kl_sum \u001b[38;5;241m+\u001b[39m\u001b[38;5;241m=\u001b[39m kl\n\u001b[1;32m     42\u001b[0m n \u001b[38;5;241m+\u001b[39m\u001b[38;5;241m=\u001b[39m \u001b[38;5;28mlen\u001b[39m(m\u001b[38;5;241m.\u001b[39mbias_mu\u001b[38;5;241m.\u001b[39mview(\u001b[38;5;241m-\u001b[39m\u001b[38;5;241m1\u001b[39m))\n",
      "File \u001b[0;32m~/Documents/College terms/College/Thesis/Thesis_Code_Minimised/MyImplementation/models/torchbnn_functional.py:11\u001b[0m, in \u001b[0;36m_kl_loss\u001b[0;34m(mu_0, log_sigma_0, mu_1, log_sigma_1)\u001b[0m\n\u001b[1;32m      6\u001b[0m \u001b[38;5;28;01mdef\u001b[39;00m\u001b[38;5;250m \u001b[39m\u001b[38;5;21m_kl_loss\u001b[39m(mu_0, log_sigma_0, mu_1, log_sigma_1) :\n\u001b[1;32m      7\u001b[0m \u001b[38;5;250m    \u001b[39m\u001b[38;5;124;03m\"\"\"\u001b[39;00m\n\u001b[1;32m      8\u001b[0m \u001b[38;5;124;03m    An method for calculating KL divergence between two Normal distribtuion.\u001b[39;00m\n\u001b[1;32m      9\u001b[0m \u001b[38;5;124;03m    \"\"\"\u001b[39;00m\n\u001b[1;32m     10\u001b[0m     kl \u001b[38;5;241m=\u001b[39m log_sigma_1 \u001b[38;5;241m-\u001b[39m log_sigma_0 \u001b[38;5;241m+\u001b[39m \\\n\u001b[0;32m---> 11\u001b[0m     (torch\u001b[38;5;241m.\u001b[39mexp(log_sigma_0)\u001b[38;5;241m*\u001b[39m\u001b[38;5;241m*\u001b[39m\u001b[38;5;241m2\u001b[39m \u001b[38;5;241m+\u001b[39m (mu_0\u001b[38;5;241m-\u001b[39mmu_1)\u001b[38;5;241m*\u001b[39m\u001b[38;5;241m*\u001b[39m\u001b[38;5;241m2\u001b[39m)\u001b[38;5;241m/\u001b[39m(\u001b[38;5;241m2\u001b[39m\u001b[38;5;241m*\u001b[39m\u001b[43mmath\u001b[49m\u001b[38;5;241;43m.\u001b[39;49m\u001b[43mexp\u001b[49m\u001b[43m(\u001b[49m\u001b[43mlog_sigma_1\u001b[49m\u001b[43m)\u001b[49m\u001b[38;5;241m*\u001b[39m\u001b[38;5;241m*\u001b[39m\u001b[38;5;241m2\u001b[39m) \u001b[38;5;241m-\u001b[39m \u001b[38;5;241m0.5\u001b[39m\n\u001b[1;32m     12\u001b[0m     \u001b[38;5;28;01mreturn\u001b[39;00m kl\u001b[38;5;241m.\u001b[39msum()\n",
      "\u001b[0;31mKeyboardInterrupt\u001b[0m: "
     ]
    }
   ],
   "source": [
    "from train import train_BNN_VI_classification\n",
    "\n",
    "train_BNN_VI_classification(\n",
    "    net=bnn_model,\n",
    "    name='BNN_VI_identity',\n",
    "    batch_size=64,\n",
    "    nb_epochs=5,\n",
    "    trainset=trainset,\n",
    "    valset=testset,\n",
    "    device=device,\n",
    "    model_saves_dir=model_saves_path)"
   ]
  },
  {
   "cell_type": "code",
   "execution_count": null,
   "metadata": {},
   "outputs": [
    {
     "name": "stdout",
     "output_type": "stream",
     "text": [
      " [load_checkpoint] Loaded checkpoint from ../model_saves/BNN_VI_identity_models/BNN_VI_best_634.pt\n"
     ]
    },
    {
     "name": "stderr",
     "output_type": "stream",
     "text": [
      "/Users/conor/Documents/College terms/College/Thesis/Thesis_Code_Minimised/MyImplementation/models/BNN_VI.py:158: FutureWarning: You are using `torch.load` with `weights_only=False` (the current default value), which uses the default pickle module implicitly. It is possible to construct malicious pickle data which will execute arbitrary code during unpickling (See https://github.com/pytorch/pytorch/blob/main/SECURITY.md#untrusted-models for more details). In a future release, the default value for `weights_only` will be flipped to `True`. This limits the functions that could be executed during unpickling. Arbitrary objects will no longer be allowed to be loaded via this mode unless they are explicitly allowlisted by the user via `torch.serialization.add_safe_globals`. We recommend you start setting `weights_only=True` for any use case where you don't have full control of the loaded file. Please open an issue on GitHub for any issues related to this experimental feature.\n",
      "  checkpoint = torch.load(path, map_location=self.device)\n"
     ]
    }
   ],
   "source": [
    "bnn_model.load_checkpoint(\"../model_saves/BNN_VI_identity_models/BNN_VI_best_634.pt\")"
   ]
  },
  {
   "cell_type": "markdown",
   "metadata": {},
   "source": [
    "## Get uncertain images"
   ]
  },
  {
   "cell_type": "markdown",
   "metadata": {},
   "source": [
    "Get the most uncertain images, we need a non-shuffled loader for this."
   ]
  },
  {
   "cell_type": "code",
   "execution_count": 37,
   "metadata": {},
   "outputs": [],
   "source": [
    "# Create a non-shuffled loader for uncertainty calculation\n",
    "eval_loader = torch.utils.data.DataLoader(testset, batch_size=64, shuffle=False, num_workers=2)\n",
    "\n",
    "# Get uncertainty scores for all test set data points\n",
    "uncertainties = []\n",
    "indices = []\n",
    "\n",
    "bnn_model.eval()\n",
    "with torch.no_grad():\n",
    "    for i, (images, _) in enumerate(eval_loader):\n",
    "        images = images.to(device)\n",
    "        # Get predictions and uncertainties using BLL model\n",
    "        _, uncertainty_dict = bnn_model.predict_with_uncertainty(images)\n",
    "        \n",
    "        # Store total uncertainties and indices\n",
    "        uncertainties.extend(uncertainty_dict['total_entropy'].cpu().numpy())\n",
    "        indices.extend(range(i*eval_loader.batch_size, min((i+1)*eval_loader.batch_size, len(testset))))\n",
    "\n",
    "# Convert to numpy arrays\n",
    "uncertainties = np.array(uncertainties)\n",
    "indices = np.array(indices)\n",
    "\n",
    "# Sort by uncertainty (descending order)\n",
    "sorted_idx = np.argsort(-uncertainties)\n",
    "sorted_uncertainties = uncertainties[sorted_idx]\n",
    "sorted_data_indices = indices[sorted_idx]"
   ]
  },
  {
   "cell_type": "markdown",
   "metadata": {},
   "source": [
    "We then plot the plot the most uncertain predictions on the test set."
   ]
  },
  {
   "cell_type": "code",
   "execution_count": 38,
   "metadata": {},
   "outputs": [],
   "source": [
    "import matplotlib.pyplot as plt\n",
    "import torch\n",
    "\n",
    "def plot_most_uncertain(testset, sorted_data_indices, sorted_uncertainties, n_plot=5):\n",
    "    \"\"\"\n",
    "    Plots the top-n most uncertain predictions from the training set.\n",
    "\n",
    "    Args:\n",
    "        testset (torch.utils.data.Dataset): Dataset that returns (image, label) samples.\n",
    "        sorted_data_indices (np.ndarray): Array of indices sorted in descending order by uncertainty.\n",
    "        sorted_uncertainties (np.ndarray): Array of uncertainty (entropy) values, sorted to match sorted_data_indices.\n",
    "        n_plot (int): Number of images to plot.\n",
    "    \"\"\"\n",
    "    # Calculate number of rows needed\n",
    "    images_per_row = 10\n",
    "    n_rows = (n_plot - 1) // images_per_row + 1\n",
    "    \n",
    "    plt.figure(figsize=(15, 3 * n_rows))\n",
    "    for i in range(n_plot):\n",
    "        data_idx = sorted_data_indices[i]\n",
    "        image, _ = testset[data_idx]\n",
    "        \n",
    "        # If image is a torch.Tensor, convert it to a NumPy array.\n",
    "        if torch.is_tensor(image):\n",
    "            image = image.cpu().detach().numpy()\n",
    "            # If the image has one channel [1, H, W], squeeze out the channel dimension.\n",
    "            if image.ndim == 3 and image.shape[0] == 1:\n",
    "                image = image.squeeze(0)\n",
    "        \n",
    "        row = i // images_per_row\n",
    "        col = i % images_per_row\n",
    "        plt.subplot(n_rows, images_per_row, i + 1)\n",
    "        plt.imshow(image, cmap='gray')\n",
    "        plt.title(f\"Entropy: {sorted_uncertainties[i]:.2f}\")\n",
    "        plt.axis(\"off\")\n",
    "    \n",
    "    plt.suptitle(\"Most Uncertain Predictions\")\n",
    "    plt.show()"
   ]
  },
  {
   "cell_type": "code",
   "execution_count": 39,
   "metadata": {},
   "outputs": [
    {
     "data": {
      "image/png": "[encoded data removed]",
      "text/plain": [
       "<Figure size 1500x600 with 20 Axes>"
      ]
     },
     "metadata": {},
     "output_type": "display_data"
    }
   ],
   "source": [
    "# Plot the most uncertain predictions\n",
    "plot_most_uncertain(testset, sorted_data_indices, sorted_uncertainties, n_plot=20)"
   ]
  },
  {
   "cell_type": "markdown",
   "metadata": {},
   "source": [
    "## Test new CLUE implementation"
   ]
  },
  {
   "cell_type": "markdown",
   "metadata": {},
   "source": [
    "Now we test the \"new\" CLUE implementation, which accepts only a classifier head, directly optimising the latent code. There is no need for a decoder at each step (and therefore inside the CLUE method). \n",
    "Once the latent code is optimised, we pass it through the decoder to get a reconstruction from this notebook."
   ]
  },
  {
   "cell_type": "code",
   "execution_count": 40,
   "metadata": {},
   "outputs": [],
   "source": [
    "model = bnn_model\n",
    "autoencoder = identity_backbone"
   ]
  },
  {
   "cell_type": "markdown",
   "metadata": {},
   "source": [
    "### Visualising"
   ]
  },
  {
   "cell_type": "markdown",
   "metadata": {},
   "source": [
    "The first test is just with one image"
   ]
  },
  {
   "cell_type": "code",
   "execution_count": 42,
   "metadata": {},
   "outputs": [
    {
     "name": "stdout",
     "output_type": "stream",
     "text": [
      "Step 00: Loss: 1.9609, Total Entropy: 1.9609, Epistemic Entropy: 0.3786, Aleatoric Entropy: 1.5823, Distance: 0.0000\n",
      "Step 01: Loss: 2.0266, Total Entropy: 1.7466, Epistemic Entropy: 0.3710, Aleatoric Entropy: 1.3756, Distance: 0.2800\n",
      "Step 02: Loss: 1.9966, Total Entropy: 1.6577, Epistemic Entropy: 0.3435, Aleatoric Entropy: 1.3141, Distance: 0.3389\n",
      "Step 03: Loss: 1.8224, Total Entropy: 1.3725, Epistemic Entropy: 0.3038, Aleatoric Entropy: 1.0687, Distance: 0.4500\n",
      "Step 04: Loss: 1.7917, Total Entropy: 1.1988, Epistemic Entropy: 0.2178, Aleatoric Entropy: 0.9811, Distance: 0.5928\n",
      "Step 05: Loss: 1.6535, Total Entropy: 0.9059, Epistemic Entropy: 0.1889, Aleatoric Entropy: 0.7170, Distance: 0.7476\n",
      "Step 06: Loss: 1.4646, Total Entropy: 0.5597, Epistemic Entropy: 0.1100, Aleatoric Entropy: 0.4498, Distance: 0.9049\n",
      "Step 07: Loss: 1.4649, Total Entropy: 0.4103, Epistemic Entropy: 0.0865, Aleatoric Entropy: 0.3238, Distance: 1.0546\n",
      "Step 08: Loss: 1.4464, Total Entropy: 0.2605, Epistemic Entropy: 0.0540, Aleatoric Entropy: 0.2066, Distance: 1.1859\n",
      "Step 09: Loss: 1.4278, Total Entropy: 0.1393, Epistemic Entropy: 0.0295, Aleatoric Entropy: 0.1097, Distance: 1.2885\n",
      "Step 10: Loss: 1.4444, Total Entropy: 0.0947, Epistemic Entropy: 0.0129, Aleatoric Entropy: 0.0818, Distance: 1.3497\n",
      "Step 11: Loss: 1.4700, Total Entropy: 0.0948, Epistemic Entropy: 0.0157, Aleatoric Entropy: 0.0791, Distance: 1.3752\n",
      "Step 12: Loss: 1.5051, Total Entropy: 0.1313, Epistemic Entropy: 0.0223, Aleatoric Entropy: 0.1090, Distance: 1.3738\n",
      "Step 13: Loss: 1.4451, Total Entropy: 0.0893, Epistemic Entropy: 0.0121, Aleatoric Entropy: 0.0771, Distance: 1.3558\n",
      "Step 14: Loss: 1.4384, Total Entropy: 0.1178, Epistemic Entropy: 0.0203, Aleatoric Entropy: 0.0976, Distance: 1.3205\n",
      "Step 15: Loss: 1.4377, Total Entropy: 0.1637, Epistemic Entropy: 0.0323, Aleatoric Entropy: 0.1314, Distance: 1.2740\n",
      "Step 16: Loss: 1.3862, Total Entropy: 0.1633, Epistemic Entropy: 0.0281, Aleatoric Entropy: 0.1352, Distance: 1.2229\n",
      "Step 17: Loss: 1.3901, Total Entropy: 0.2213, Epistemic Entropy: 0.0365, Aleatoric Entropy: 0.1848, Distance: 1.1688\n",
      "Step 18: Loss: 1.3936, Total Entropy: 0.2757, Epistemic Entropy: 0.0563, Aleatoric Entropy: 0.2195, Distance: 1.1179\n",
      "Step 19: Loss: 1.4112, Total Entropy: 0.3391, Epistemic Entropy: 0.0567, Aleatoric Entropy: 0.2824, Distance: 1.0721\n",
      "Step 20: Loss: 1.3700, Total Entropy: 0.3327, Epistemic Entropy: 0.0627, Aleatoric Entropy: 0.2700, Distance: 1.0374\n",
      "Step 21: Loss: 1.3490, Total Entropy: 0.3356, Epistemic Entropy: 0.0615, Aleatoric Entropy: 0.2742, Distance: 1.0134\n",
      "Step 22: Loss: 1.3826, Total Entropy: 0.3845, Epistemic Entropy: 0.0728, Aleatoric Entropy: 0.3116, Distance: 0.9981\n",
      "Step 23: Loss: 1.3505, Total Entropy: 0.3548, Epistemic Entropy: 0.0689, Aleatoric Entropy: 0.2859, Distance: 0.9957\n",
      "Step 24: Loss: 1.3798, Total Entropy: 0.3762, Epistemic Entropy: 0.0684, Aleatoric Entropy: 0.3078, Distance: 1.0036\n",
      "Step 25: Loss: 1.2674, Total Entropy: 0.2453, Epistemic Entropy: 0.0384, Aleatoric Entropy: 0.2070, Distance: 1.0221\n",
      "Step 26: Loss: 1.3421, Total Entropy: 0.3046, Epistemic Entropy: 0.0499, Aleatoric Entropy: 0.2547, Distance: 1.0375\n",
      "Step 27: Loss: 1.3880, Total Entropy: 0.3326, Epistemic Entropy: 0.0547, Aleatoric Entropy: 0.2778, Distance: 1.0555\n",
      "Step 28: Loss: 1.3705, Total Entropy: 0.2936, Epistemic Entropy: 0.0596, Aleatoric Entropy: 0.2340, Distance: 1.0769\n",
      "Step 29: Loss: 1.3984, Total Entropy: 0.3042, Epistemic Entropy: 0.0585, Aleatoric Entropy: 0.2457, Distance: 1.0942\n",
      "Step 30: Loss: 1.3747, Total Entropy: 0.2645, Epistemic Entropy: 0.0535, Aleatoric Entropy: 0.2110, Distance: 1.1102\n",
      "Step 31: Loss: 1.3625, Total Entropy: 0.2415, Epistemic Entropy: 0.0399, Aleatoric Entropy: 0.2016, Distance: 1.1210\n",
      "Step 32: Loss: 1.3645, Total Entropy: 0.2381, Epistemic Entropy: 0.0484, Aleatoric Entropy: 0.1897, Distance: 1.1263\n",
      "Step 33: Loss: 1.3282, Total Entropy: 0.2034, Epistemic Entropy: 0.0328, Aleatoric Entropy: 0.1705, Distance: 1.1248\n",
      "Step 34: Loss: 1.4017, Total Entropy: 0.2876, Epistemic Entropy: 0.0535, Aleatoric Entropy: 0.2340, Distance: 1.1141\n",
      "Step 35: Loss: 1.3265, Total Entropy: 0.2219, Epistemic Entropy: 0.0409, Aleatoric Entropy: 0.1811, Distance: 1.1046\n",
      "Step 36: Loss: 1.3649, Total Entropy: 0.2771, Epistemic Entropy: 0.0567, Aleatoric Entropy: 0.2205, Distance: 1.0878\n",
      "Step 37: Loss: 1.4007, Total Entropy: 0.3305, Epistemic Entropy: 0.0585, Aleatoric Entropy: 0.2720, Distance: 1.0702\n",
      "Step 38: Loss: 1.3149, Total Entropy: 0.2562, Epistemic Entropy: 0.0496, Aleatoric Entropy: 0.2066, Distance: 1.0587\n",
      "Step 39: Loss: 1.3545, Total Entropy: 0.3093, Epistemic Entropy: 0.0581, Aleatoric Entropy: 0.2512, Distance: 1.0452\n",
      "Step 40: Loss: 1.2863, Total Entropy: 0.2521, Epistemic Entropy: 0.0538, Aleatoric Entropy: 0.1982, Distance: 1.0342\n",
      "Step 41: Loss: 1.3623, Total Entropy: 0.3449, Epistemic Entropy: 0.0707, Aleatoric Entropy: 0.2743, Distance: 1.0174\n",
      "Step 42: Loss: 1.3718, Total Entropy: 0.3659, Epistemic Entropy: 0.0604, Aleatoric Entropy: 0.3055, Distance: 1.0058\n",
      "Step 43: Loss: 1.3648, Total Entropy: 0.3586, Epistemic Entropy: 0.0801, Aleatoric Entropy: 0.2785, Distance: 1.0063\n",
      "Step 44: Loss: 1.3236, Total Entropy: 0.3121, Epistemic Entropy: 0.0584, Aleatoric Entropy: 0.2537, Distance: 1.0114\n",
      "Step 45: Loss: 1.3094, Total Entropy: 0.2909, Epistemic Entropy: 0.0485, Aleatoric Entropy: 0.2424, Distance: 1.0185\n",
      "Step 46: Loss: 1.3235, Total Entropy: 0.2969, Epistemic Entropy: 0.0522, Aleatoric Entropy: 0.2448, Distance: 1.0265\n",
      "Step 47: Loss: 1.4347, Total Entropy: 0.4012, Epistemic Entropy: 0.0928, Aleatoric Entropy: 0.3084, Distance: 1.0336\n",
      "Step 48: Loss: 1.3440, Total Entropy: 0.2969, Epistemic Entropy: 0.0590, Aleatoric Entropy: 0.2379, Distance: 1.0471\n",
      "Step 49: Loss: 1.3510, Total Entropy: 0.2933, Epistemic Entropy: 0.0552, Aleatoric Entropy: 0.2380, Distance: 1.0578\n",
      "Step 50: Loss: 1.3262, Total Entropy: 0.2586, Epistemic Entropy: 0.0490, Aleatoric Entropy: 0.2097, Distance: 1.0676\n",
      "Step 51: Loss: 1.3061, Total Entropy: 0.2332, Epistemic Entropy: 0.0389, Aleatoric Entropy: 0.1943, Distance: 1.0729\n",
      "Step 52: Loss: 1.3979, Total Entropy: 0.3280, Epistemic Entropy: 0.0676, Aleatoric Entropy: 0.2604, Distance: 1.0699\n",
      "Step 53: Loss: 1.3664, Total Entropy: 0.2972, Epistemic Entropy: 0.0670, Aleatoric Entropy: 0.2301, Distance: 1.0693\n",
      "Step 54: Loss: 1.3123, Total Entropy: 0.2476, Epistemic Entropy: 0.0392, Aleatoric Entropy: 0.2085, Distance: 1.0647\n",
      "Step 55: Loss: 1.3736, Total Entropy: 0.3156, Epistemic Entropy: 0.0590, Aleatoric Entropy: 0.2567, Distance: 1.0580\n",
      "Step 56: Loss: 1.3526, Total Entropy: 0.2987, Epistemic Entropy: 0.0654, Aleatoric Entropy: 0.2334, Distance: 1.0539\n",
      "Step 57: Loss: 1.3121, Total Entropy: 0.2630, Epistemic Entropy: 0.0442, Aleatoric Entropy: 0.2188, Distance: 1.0491\n",
      "Step 58: Loss: 1.3280, Total Entropy: 0.2857, Epistemic Entropy: 0.0525, Aleatoric Entropy: 0.2332, Distance: 1.0422\n",
      "Step 59: Loss: 1.3189, Total Entropy: 0.2820, Epistemic Entropy: 0.0419, Aleatoric Entropy: 0.2400, Distance: 1.0370\n",
      "Step 60: Loss: 1.3473, Total Entropy: 0.3137, Epistemic Entropy: 0.0575, Aleatoric Entropy: 0.2562, Distance: 1.0337\n",
      "Step 61: Loss: 1.3125, Total Entropy: 0.2783, Epistemic Entropy: 0.0513, Aleatoric Entropy: 0.2270, Distance: 1.0342\n",
      "Step 62: Loss: 1.3262, Total Entropy: 0.2921, Epistemic Entropy: 0.0591, Aleatoric Entropy: 0.2330, Distance: 1.0340\n",
      "Step 63: Loss: 1.3645, Total Entropy: 0.3332, Epistemic Entropy: 0.0639, Aleatoric Entropy: 0.2693, Distance: 1.0312\n",
      "Step 64: Loss: 1.3734, Total Entropy: 0.3394, Epistemic Entropy: 0.0659, Aleatoric Entropy: 0.2735, Distance: 1.0340\n",
      "Step 65: Loss: 1.3218, Total Entropy: 0.2799, Epistemic Entropy: 0.0569, Aleatoric Entropy: 0.2229, Distance: 1.0419\n",
      "Step 66: Loss: 1.3331, Total Entropy: 0.2860, Epistemic Entropy: 0.0524, Aleatoric Entropy: 0.2336, Distance: 1.0471\n",
      "Step 67: Loss: 1.3561, Total Entropy: 0.3043, Epistemic Entropy: 0.0542, Aleatoric Entropy: 0.2501, Distance: 1.0518\n",
      "Step 68: Loss: 1.3404, Total Entropy: 0.2825, Epistemic Entropy: 0.0456, Aleatoric Entropy: 0.2368, Distance: 1.0579\n",
      "Step 69: Loss: 1.4168, Total Entropy: 0.3537, Epistemic Entropy: 0.0822, Aleatoric Entropy: 0.2715, Distance: 1.0631\n",
      "Step 70: Loss: 1.3139, Total Entropy: 0.2423, Epistemic Entropy: 0.0460, Aleatoric Entropy: 0.1963, Distance: 1.0717\n",
      "Step 71: Loss: 1.3330, Total Entropy: 0.2609, Epistemic Entropy: 0.0484, Aleatoric Entropy: 0.2125, Distance: 1.0721\n",
      "Step 72: Loss: 1.3515, Total Entropy: 0.2820, Epistemic Entropy: 0.0548, Aleatoric Entropy: 0.2272, Distance: 1.0695\n",
      "Step 73: Loss: 1.4046, Total Entropy: 0.3407, Epistemic Entropy: 0.0728, Aleatoric Entropy: 0.2680, Distance: 1.0638\n",
      "Step 74: Loss: 1.3257, Total Entropy: 0.2629, Epistemic Entropy: 0.0448, Aleatoric Entropy: 0.2181, Distance: 1.0628\n",
      "Step 75: Loss: 1.3364, Total Entropy: 0.2776, Epistemic Entropy: 0.0466, Aleatoric Entropy: 0.2311, Distance: 1.0587\n",
      "Step 76: Loss: 1.3265, Total Entropy: 0.2720, Epistemic Entropy: 0.0526, Aleatoric Entropy: 0.2194, Distance: 1.0545\n",
      "Step 77: Loss: 1.2987, Total Entropy: 0.2506, Epistemic Entropy: 0.0428, Aleatoric Entropy: 0.2077, Distance: 1.0481\n",
      "Step 78: Loss: 1.3573, Total Entropy: 0.3171, Epistemic Entropy: 0.0620, Aleatoric Entropy: 0.2551, Distance: 1.0402\n",
      "Step 79: Loss: 1.3773, Total Entropy: 0.3414, Epistemic Entropy: 0.0622, Aleatoric Entropy: 0.2793, Distance: 1.0359\n",
      "Step 80: Loss: 1.3953, Total Entropy: 0.3562, Epistemic Entropy: 0.0887, Aleatoric Entropy: 0.2675, Distance: 1.0391\n",
      "Step 81: Loss: 1.3760, Total Entropy: 0.3283, Epistemic Entropy: 0.0626, Aleatoric Entropy: 0.2657, Distance: 1.0477\n",
      "Step 82: Loss: 1.3497, Total Entropy: 0.2891, Epistemic Entropy: 0.0492, Aleatoric Entropy: 0.2399, Distance: 1.0606\n",
      "Step 83: Loss: 1.3030, Total Entropy: 0.2304, Epistemic Entropy: 0.0364, Aleatoric Entropy: 0.1940, Distance: 1.0726\n",
      "Step 84: Loss: 1.3542, Total Entropy: 0.2787, Epistemic Entropy: 0.0556, Aleatoric Entropy: 0.2232, Distance: 1.0755\n",
      "Step 85: Loss: 1.3588, Total Entropy: 0.2841, Epistemic Entropy: 0.0663, Aleatoric Entropy: 0.2178, Distance: 1.0746\n",
      "Step 86: Loss: 1.3411, Total Entropy: 0.2697, Epistemic Entropy: 0.0525, Aleatoric Entropy: 0.2172, Distance: 1.0714\n",
      "Step 87: Loss: 1.3235, Total Entropy: 0.2600, Epistemic Entropy: 0.0446, Aleatoric Entropy: 0.2154, Distance: 1.0636\n",
      "Step 88: Loss: 1.3441, Total Entropy: 0.2912, Epistemic Entropy: 0.0552, Aleatoric Entropy: 0.2361, Distance: 1.0529\n",
      "Step 89: Loss: 1.3309, Total Entropy: 0.2872, Epistemic Entropy: 0.0631, Aleatoric Entropy: 0.2241, Distance: 1.0437\n",
      "Step 90: Loss: 1.3630, Total Entropy: 0.3309, Epistemic Entropy: 0.0759, Aleatoric Entropy: 0.2550, Distance: 1.0322\n",
      "Step 91: Loss: 1.3476, Total Entropy: 0.3266, Epistemic Entropy: 0.0569, Aleatoric Entropy: 0.2697, Distance: 1.0210\n",
      "Step 92: Loss: 1.3077, Total Entropy: 0.2921, Epistemic Entropy: 0.0506, Aleatoric Entropy: 0.2415, Distance: 1.0156\n",
      "Step 93: Loss: 1.2896, Total Entropy: 0.2788, Epistemic Entropy: 0.0418, Aleatoric Entropy: 0.2370, Distance: 1.0108\n",
      "Step 94: Loss: 1.3845, Total Entropy: 0.3777, Epistemic Entropy: 0.0834, Aleatoric Entropy: 0.2942, Distance: 1.0069\n",
      "Step 95: Loss: 1.3357, Total Entropy: 0.3231, Epistemic Entropy: 0.0520, Aleatoric Entropy: 0.2711, Distance: 1.0126\n",
      "Step 96: Loss: 1.3470, Total Entropy: 0.3215, Epistemic Entropy: 0.0649, Aleatoric Entropy: 0.2566, Distance: 1.0256\n",
      "Step 97: Loss: 1.3011, Total Entropy: 0.2618, Epistemic Entropy: 0.0462, Aleatoric Entropy: 0.2155, Distance: 1.0393\n",
      "Step 98: Loss: 1.3761, Total Entropy: 0.3291, Epistemic Entropy: 0.0808, Aleatoric Entropy: 0.2482, Distance: 1.0470\n",
      "Step 99: Loss: 1.3571, Total Entropy: 0.3020, Epistemic Entropy: 0.0507, Aleatoric Entropy: 0.2514, Distance: 1.0551\n",
      "Step 100: Loss: 1.3881, Total Entropy: 0.3217, Epistemic Entropy: 0.0722, Aleatoric Entropy: 0.2496, Distance: 1.0663\n",
      "Step 101: Loss: 1.3181, Total Entropy: 0.2394, Epistemic Entropy: 0.0434, Aleatoric Entropy: 0.1960, Distance: 1.0787\n",
      "Step 102: Loss: 1.3278, Total Entropy: 0.2459, Epistemic Entropy: 0.0374, Aleatoric Entropy: 0.2085, Distance: 1.0819\n",
      "Step 103: Loss: 1.3230, Total Entropy: 0.2461, Epistemic Entropy: 0.0442, Aleatoric Entropy: 0.2019, Distance: 1.0770\n",
      "Step 104: Loss: 1.3041, Total Entropy: 0.2368, Epistemic Entropy: 0.0427, Aleatoric Entropy: 0.1941, Distance: 1.0673\n",
      "Step 105: Loss: 1.4161, Total Entropy: 0.3665, Epistemic Entropy: 0.0703, Aleatoric Entropy: 0.2962, Distance: 1.0496\n",
      "Step 106: Loss: 1.3416, Total Entropy: 0.3003, Epistemic Entropy: 0.0665, Aleatoric Entropy: 0.2338, Distance: 1.0412\n",
      "Step 107: Loss: 1.3254, Total Entropy: 0.2916, Epistemic Entropy: 0.0511, Aleatoric Entropy: 0.2405, Distance: 1.0338\n",
      "Step 108: Loss: 1.3776, Total Entropy: 0.3499, Epistemic Entropy: 0.0677, Aleatoric Entropy: 0.2823, Distance: 1.0277\n",
      "Step 109: Loss: 1.4695, Total Entropy: 0.4380, Epistemic Entropy: 0.1131, Aleatoric Entropy: 0.3249, Distance: 1.0315\n",
      "Step 110: Loss: 1.3040, Total Entropy: 0.2570, Epistemic Entropy: 0.0473, Aleatoric Entropy: 0.2097, Distance: 1.0470\n",
      "Step 111: Loss: 1.3286, Total Entropy: 0.2737, Epistemic Entropy: 0.0474, Aleatoric Entropy: 0.2264, Distance: 1.0549\n",
      "Step 112: Loss: 1.3395, Total Entropy: 0.2798, Epistemic Entropy: 0.0467, Aleatoric Entropy: 0.2330, Distance: 1.0597\n",
      "Step 113: Loss: 1.3063, Total Entropy: 0.2406, Epistemic Entropy: 0.0380, Aleatoric Entropy: 0.2025, Distance: 1.0658\n",
      "Step 114: Loss: 1.3412, Total Entropy: 0.2769, Epistemic Entropy: 0.0483, Aleatoric Entropy: 0.2287, Distance: 1.0643\n",
      "Step 115: Loss: 1.3535, Total Entropy: 0.2929, Epistemic Entropy: 0.0653, Aleatoric Entropy: 0.2275, Distance: 1.0606\n",
      "Step 116: Loss: 1.3718, Total Entropy: 0.3164, Epistemic Entropy: 0.0588, Aleatoric Entropy: 0.2576, Distance: 1.0554\n",
      "Step 117: Loss: 1.3969, Total Entropy: 0.3427, Epistemic Entropy: 0.0723, Aleatoric Entropy: 0.2704, Distance: 1.0542\n",
      "Step 118: Loss: 1.3341, Total Entropy: 0.2762, Epistemic Entropy: 0.0608, Aleatoric Entropy: 0.2154, Distance: 1.0579\n",
      "Step 119: Loss: 1.3732, Total Entropy: 0.3171, Epistemic Entropy: 0.0630, Aleatoric Entropy: 0.2541, Distance: 1.0562\n",
      "Step 120: Loss: 1.4023, Total Entropy: 0.3452, Epistemic Entropy: 0.0733, Aleatoric Entropy: 0.2719, Distance: 1.0571\n",
      "Step 121: Loss: 1.3906, Total Entropy: 0.3263, Epistemic Entropy: 0.0764, Aleatoric Entropy: 0.2499, Distance: 1.0644\n",
      "Step 122: Loss: 1.3468, Total Entropy: 0.2745, Epistemic Entropy: 0.0625, Aleatoric Entropy: 0.2119, Distance: 1.0723\n",
      "Step 123: Loss: 1.4064, Total Entropy: 0.3337, Epistemic Entropy: 0.0767, Aleatoric Entropy: 0.2570, Distance: 1.0727\n",
      "Step 124: Loss: 1.3457, Total Entropy: 0.2701, Epistemic Entropy: 0.0403, Aleatoric Entropy: 0.2297, Distance: 1.0756\n",
      "Step 125: Loss: 1.3451, Total Entropy: 0.2695, Epistemic Entropy: 0.0516, Aleatoric Entropy: 0.2179, Distance: 1.0756\n",
      "Step 126: Loss: 1.3419, Total Entropy: 0.2697, Epistemic Entropy: 0.0468, Aleatoric Entropy: 0.2229, Distance: 1.0722\n",
      "Step 127: Loss: 1.3381, Total Entropy: 0.2740, Epistemic Entropy: 0.0439, Aleatoric Entropy: 0.2301, Distance: 1.0641\n",
      "Step 128: Loss: 1.3560, Total Entropy: 0.2975, Epistemic Entropy: 0.0506, Aleatoric Entropy: 0.2469, Distance: 1.0585\n",
      "Step 129: Loss: 1.3072, Total Entropy: 0.2505, Epistemic Entropy: 0.0503, Aleatoric Entropy: 0.2002, Distance: 1.0567\n",
      "Step 130: Loss: 1.4059, Total Entropy: 0.3584, Epistemic Entropy: 0.0688, Aleatoric Entropy: 0.2896, Distance: 1.0475\n",
      "Step 131: Loss: 1.4028, Total Entropy: 0.3543, Epistemic Entropy: 0.0773, Aleatoric Entropy: 0.2770, Distance: 1.0485\n",
      "Step 132: Loss: 1.3531, Total Entropy: 0.2938, Epistemic Entropy: 0.0586, Aleatoric Entropy: 0.2353, Distance: 1.0593\n",
      "Step 133: Loss: 1.3129, Total Entropy: 0.2435, Epistemic Entropy: 0.0383, Aleatoric Entropy: 0.2052, Distance: 1.0694\n",
      "Step 134: Loss: 1.3770, Total Entropy: 0.3060, Epistemic Entropy: 0.0610, Aleatoric Entropy: 0.2450, Distance: 1.0710\n",
      "Step 135: Loss: 1.3799, Total Entropy: 0.3055, Epistemic Entropy: 0.0603, Aleatoric Entropy: 0.2452, Distance: 1.0744\n",
      "Step 136: Loss: 1.3387, Total Entropy: 0.2618, Epistemic Entropy: 0.0455, Aleatoric Entropy: 0.2163, Distance: 1.0769\n",
      "Step 137: Loss: 1.4087, Total Entropy: 0.3338, Epistemic Entropy: 0.0612, Aleatoric Entropy: 0.2727, Distance: 1.0749\n",
      "Step 138: Loss: 1.4027, Total Entropy: 0.3244, Epistemic Entropy: 0.0820, Aleatoric Entropy: 0.2424, Distance: 1.0783\n",
      "Step 139: Loss: 1.3902, Total Entropy: 0.3113, Epistemic Entropy: 0.0711, Aleatoric Entropy: 0.2403, Distance: 1.0788\n",
      "Step 140: Loss: 1.3246, Total Entropy: 0.2431, Epistemic Entropy: 0.0443, Aleatoric Entropy: 0.1988, Distance: 1.0814\n",
      "Step 141: Loss: 1.3358, Total Entropy: 0.2588, Epistemic Entropy: 0.0454, Aleatoric Entropy: 0.2134, Distance: 1.0770\n",
      "Step 142: Loss: 1.3276, Total Entropy: 0.2606, Epistemic Entropy: 0.0455, Aleatoric Entropy: 0.2151, Distance: 1.0670\n",
      "Step 143: Loss: 1.3327, Total Entropy: 0.2799, Epistemic Entropy: 0.0438, Aleatoric Entropy: 0.2361, Distance: 1.0527\n",
      "Step 144: Loss: 1.3783, Total Entropy: 0.3377, Epistemic Entropy: 0.0732, Aleatoric Entropy: 0.2645, Distance: 1.0406\n",
      "Step 145: Loss: 1.3093, Total Entropy: 0.2758, Epistemic Entropy: 0.0515, Aleatoric Entropy: 0.2243, Distance: 1.0335\n",
      "Step 146: Loss: 1.3609, Total Entropy: 0.3384, Epistemic Entropy: 0.0655, Aleatoric Entropy: 0.2729, Distance: 1.0225\n",
      "Step 147: Loss: 1.3477, Total Entropy: 0.3247, Epistemic Entropy: 0.0749, Aleatoric Entropy: 0.2498, Distance: 1.0230\n",
      "Step 148: Loss: 1.3107, Total Entropy: 0.2856, Epistemic Entropy: 0.0533, Aleatoric Entropy: 0.2323, Distance: 1.0250\n",
      "Step 149: Loss: 1.3368, Total Entropy: 0.3113, Epistemic Entropy: 0.0444, Aleatoric Entropy: 0.2669, Distance: 1.0256\n",
      "Step 150: Loss: 1.3168, Total Entropy: 0.2835, Epistemic Entropy: 0.0492, Aleatoric Entropy: 0.2343, Distance: 1.0332\n",
      "Step 151: Loss: 1.3535, Total Entropy: 0.3172, Epistemic Entropy: 0.0733, Aleatoric Entropy: 0.2439, Distance: 1.0363\n",
      "Step 152: Loss: 1.3918, Total Entropy: 0.3531, Epistemic Entropy: 0.0666, Aleatoric Entropy: 0.2865, Distance: 1.0387\n",
      "Step 153: Loss: 1.3370, Total Entropy: 0.2827, Epistemic Entropy: 0.0524, Aleatoric Entropy: 0.2303, Distance: 1.0543\n",
      "Step 154: Loss: 1.4272, Total Entropy: 0.3599, Epistemic Entropy: 0.1086, Aleatoric Entropy: 0.2513, Distance: 1.0672\n",
      "Step 155: Loss: 1.3327, Total Entropy: 0.2539, Epistemic Entropy: 0.0481, Aleatoric Entropy: 0.2058, Distance: 1.0788\n",
      "Step 156: Loss: 1.3492, Total Entropy: 0.2674, Epistemic Entropy: 0.0492, Aleatoric Entropy: 0.2182, Distance: 1.0818\n",
      "Step 157: Loss: 1.3664, Total Entropy: 0.2862, Epistemic Entropy: 0.0597, Aleatoric Entropy: 0.2265, Distance: 1.0802\n",
      "Step 158: Loss: 1.3886, Total Entropy: 0.3129, Epistemic Entropy: 0.0646, Aleatoric Entropy: 0.2484, Distance: 1.0757\n",
      "Step 159: Loss: 1.3396, Total Entropy: 0.2676, Epistemic Entropy: 0.0527, Aleatoric Entropy: 0.2149, Distance: 1.0720\n",
      "Step 160: Loss: 1.3972, Total Entropy: 0.3329, Epistemic Entropy: 0.0639, Aleatoric Entropy: 0.2689, Distance: 1.0643\n",
      "Step 161: Loss: 1.3772, Total Entropy: 0.3139, Epistemic Entropy: 0.0766, Aleatoric Entropy: 0.2373, Distance: 1.0633\n",
      "Step 162: Loss: 1.3123, Total Entropy: 0.2478, Epistemic Entropy: 0.0433, Aleatoric Entropy: 0.2045, Distance: 1.0645\n",
      "Step 163: Loss: 1.3419, Total Entropy: 0.2830, Epistemic Entropy: 0.0609, Aleatoric Entropy: 0.2221, Distance: 1.0589\n",
      "Step 164: Loss: 1.3753, Total Entropy: 0.3220, Epistemic Entropy: 0.0625, Aleatoric Entropy: 0.2595, Distance: 1.0533\n",
      "Step 165: Loss: 1.2833, Total Entropy: 0.2299, Epistemic Entropy: 0.0334, Aleatoric Entropy: 0.1965, Distance: 1.0534\n",
      "Step 166: Loss: 1.3359, Total Entropy: 0.2944, Epistemic Entropy: 0.0574, Aleatoric Entropy: 0.2370, Distance: 1.0415\n",
      "Step 167: Loss: 1.3388, Total Entropy: 0.3075, Epistemic Entropy: 0.0508, Aleatoric Entropy: 0.2567, Distance: 1.0313\n",
      "Step 168: Loss: 1.3345, Total Entropy: 0.3068, Epistemic Entropy: 0.0580, Aleatoric Entropy: 0.2488, Distance: 1.0277\n",
      "Step 169: Loss: 1.3402, Total Entropy: 0.3134, Epistemic Entropy: 0.0633, Aleatoric Entropy: 0.2502, Distance: 1.0268\n",
      "Step 170: Loss: 1.3854, Total Entropy: 0.3560, Epistemic Entropy: 0.0692, Aleatoric Entropy: 0.2868, Distance: 1.0293\n",
      "Step 171: Loss: 1.3442, Total Entropy: 0.3014, Epistemic Entropy: 0.0537, Aleatoric Entropy: 0.2478, Distance: 1.0427\n",
      "Step 172: Loss: 1.3492, Total Entropy: 0.2948, Epistemic Entropy: 0.0602, Aleatoric Entropy: 0.2346, Distance: 1.0544\n",
      "Step 173: Loss: 1.3536, Total Entropy: 0.2913, Epistemic Entropy: 0.0567, Aleatoric Entropy: 0.2347, Distance: 1.0623\n",
      "Step 174: Loss: 1.3677, Total Entropy: 0.2980, Epistemic Entropy: 0.0576, Aleatoric Entropy: 0.2404, Distance: 1.0697\n",
      "Step 175: Loss: 1.3605, Total Entropy: 0.2836, Epistemic Entropy: 0.0525, Aleatoric Entropy: 0.2312, Distance: 1.0769\n",
      "Step 176: Loss: 1.3926, Total Entropy: 0.3104, Epistemic Entropy: 0.0639, Aleatoric Entropy: 0.2465, Distance: 1.0822\n",
      "Step 177: Loss: 1.3467, Total Entropy: 0.2563, Epistemic Entropy: 0.0444, Aleatoric Entropy: 0.2120, Distance: 1.0904\n",
      "Step 178: Loss: 1.3947, Total Entropy: 0.3023, Epistemic Entropy: 0.0558, Aleatoric Entropy: 0.2465, Distance: 1.0924\n",
      "Step 179: Loss: 1.3398, Total Entropy: 0.2434, Epistemic Entropy: 0.0340, Aleatoric Entropy: 0.2093, Distance: 1.0964\n",
      "Step 180: Loss: 1.3893, Total Entropy: 0.2955, Epistemic Entropy: 0.0648, Aleatoric Entropy: 0.2307, Distance: 1.0939\n",
      "Step 181: Loss: 1.3641, Total Entropy: 0.2741, Epistemic Entropy: 0.0506, Aleatoric Entropy: 0.2235, Distance: 1.0900\n",
      "Step 182: Loss: 1.3532, Total Entropy: 0.2704, Epistemic Entropy: 0.0452, Aleatoric Entropy: 0.2252, Distance: 1.0828\n",
      "Step 183: Loss: 1.3933, Total Entropy: 0.3226, Epistemic Entropy: 0.0597, Aleatoric Entropy: 0.2629, Distance: 1.0707\n",
      "Step 184: Loss: 1.3018, Total Entropy: 0.2383, Epistemic Entropy: 0.0370, Aleatoric Entropy: 0.2013, Distance: 1.0635\n",
      "Step 185: Loss: 1.3114, Total Entropy: 0.2625, Epistemic Entropy: 0.0409, Aleatoric Entropy: 0.2216, Distance: 1.0489\n",
      "Step 186: Loss: 1.3456, Total Entropy: 0.3124, Epistemic Entropy: 0.0507, Aleatoric Entropy: 0.2617, Distance: 1.0332\n",
      "Step 187: Loss: 1.3357, Total Entropy: 0.3099, Epistemic Entropy: 0.0510, Aleatoric Entropy: 0.2589, Distance: 1.0258\n",
      "Step 188: Loss: 1.3397, Total Entropy: 0.3121, Epistemic Entropy: 0.0722, Aleatoric Entropy: 0.2399, Distance: 1.0276\n",
      "Step 189: Loss: 1.2954, Total Entropy: 0.2659, Epistemic Entropy: 0.0439, Aleatoric Entropy: 0.2220, Distance: 1.0295\n",
      "Step 190: Loss: 1.3473, Total Entropy: 0.3190, Epistemic Entropy: 0.0664, Aleatoric Entropy: 0.2526, Distance: 1.0283\n",
      "Step 191: Loss: 1.3382, Total Entropy: 0.3086, Epistemic Entropy: 0.0553, Aleatoric Entropy: 0.2533, Distance: 1.0296\n",
      "Step 192: Loss: 1.3323, Total Entropy: 0.2962, Epistemic Entropy: 0.0518, Aleatoric Entropy: 0.2444, Distance: 1.0362\n",
      "Step 193: Loss: 1.2932, Total Entropy: 0.2451, Epistemic Entropy: 0.0395, Aleatoric Entropy: 0.2055, Distance: 1.0482\n",
      "Step 194: Loss: 1.3006, Total Entropy: 0.2500, Epistemic Entropy: 0.0443, Aleatoric Entropy: 0.2057, Distance: 1.0506\n",
      "Step 195: Loss: 1.3135, Total Entropy: 0.2692, Epistemic Entropy: 0.0488, Aleatoric Entropy: 0.2204, Distance: 1.0444\n",
      "Step 196: Loss: 1.3162, Total Entropy: 0.2817, Epistemic Entropy: 0.0526, Aleatoric Entropy: 0.2291, Distance: 1.0345\n",
      "Step 197: Loss: 1.4437, Total Entropy: 0.4174, Epistemic Entropy: 0.0991, Aleatoric Entropy: 0.3182, Distance: 1.0264\n",
      "Step 198: Loss: 1.3761, Total Entropy: 0.3428, Epistemic Entropy: 0.0654, Aleatoric Entropy: 0.2775, Distance: 1.0332\n",
      "Step 199: Loss: 1.3879, Total Entropy: 0.3402, Epistemic Entropy: 0.0724, Aleatoric Entropy: 0.2678, Distance: 1.0477\n"
     ]
    },
    {
     "data": {
      "image/png": "[encoded data removed]",
      "text/plain": [
       "<Figure size 1500x1000 with 5 Axes>"
      ]
     },
     "metadata": {},
     "output_type": "display_data"
    }
   ],
   "source": [
    "from clue import new_CLUE\n",
    "\n",
    "# Get the most uncertain image and its latent representation\n",
    "most_uncertain_idx = sorted_data_indices[0]\n",
    "uncertain_image, true_label = testset[most_uncertain_idx]\n",
    "uncertain_image = uncertain_image.to(device).unsqueeze(0)  # Add batch dimension\n",
    "\n",
    "# Get its latent representation\n",
    "model.eval()\n",
    "with torch.no_grad():\n",
    "    z0 = model.extract_features(uncertain_image)\n",
    "\n",
    "# Initialize CLUE\n",
    "clue = new_CLUE.NewCLUE(\n",
    "    classifier=model,\n",
    "    z0=z0,\n",
    "    uncertainty_weight=1.0,\n",
    "    distance_weight=1.0,\n",
    "    lr=0.01,\n",
    "    device=device,\n",
    "    bayesian=True,\n",
    "    verbose=True\n",
    ")\n",
    "\n",
    "# Optimize to find explanation\n",
    "z_explained = clue.optimize(steps=200)\n",
    "\n",
    "# Generate reconstructions using decoder\n",
    "with torch.no_grad():\n",
    "    # Original reconstruction\n",
    "    original_recon = autoencoder.decode(z0)\n",
    "    # CLUE reconstruction  \n",
    "    clue_recon = autoencoder.decode(z_explained)\n",
    "    \n",
    "    # Get predictions and uncertainties from latent codes\n",
    "    original_probs_latent = model.sample_predict_z(z0)  # [n_ensemble, batch, classes]\n",
    "    explained_probs_latent = model.sample_predict_z(z_explained)\n",
    "    \n",
    "    # Get predictions from full classifier workflow on reconstructions\n",
    "    original_probs_recon = model.sample_predict(original_recon)\n",
    "    explained_probs_recon = model.sample_predict(clue_recon)\n",
    "    \n",
    "    # Calculate mean probabilities and entropies for latent predictions\n",
    "    original_mean_probs_latent = original_probs_latent.mean(dim=0)  # [batch, classes]\n",
    "    explained_mean_probs_latent = explained_probs_latent.mean(dim=0)\n",
    "    \n",
    "    original_entropy_latent = -(original_mean_probs_latent * torch.log(original_mean_probs_latent + 1e-10)).sum(dim=1)\n",
    "    explained_entropy_latent = -(explained_mean_probs_latent * torch.log(explained_mean_probs_latent + 1e-10)).sum(dim=1)\n",
    "    \n",
    "    # Calculate mean probabilities and entropies for reconstruction predictions\n",
    "    original_mean_probs_recon = original_probs_recon.mean(dim=0)\n",
    "    explained_mean_probs_recon = explained_probs_recon.mean(dim=0)\n",
    "    \n",
    "    original_entropy_recon = -(original_mean_probs_recon * torch.log(original_mean_probs_recon + 1e-10)).sum(dim=1)\n",
    "    explained_entropy_recon = -(explained_mean_probs_recon * torch.log(explained_mean_probs_recon + 1e-10)).sum(dim=1)\n",
    "    \n",
    "    # Get predicted classes\n",
    "    original_pred = original_mean_probs_recon.argmax(dim=1).item()\n",
    "    explained_pred = explained_mean_probs_recon.argmax(dim=1).item()\n",
    "\n",
    "# Plot results\n",
    "plt.figure(figsize=(15, 10))\n",
    "\n",
    "plt.subplot(231)\n",
    "plt.imshow(uncertain_image[0,0].cpu(), cmap='gray')\n",
    "plt.title(f'Original Image\\nTrue Class: {true_label}, Predicted: {original_pred}\\nEntropy: {original_entropy_recon[0]:.3f}')\n",
    "plt.axis('off')\n",
    "\n",
    "plt.subplot(232)\n",
    "plt.imshow(clue_recon[0,0].cpu().detach(), cmap='gray')\n",
    "plt.title(f'Counterfactual\\nPredicted: {explained_pred}\\nEntropy: {explained_entropy_recon[0]:.3f}')\n",
    "plt.axis('off')\n",
    "\n",
    "plt.subplot(233)\n",
    "diff = clue_recon[0,0].cpu().detach() - uncertain_image[0,0].cpu()\n",
    "plt.imshow(diff, cmap='RdBu', vmin=-1, vmax=1)  # Fixed scale -1 to 1\n",
    "plt.title('Counterfactual vs Original\\nDifference\\n(Red: Added Features, Blue: Removed Features)')\n",
    "plt.axis('off')\n",
    "\n",
    "plt.subplot(234)\n",
    "plt.imshow(original_recon[0,0].cpu().detach(), cmap='gray')\n",
    "plt.title('Original Reconstruction')\n",
    "plt.axis('off')\n",
    "\n",
    "plt.subplot(235)\n",
    "recon_diff = clue_recon[0,0].cpu().detach() - original_recon[0,0].cpu().detach()\n",
    "plt.imshow(recon_diff, cmap='RdBu', vmin=-1, vmax=1)  # Fixed scale -1 to 1\n",
    "plt.title('Counterfactual vs Original\\nReconstruction Difference\\n(Red: Added Features, Blue: Removed Features)')\n",
    "plt.axis('off')\n",
    "\n",
    "plt.tight_layout()\n",
    "plt.show()\n"
   ]
  }
 ],
 "metadata": {
  "kernelspec": {
   "display_name": "thesis-venv",
   "language": "python",
   "name": "python3"
  },
  "language_info": {
   "codemirror_mode": {
    "name": "ipython",
    "version": 3
   },
   "file_extension": ".py",
   "mimetype": "text/x-python",
   "name": "python",
   "nbconvert_exporter": "python",
   "pygments_lexer": "ipython3",
   "version": "3.9.6"
  }
 },
 "nbformat": 4,
 "nbformat_minor": 2
}
