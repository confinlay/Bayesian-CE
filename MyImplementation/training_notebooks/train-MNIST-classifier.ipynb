{
 "cells": [
  {
   "cell_type": "markdown",
   "metadata": {},
   "source": [
    "# Train a classifier on MNIST"
   ]
  },
  {
   "cell_type": "markdown",
   "metadata": {},
   "source": [
    "## Setup\n"
   ]
  },
  {
   "cell_type": "markdown",
   "metadata": {},
   "source": [
    "Import libraries"
   ]
  },
  {
   "cell_type": "code",
   "execution_count": 1,
   "metadata": {},
   "outputs": [
    {
     "data": {
      "text/plain": [
       "<module 'new_CLUE' from '/Users/conor/Documents/College terms/College/Thesis/Thesis_Code_Minimised/MyImplementation/new_CLUE.py'>"
      ]
     },
     "execution_count": 1,
     "metadata": {},
     "output_type": "execute_result"
    }
   ],
   "source": [
    "import importlib\n",
    "import regene_models\n",
    "importlib.reload(regene_models)\n",
    "import torch\n",
    "import torch.nn as nn\n",
    "import torch.optim as optim\n",
    "import torchvision\n",
    "import torchvision.transforms as transforms\n",
    "import matplotlib.pyplot as plt\n",
    "import numpy as np\n",
    "import os\n",
    "import new_CLUE\n",
    "importlib.reload(new_CLUE)"
   ]
  },
  {
   "cell_type": "markdown",
   "metadata": {},
   "source": [
    "Set the device"
   ]
  },
  {
   "cell_type": "code",
   "execution_count": 2,
   "metadata": {},
   "outputs": [
    {
     "name": "stdout",
     "output_type": "stream",
     "text": [
      "Using device: mps\n"
     ]
    }
   ],
   "source": [
    "if torch.cuda.is_available():\n",
    "    device = torch.device(\"cuda\")\n",
    "elif torch.backends.mps.is_available():\n",
    "    device = torch.device(\"mps\")\n",
    "else:\n",
    "    device = torch.device(\"cpu\")\n",
    "\n",
    "print(f\"Using device: {device}\")"
   ]
  },
  {
   "cell_type": "markdown",
   "metadata": {},
   "source": [
    "Load the Datasets"
   ]
  },
  {
   "cell_type": "code",
   "execution_count": 3,
   "metadata": {},
   "outputs": [],
   "source": [
    "# Load the MNIST dataset\n",
    "transform = transforms.Compose([transforms.ToTensor()])\n",
    "trainset = torchvision.datasets.MNIST(root='../data', train=True, download=True, transform=transform)\n",
    "trainloader = torch.utils.data.DataLoader(trainset, batch_size=64, shuffle=True, num_workers=2)"
   ]
  },
  {
   "cell_type": "markdown",
   "metadata": {},
   "source": [
    "Set the latent dimension"
   ]
  },
  {
   "cell_type": "code",
   "execution_count": 4,
   "metadata": {},
   "outputs": [],
   "source": [
    "latent_dim = 256"
   ]
  },
  {
   "cell_type": "markdown",
   "metadata": {},
   "source": [
    "Create a models directory if it doesn't exist"
   ]
  },
  {
   "cell_type": "code",
   "execution_count": 5,
   "metadata": {},
   "outputs": [],
   "source": [
    "# Create models directory if it doesn't exist\n",
    "os.makedirs('model_saves', exist_ok=True)"
   ]
  },
  {
   "cell_type": "markdown",
   "metadata": {},
   "source": [
    "## Train the classifier"
   ]
  },
  {
   "cell_type": "markdown",
   "metadata": {},
   "source": [
    "Create the model"
   ]
  },
  {
   "cell_type": "code",
   "execution_count": 9,
   "metadata": {},
   "outputs": [],
   "source": [
    "from mnist_classifier import MNISTClassifier\n",
    "\n",
    "classifier = MNISTClassifier(device=device)"
   ]
  },
  {
   "cell_type": "markdown",
   "metadata": {},
   "source": [
    "And train it"
   ]
  },
  {
   "cell_type": "code",
   "execution_count": 11,
   "metadata": {},
   "outputs": [
    {
     "name": "stdout",
     "output_type": "stream",
     "text": [
      "Epoch [1/5], Step [100/938], Loss: 0.2128, Accuracy: 93.44%\n",
      "Epoch [1/5], Step [200/938], Loss: 0.2149, Accuracy: 94.89%\n",
      "Epoch [1/5], Step [300/938], Loss: 0.0173, Accuracy: 95.60%\n",
      "Epoch [1/5], Step [400/938], Loss: 0.0576, Accuracy: 96.07%\n",
      "Epoch [1/5], Step [500/938], Loss: 0.0732, Accuracy: 96.46%\n",
      "Epoch [1/5], Step [600/938], Loss: 0.0171, Accuracy: 96.71%\n",
      "Epoch [1/5], Step [700/938], Loss: 0.0374, Accuracy: 96.92%\n",
      "Epoch [1/5], Step [800/938], Loss: 0.0246, Accuracy: 97.05%\n",
      "Epoch [1/5], Step [900/938], Loss: 0.0269, Accuracy: 97.19%\n",
      "Epoch [1/5] completed. Average Loss: 0.0921, Accuracy: 97.25%\n",
      "Epoch [2/5], Step [100/938], Loss: 0.1045, Accuracy: 98.50%\n",
      "Epoch [2/5], Step [200/938], Loss: 0.0144, Accuracy: 98.60%\n",
      "Epoch [2/5], Step [300/938], Loss: 0.0085, Accuracy: 98.56%\n",
      "Epoch [2/5], Step [400/938], Loss: 0.1092, Accuracy: 98.61%\n",
      "Epoch [2/5], Step [500/938], Loss: 0.0116, Accuracy: 98.66%\n",
      "Epoch [2/5], Step [600/938], Loss: 0.0213, Accuracy: 98.68%\n",
      "Epoch [2/5], Step [700/938], Loss: 0.0378, Accuracy: 98.68%\n",
      "Epoch [2/5], Step [800/938], Loss: 0.0412, Accuracy: 98.69%\n",
      "Epoch [2/5], Step [900/938], Loss: 0.0112, Accuracy: 98.70%\n",
      "Epoch [2/5] completed. Average Loss: 0.0420, Accuracy: 98.71%\n",
      "Epoch [3/5], Step [100/938], Loss: 0.0550, Accuracy: 99.23%\n",
      "Epoch [3/5], Step [200/938], Loss: 0.0306, Accuracy: 99.17%\n",
      "Epoch [3/5], Step [300/938], Loss: 0.0075, Accuracy: 99.08%\n",
      "Epoch [3/5], Step [400/938], Loss: 0.0013, Accuracy: 99.13%\n",
      "Epoch [3/5], Step [500/938], Loss: 0.0088, Accuracy: 99.11%\n",
      "Epoch [3/5], Step [600/938], Loss: 0.0170, Accuracy: 99.04%\n",
      "Epoch [3/5], Step [700/938], Loss: 0.0288, Accuracy: 99.03%\n",
      "Epoch [3/5], Step [800/938], Loss: 0.0210, Accuracy: 99.01%\n",
      "Epoch [3/5], Step [900/938], Loss: 0.0011, Accuracy: 99.02%\n",
      "Epoch [3/5] completed. Average Loss: 0.0300, Accuracy: 99.03%\n",
      "Epoch [4/5], Step [100/938], Loss: 0.0018, Accuracy: 99.47%\n",
      "Epoch [4/5], Step [200/938], Loss: 0.0003, Accuracy: 99.42%\n",
      "Epoch [4/5], Step [300/938], Loss: 0.0009, Accuracy: 99.42%\n",
      "Epoch [4/5], Step [400/938], Loss: 0.0245, Accuracy: 99.39%\n",
      "Epoch [4/5], Step [500/938], Loss: 0.0130, Accuracy: 99.32%\n",
      "Epoch [4/5], Step [600/938], Loss: 0.0015, Accuracy: 99.31%\n",
      "Epoch [4/5], Step [700/938], Loss: 0.0069, Accuracy: 99.32%\n",
      "Epoch [4/5], Step [800/938], Loss: 0.0403, Accuracy: 99.30%\n",
      "Epoch [4/5], Step [900/938], Loss: 0.0386, Accuracy: 99.28%\n",
      "Epoch [4/5] completed. Average Loss: 0.0232, Accuracy: 99.28%\n",
      "Epoch [5/5], Step [100/938], Loss: 0.0029, Accuracy: 99.48%\n",
      "Epoch [5/5], Step [200/938], Loss: 0.0068, Accuracy: 99.47%\n",
      "Epoch [5/5], Step [300/938], Loss: 0.0044, Accuracy: 99.45%\n",
      "Epoch [5/5], Step [400/938], Loss: 0.0417, Accuracy: 99.41%\n",
      "Epoch [5/5], Step [500/938], Loss: 0.0120, Accuracy: 99.40%\n",
      "Epoch [5/5], Step [600/938], Loss: 0.0265, Accuracy: 99.39%\n",
      "Epoch [5/5], Step [700/938], Loss: 0.0718, Accuracy: 99.38%\n",
      "Epoch [5/5], Step [800/938], Loss: 0.0057, Accuracy: 99.38%\n",
      "Epoch [5/5], Step [900/938], Loss: 0.0103, Accuracy: 99.37%\n",
      "Epoch [5/5] completed. Average Loss: 0.0198, Accuracy: 99.36%\n",
      "Training completed and model saved!\n"
     ]
    }
   ],
   "source": [
    "# Train the classifier\n",
    "criterion = nn.CrossEntropyLoss()\n",
    "optimizer = optim.Adam(classifier.parameters(), lr=0.001)\n",
    "\n",
    "num_epochs = 5\n",
    "for epoch in range(num_epochs):\n",
    "    running_loss = 0.0\n",
    "    correct = 0\n",
    "    total = 0\n",
    "    \n",
    "    for i, (images, labels) in enumerate(trainloader):\n",
    "        images = images.to(device)\n",
    "        labels = labels.to(device)\n",
    "        \n",
    "        # Zero the gradients\n",
    "        optimizer.zero_grad()\n",
    "        \n",
    "        # Forward pass\n",
    "        outputs = classifier(images)\n",
    "        \n",
    "        # Calculate loss\n",
    "        loss = criterion(outputs, labels)\n",
    "        \n",
    "        # Backward pass and optimize\n",
    "        loss.backward()\n",
    "        optimizer.step()\n",
    "        \n",
    "        # Statistics\n",
    "        running_loss += loss.item()\n",
    "        _, predicted = torch.max(outputs.data, 1)\n",
    "        total += labels.size(0)\n",
    "        correct += (predicted == labels).sum().item()\n",
    "        \n",
    "        if (i + 1) % 100 == 0:\n",
    "            print(f'Epoch [{epoch+1}/{num_epochs}], Step [{i+1}/{len(trainloader)}], '\n",
    "                  f'Loss: {loss.item():.4f}, '\n",
    "                  f'Accuracy: {100 * correct/total:.2f}%')\n",
    "    \n",
    "    # Print epoch statistics\n",
    "    epoch_loss = running_loss / len(trainloader)\n",
    "    epoch_acc = 100 * correct / total\n",
    "    print(f'Epoch [{epoch+1}/{num_epochs}] completed. '\n",
    "          f'Average Loss: {epoch_loss:.4f}, '\n",
    "          f'Accuracy: {epoch_acc:.2f}%')\n",
    "\n",
    "# Save the trained model\n",
    "torch.save(classifier.state_dict(), 'model_saves/mnist_classifier.pth')\n",
    "print(\"Training completed and model saved!\")\n"
   ]
  }
 ],
 "metadata": {
  "kernelspec": {
   "display_name": "thesis-venv",
   "language": "python",
   "name": "python3"
  },
  "language_info": {
   "codemirror_mode": {
    "name": "ipython",
    "version": 3
   },
   "file_extension": ".py",
   "mimetype": "text/x-python",
   "name": "python",
   "nbconvert_exporter": "python",
   "pygments_lexer": "ipython3",
   "version": "3.9.6"
  }
 },
 "nbformat": 4,
 "nbformat_minor": 2
}
