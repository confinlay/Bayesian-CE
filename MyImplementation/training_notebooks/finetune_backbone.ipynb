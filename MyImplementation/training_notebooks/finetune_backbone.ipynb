{
 "cells": [
  {
   "cell_type": "markdown",
   "metadata": {},
   "source": [
    "# Fine tune the backbone of a BLL model"
   ]
  },
  {
   "cell_type": "markdown",
   "metadata": {},
   "source": [
    "In this notebook, we continue training the backbone of a BLL model based on the Bayesian layer's predictions. We allow a reconstruction loss to be included according to $\\alpha$ "
   ]
  },
  {
   "cell_type": "markdown",
   "metadata": {},
   "source": [
    "## Setup\n"
   ]
  },
  {
   "cell_type": "markdown",
   "metadata": {},
   "source": [
    "Import libraries"
   ]
  },
  {
   "cell_type": "code",
   "execution_count": 8,
   "metadata": {},
   "outputs": [],
   "source": [
    "import importlib\n",
    "import models.regene_models as regene_models\n",
    "importlib.reload(regene_models)\n",
    "import models.BLL_VI\n",
    "import torch\n",
    "import torch.nn as nn\n",
    "import torch.optim as optim\n",
    "import torchvision\n",
    "import torchvision.transforms as transforms\n",
    "import matplotlib.pyplot as plt\n",
    "import numpy as np\n",
    "import os"
   ]
  },
  {
   "cell_type": "markdown",
   "metadata": {},
   "source": [
    "Set the device"
   ]
  },
  {
   "cell_type": "code",
   "execution_count": 2,
   "metadata": {},
   "outputs": [
    {
     "name": "stdout",
     "output_type": "stream",
     "text": [
      "Using device: mps\n"
     ]
    }
   ],
   "source": [
    "if torch.cuda.is_available():\n",
    "    device = torch.device(\"cuda\")\n",
    "elif torch.backends.mps.is_available():\n",
    "    device = torch.device(\"mps\")\n",
    "else:\n",
    "    device = torch.device(\"cpu\")\n",
    "\n",
    "print(f\"Using device: {device}\")"
   ]
  },
  {
   "cell_type": "markdown",
   "metadata": {},
   "source": [
    "Load the Datasets"
   ]
  },
  {
   "cell_type": "code",
   "execution_count": 3,
   "metadata": {},
   "outputs": [],
   "source": [
    "# Load the MNIST dataset\n",
    "transform = transforms.Compose([transforms.ToTensor()])\n",
    "trainset = torchvision.datasets.MNIST(root='../data', train=True, download=True, transform=transform)\n",
    "testset = torchvision.datasets.MNIST(root='../data', train=False, download=True, transform=transform)\n",
    "\n",
    "trainloader = torch.utils.data.DataLoader(trainset, batch_size=64, shuffle=True, num_workers=2)\n",
    "testloader = torch.utils.data.DataLoader(testset, batch_size=64, shuffle=False, num_workers=2)"
   ]
  },
  {
   "cell_type": "markdown",
   "metadata": {},
   "source": [
    "Set the latent dimension"
   ]
  },
  {
   "cell_type": "code",
   "execution_count": 4,
   "metadata": {},
   "outputs": [],
   "source": [
    "latent_dim = 256"
   ]
  },
  {
   "cell_type": "markdown",
   "metadata": {},
   "source": [
    "Create a models directory if it doesn't exist"
   ]
  },
  {
   "cell_type": "code",
   "execution_count": 5,
   "metadata": {},
   "outputs": [],
   "source": [
    "# Create models directory in parent directory if it doesn't exist\n",
    "os.makedirs(os.path.join('..', 'model_saves'), exist_ok=True)\n",
    "model_saves_path = os.path.join('..', 'model_saves')"
   ]
  },
  {
   "cell_type": "markdown",
   "metadata": {},
   "source": [
    "## Training"
   ]
  },
  {
   "cell_type": "markdown",
   "metadata": {},
   "source": [
    "### Loading models"
   ]
  },
  {
   "cell_type": "markdown",
   "metadata": {},
   "source": [
    "Define and load the backbone and decoder"
   ]
  },
  {
   "cell_type": "code",
   "execution_count": 10,
   "metadata": {},
   "outputs": [
    {
     "name": "stderr",
     "output_type": "stream",
     "text": [
      "/var/folders/tb/ccwl9r592hn9v_xpq9s1bzlr0000gn/T/ipykernel_32535/1251005363.py:6: FutureWarning: You are using `torch.load` with `weights_only=False` (the current default value), which uses the default pickle module implicitly. It is possible to construct malicious pickle data which will execute arbitrary code during unpickling (See https://github.com/pytorch/pytorch/blob/main/SECURITY.md#untrusted-models for more details). In a future release, the default value for `weights_only` will be flipped to `True`. This limits the functions that could be executed during unpickling. Arbitrary objects will no longer be allowed to be loaded via this mode unless they are explicitly allowlisted by the user via `torch.serialization.add_safe_globals`. We recommend you start setting `weights_only=True` for any use case where you don't have full control of the loaded file. Please open an issue on GitHub for any issues related to this experimental feature.\n",
      "  decoder.load_state_dict(torch.load(os.path.join(model_saves_path, 'joint_decoder.pth'), map_location=device))\n",
      "/var/folders/tb/ccwl9r592hn9v_xpq9s1bzlr0000gn/T/ipykernel_32535/1251005363.py:7: FutureWarning: You are using `torch.load` with `weights_only=False` (the current default value), which uses the default pickle module implicitly. It is possible to construct malicious pickle data which will execute arbitrary code during unpickling (See https://github.com/pytorch/pytorch/blob/main/SECURITY.md#untrusted-models for more details). In a future release, the default value for `weights_only` will be flipped to `True`. This limits the functions that could be executed during unpickling. Arbitrary objects will no longer be allowed to be loaded via this mode unless they are explicitly allowlisted by the user via `torch.serialization.add_safe_globals`. We recommend you start setting `weights_only=True` for any use case where you don't have full control of the loaded file. Please open an issue on GitHub for any issues related to this experimental feature.\n",
      "  backbone.load_state_dict(torch.load(os.path.join(model_saves_path, 'joint_classifier.pth'), map_location=device))\n"
     ]
    },
    {
     "data": {
      "text/plain": [
       "<All keys matched successfully>"
      ]
     },
     "execution_count": 10,
     "metadata": {},
     "output_type": "execute_result"
    }
   ],
   "source": [
    "importlib.reload(regene_models)\n",
    "\n",
    "decoder = regene_models.Decoder(latent_dim=256, device=device)\n",
    "backbone = regene_models.Classifier(latent_dim=latent_dim, num_classes=10, device=device)\n",
    "\n",
    "decoder.load_state_dict(torch.load(os.path.join(model_saves_path, 'joint_decoder.pth'), map_location=device))\n",
    "backbone.load_state_dict(torch.load(os.path.join(model_saves_path, 'joint_classifier.pth'), map_location=device))"
   ]
  },
  {
   "cell_type": "markdown",
   "metadata": {},
   "source": [
    "Define and load the BLL model"
   ]
  },
  {
   "cell_type": "code",
   "execution_count": 12,
   "metadata": {},
   "outputs": [
    {
     "name": "stdout",
     "output_type": "stream",
     "text": [
      " [load_checkpoint] Loaded checkpoint from ../model_saves/mnist_bll_vi_models/BLL_VI_Joint_Decoder.pt\n"
     ]
    },
    {
     "name": "stderr",
     "output_type": "stream",
     "text": [
      "/Users/conor/Documents/College terms/College/Thesis/Thesis_Code_Minimised/MyImplementation/models/BLL_VI.py:143: FutureWarning: You are using `torch.load` with `weights_only=False` (the current default value), which uses the default pickle module implicitly. It is possible to construct malicious pickle data which will execute arbitrary code during unpickling (See https://github.com/pytorch/pytorch/blob/main/SECURITY.md#untrusted-models for more details). In a future release, the default value for `weights_only` will be flipped to `True`. This limits the functions that could be executed during unpickling. Arbitrary objects will no longer be allowed to be loaded via this mode unless they are explicitly allowlisted by the user via `torch.serialization.add_safe_globals`. We recommend you start setting `weights_only=True` for any use case where you don't have full control of the loaded file. Please open an issue on GitHub for any issues related to this experimental feature.\n",
      "  checkpoint = torch.load(path, map_location=self.device)\n"
     ]
    }
   ],
   "source": [
    "from models.BLL_VI import BayesianLastLayerVI\n",
    "importlib.reload(models.BLL_VI)\n",
    "\n",
    "bll_vi = BayesianLastLayerVI(\n",
    "    backbone=backbone,\n",
    "    input_dim=256,\n",
    "    output_dim=10,\n",
    "    device=device  \n",
    ")\n",
    "\n",
    "bll_vi.load_checkpoint(model_saves_path + '/mnist_bll_vi_models/BLL_VI_Joint_Decoder.pt')"
   ]
  },
  {
   "cell_type": "markdown",
   "metadata": {},
   "source": [
    "### Finetuning"
   ]
  },
  {
   "cell_type": "code",
   "execution_count": 17,
   "metadata": {},
   "outputs": [
    {
     "name": "stderr",
     "output_type": "stream",
     "text": [
      "/Users/conor/Documents/College terms/College/Thesis/Thesis_Code_Minimised/thesis-venv/lib/python3.9/site-packages/torch/optim/lr_scheduler.py:62: UserWarning: The verbose parameter is deprecated. Please use get_last_lr() to access the learning rate.\n",
      "  warnings.warn(\n"
     ]
    },
    {
     "name": "stdout",
     "output_type": "stream",
     "text": [
      "Epoch [1/5], Total Loss: 0.0171, Class Loss: 0.0616, Recon Loss: 0.0060, \u001b[31mtime: 23.47 seconds\n",
      "\u001b[0m\n",
      "\u001b[32m    Val Total Loss: 0.0230, Class Loss: 0.0883, Recon Loss: 0.0067\n",
      "\u001b[0m\n",
      "\u001b[34mbest validation loss\u001b[0m\n",
      "Epoch [2/5], Total Loss: 0.0172, Class Loss: 0.0624, Recon Loss: 0.0059, \u001b[31mtime: 23.20 seconds\n",
      "\u001b[0m\n",
      "\u001b[32m    Val Total Loss: 0.0235, Class Loss: 0.0896, Recon Loss: 0.0070\n",
      "\u001b[0m\n",
      "Epoch [3/5], Total Loss: 0.0171, Class Loss: 0.0619, Recon Loss: 0.0059, \u001b[31mtime: 23.56 seconds\n",
      "\u001b[0m\n",
      "\u001b[32m    Val Total Loss: 0.0220, Class Loss: 0.0836, Recon Loss: 0.0066\n",
      "\u001b[0m\n",
      "\u001b[34mbest validation loss\u001b[0m\n",
      "Epoch [4/5], Total Loss: 0.0171, Class Loss: 0.0618, Recon Loss: 0.0059, \u001b[31mtime: 24.80 seconds\n",
      "\u001b[0m\n",
      "\u001b[32m    Val Total Loss: 0.0240, Class Loss: 0.0933, Recon Loss: 0.0066\n",
      "\u001b[0m\n",
      "Epoch [5/5], Total Loss: 0.0172, Class Loss: 0.0624, Recon Loss: 0.0059, \u001b[31mtime: 23.39 seconds\n",
      "\u001b[0m\n",
      "\u001b[32m    Val Total Loss: 0.0264, Class Loss: 0.1052, Recon Loss: 0.0067\n",
      "\u001b[0m\n",
      "\u001b[31m   average time: 28.86 seconds\n",
      "\u001b[0m\n",
      " [save_checkpoint] Saved model state to ../model_saves/BLL_VI_Joint_Decoder_Finetuned_models/BLL_finetuned_693.pth\n",
      "Saved best models to:\n",
      "../model_saves/BLL_VI_Joint_Decoder_Finetuned_models/BLL_finetuned_693.pth\n",
      "../model_saves/BLL_VI_Joint_Decoder_Finetuned_models/decoder_finetuned_693.pt\n"
     ]
    }
   ],
   "source": [
    "import train\n",
    "importlib.reload(models.BLL_VI)\n",
    "importlib.reload(train)\n",
    "\n",
    "train_loss, val_loss = train.fine_tune_backbone(bll_vi, decoder, 'BLL_VI_Joint_Decoder_Finetuned', trainloader, testloader, num_epochs=5, lr=0.001, lambda_recon=0.8, model_saves_dir=model_saves_path, patience=10)"
   ]
  }
 ],
 "metadata": {
  "kernelspec": {
   "display_name": "thesis-venv",
   "language": "python",
   "name": "python3"
  },
  "language_info": {
   "codemirror_mode": {
    "name": "ipython",
    "version": 3
   },
   "file_extension": ".py",
   "mimetype": "text/x-python",
   "name": "python",
   "nbconvert_exporter": "python",
   "pygments_lexer": "ipython3",
   "version": "3.9.6"
  }
 },
 "nbformat": 4,
 "nbformat_minor": 2
}
